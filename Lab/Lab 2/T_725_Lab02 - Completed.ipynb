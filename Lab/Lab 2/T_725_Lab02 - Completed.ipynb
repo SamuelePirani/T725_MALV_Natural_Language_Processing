{
  "cells": [
    {
      "cell_type": "markdown",
      "metadata": {
        "id": "pajD7caf9pX7"
      },
      "source": [
        "# T-725 Natural Language Processing: Lab 2\n",
        "In today's lab, we will be working with text classification.\n",
        "\n",
        "To begin with, do the following:\n",
        "* Select `\"File\" > \"Save a copy in Drive\"` to create a local copy of this notebook that you can edit.\n",
        "* Select `\"Runtime\" > \"Run all\"` to run the code in this notebook."
      ]
    },
    {
      "cell_type": "markdown",
      "metadata": {
        "id": "RsSxs1XKhi_4"
      },
      "source": [
        "## List comprehensions in Python\n",
        "List comprehensions are a concise way of creating lists in Python, and take the form:\n",
        "\n",
        "```python\n",
        "[expression for item in iterable]\n",
        "```\n",
        "\n",
        "A list comprehension creates a new list by evaluating some expression for every item in a given iterable (such as a string, a list or a dictionary). Let's look at an example:"
      ]
    },
    {
      "cell_type": "code",
      "execution_count": 102,
      "metadata": {
        "colab": {
          "base_uri": "https://localhost:8080/"
        },
        "id": "wxB1Ip77hzFL",
        "outputId": "1d68a184-d26c-462e-9279-53ce188a4214"
      },
      "outputs": [
        {
          "output_type": "stream",
          "name": "stdout",
          "text": [
            "['In', 'a', 'hole', 'in', 'the', 'ground', 'there', 'lived', 'a', 'hobbit.']\n",
            "[2, 1, 4, 2, 3, 6, 5, 5, 1, 7]\n",
            "[2, 1, 4, 2, 3, 6, 5, 5, 1, 7]\n"
          ]
        }
      ],
      "source": [
        "sentence = \"In a hole in the ground there lived a hobbit.\"\n",
        "words = sentence.split()\n",
        "print(words)\n",
        "\n",
        "# Example of a list comprehension\n",
        "word_lengths = [len(word) for word in words]\n",
        "print(word_lengths)\n",
        "\n",
        "# This is equal to\n",
        "word_lengths = []\n",
        "for word in words:\n",
        "  word_lengths.append(len(word))\n",
        "\n",
        "print(word_lengths)"
      ]
    },
    {
      "cell_type": "markdown",
      "metadata": {
        "id": "aWw6IRBgkQbc"
      },
      "source": [
        "You can also add a conditional statement to list comprehensions, so that the expression will only be evaluated for items that meet a certain criteria:"
      ]
    },
    {
      "cell_type": "code",
      "execution_count": 103,
      "metadata": {
        "colab": {
          "base_uri": "https://localhost:8080/"
        },
        "id": "dSRG8kBdjZKA",
        "outputId": "7826546b-f9d1-4000-cf7b-d35e2def581c"
      },
      "outputs": [
        {
          "output_type": "stream",
          "name": "stdout",
          "text": [
            "['ground', 'hobbit.']\n"
          ]
        }
      ],
      "source": [
        "e_words = [word for word in words if len(word) > 5]\n",
        "print(e_words)"
      ]
    },
    {
      "cell_type": "markdown",
      "metadata": {
        "id": "qtTTJDJ5qZML"
      },
      "source": [
        "Python also has set and dictionary comprehensions:"
      ]
    },
    {
      "cell_type": "code",
      "execution_count": 104,
      "metadata": {
        "colab": {
          "base_uri": "https://localhost:8080/"
        },
        "id": "jniqHWPoqd8E",
        "outputId": "b36d6ae4-2a7b-42b7-b7b1-73673a7536cb"
      },
      "outputs": [
        {
          "output_type": "stream",
          "name": "stdout",
          "text": [
            "{'u', 'r', 'a', 'l', 'g', ' ', 'o', 't', 'v', 'h', '.', 'e', 'n', 'd', 'b', 'i'}\n",
            "6\n"
          ]
        }
      ],
      "source": [
        "lowercase_characters = {c.lower() for c in sentence}\n",
        "print(lowercase_characters)\n",
        "\n",
        "word_length = {word: len(word) for word in words}\n",
        "print(word_length['ground'])"
      ]
    },
    {
      "cell_type": "markdown",
      "metadata": {
        "id": "vY3Y_4kIbpaU"
      },
      "source": [
        "A nested list is a list within another list. You can iterate through nested lists in the following way:"
      ]
    },
    {
      "cell_type": "code",
      "execution_count": 105,
      "metadata": {
        "colab": {
          "base_uri": "https://localhost:8080/"
        },
        "id": "6AW8w46PbuFM",
        "outputId": "64c01653-045e-4cb3-d6b5-9b0b53654e09"
      },
      "outputs": [
        {
          "output_type": "execute_result",
          "data": {
            "text/plain": [
              "['Iceland',\n",
              " 'Germany',\n",
              " 'Spain',\n",
              " 'Japan',\n",
              " 'China',\n",
              " 'South Korea',\n",
              " 'Nigeria',\n",
              " 'Algeria',\n",
              " 'Angola']"
            ]
          },
          "metadata": {},
          "execution_count": 105
        }
      ],
      "source": [
        "# A list of countries and their capitals within different continents\n",
        "continents = [\n",
        "    [('Iceland', 'Reykjavík'), ('Germany', 'Berlin'), ('Spain', 'Madrid')],  # Europe\n",
        "    [('Japan', 'Tokyo'), ('China', 'Beijing'), ('South Korea', 'Seoul')],  # Asia\n",
        "    [('Nigeria', 'Abuja'), ('Algeria', 'Algiers'), ('Angola', 'Luanda')]  # Africa\n",
        "]\n",
        "\n",
        "# Create a list of all the countries in the previous list\n",
        "[country for continent in continents for (country, capital) in continent]"
      ]
    },
    {
      "cell_type": "markdown",
      "metadata": {
        "id": "mBrOT1vNcYZ0"
      },
      "source": [
        "## Sentiment analysis with NLTK\n",
        "[Chapter 6](https://www.nltk.org/book/ch06.html) of the NLTK book shows how the toolkit can be used to create document classifiers, including a sentiment analyzer. The NLTK includes the `movie_reviews` corpus, which contains 2,000 movie reviews. Half of the reviews have been labelled as **positive** and the other half as **negative**. Let's download it and take a look:"
      ]
    },
    {
      "cell_type": "code",
      "execution_count": 106,
      "metadata": {
        "colab": {
          "base_uri": "https://localhost:8080/"
        },
        "id": "Xx01nR8x9qgq",
        "outputId": "c811e395-3db9-47b0-91e3-f37c90b7e5b4"
      },
      "outputs": [
        {
          "output_type": "stream",
          "name": "stdout",
          "text": [
            "Categories: ['neg', 'pos']\n"
          ]
        },
        {
          "output_type": "stream",
          "name": "stderr",
          "text": [
            "[nltk_data] Downloading package punkt to /root/nltk_data...\n",
            "[nltk_data]   Package punkt is already up-to-date!\n",
            "[nltk_data] Downloading package movie_reviews to /root/nltk_data...\n",
            "[nltk_data]   Package movie_reviews is already up-to-date!\n"
          ]
        }
      ],
      "source": [
        "import nltk\n",
        "from nltk.corpus import movie_reviews\n",
        "nltk.download('punkt')\n",
        "\n",
        "nltk.download('movie_reviews')\n",
        "print(\"Categories:\", movie_reviews.categories())"
      ]
    },
    {
      "cell_type": "markdown",
      "metadata": {
        "id": "AppRxScjc9vx"
      },
      "source": [
        "As expected, there are two categories: `pos` for positive reviews and `neg` for negative reviews. For this particular corpus, each review is stored as a separate text file. To get a list of all the text files in the corpus, we can use `movie_reviews.fileids()`. We can also get a list of files for a specific category:"
      ]
    },
    {
      "cell_type": "code",
      "execution_count": 107,
      "metadata": {
        "colab": {
          "base_uri": "https://localhost:8080/"
        },
        "id": "GI8EjJoo_1jz",
        "outputId": "d0e35146-bc18-46a3-cf8f-d728320c0981"
      },
      "outputs": [
        {
          "output_type": "stream",
          "name": "stdout",
          "text": [
            "['pos/cv000_29590.txt', 'pos/cv001_18431.txt', 'pos/cv002_15918.txt', 'pos/cv003_11664.txt', 'pos/cv004_11636.txt']\n",
            "['neg/cv000_29416.txt', 'neg/cv001_19502.txt', 'neg/cv002_17424.txt', 'neg/cv003_12683.txt', 'neg/cv004_12641.txt']\n"
          ]
        }
      ],
      "source": [
        "pos_fileids = movie_reviews.fileids('pos')\n",
        "neg_fileids = movie_reviews.fileids('neg')\n",
        "\n",
        "print(pos_fileids[:5])  # The first 5 positive reviews\n",
        "print(neg_fileids[:5])  # The first 5 negative reviews"
      ]
    },
    {
      "cell_type": "markdown",
      "metadata": {
        "id": "OQ_C9_80AEDo"
      },
      "source": [
        "We can get a list of all the tokens in the corpus with `movie_reviews.words()`. We can also specify a filename to get a single tokenized review:"
      ]
    },
    {
      "cell_type": "code",
      "execution_count": 108,
      "metadata": {
        "colab": {
          "base_uri": "https://localhost:8080/"
        },
        "id": "vZ8mPNPGcnbN",
        "outputId": "3627ce1a-e4e4-4ffe-e515-32c7db465632"
      },
      "outputs": [
        {
          "output_type": "stream",
          "name": "stdout",
          "text": [
            "['films', 'adapted', 'from', 'comic', 'books', 'have', 'had', 'plenty', 'of', 'success']\n",
            "['plot', ':', 'two', 'teen', 'couples', 'go', 'to', 'a', 'church', 'party']\n"
          ]
        }
      ],
      "source": [
        "pos_reviews = [movie_reviews.words(fid) for fid in pos_fileids]\n",
        "neg_reviews = [movie_reviews.words(fid) for fid in neg_fileids]\n",
        "\n",
        "\n",
        "print(pos_reviews[0][:10])  # The first 10 tokens of the first positive review\n",
        "print(neg_reviews[0][:10])  # The first 10 tokens of the first negative review"
      ]
    },
    {
      "cell_type": "markdown",
      "metadata": {
        "id": "g04vosHorN6F"
      },
      "source": [
        "Some words, such as *brilliant* and *memorable*, are more strongly associated with positive reviews than negative ones. Similarly, *boring* and *unfunny* have a stronger association with negative reviews.\n",
        "\n",
        "Using the movie review corpus, we can train a classifier to predict whether a given review is positive or negative. The classifier extracts a set of *features* from every review, which are then used to make the classification. In this case, the features we use will be a dictionary that tells us whether each of the 2,000 most common words in the corpus is present within a review or not."
      ]
    },
    {
      "cell_type": "code",
      "execution_count": 109,
      "metadata": {
        "id": "UeixOJ-lu1fD"
      },
      "outputs": [],
      "source": [
        "# Create a set with 2,000 of the most frequent words in the movie review corpus\n",
        "movie_fd = nltk.FreqDist(movie_reviews.words())\n",
        "movie_words = {word for word, count in movie_fd.most_common(2000)}\n",
        "\n",
        "# For a given review (in the form of a list or set of tokens), create a\n",
        "# dictionary which tells us which words are present and which are not.\n",
        "def get_review_features(review):\n",
        "  review_words = set(review)\n",
        "  return {word: word in review_words for word in movie_words}"
      ]
    },
    {
      "cell_type": "code",
      "execution_count": 110,
      "metadata": {
        "colab": {
          "base_uri": "https://localhost:8080/"
        },
        "id": "6-r6kXma8-eB",
        "outputId": "e2da8cb2-26ea-4d94-886b-36267e244d63"
      },
      "outputs": [
        {
          "output_type": "stream",
          "name": "stdout",
          "text": [
            "'funny' is in the review: True\n",
            "'boring' is in the review: False\n"
          ]
        }
      ],
      "source": [
        "# Let's see how this works for the first positive review:\n",
        "example_features = get_review_features(pos_reviews[0])\n",
        "print(\"'funny' is in the review:\", example_features['funny'])\n",
        "print(\"'boring' is in the review:\", example_features['boring'])"
      ]
    },
    {
      "cell_type": "markdown",
      "metadata": {
        "id": "KK5rLkC7TCVC"
      },
      "source": [
        "Next, let's create a training set that we can use to train a Naive Bayesian classifier. The training set, in this case, is a list of tuples in the format `[(features, category), ...]`, where `features` is a dictionary from `get_review_features()` and `category` is either `pos` or `neg`, depending on whether the review is positive or negative. To get an idea of how well the classifier performs, we're going to reserve 10% of the reviews for testing. That means that we'll be training our classifier on 1800 examples and testing it on 200 examples."
      ]
    },
    {
      "cell_type": "code",
      "execution_count": 187,
      "metadata": {
        "id": "MqhiywiwrhxW",
        "colab": {
          "base_uri": "https://localhost:8080/"
        },
        "outputId": "17a09bd9-18c1-4c6d-b83a-f9a776eb3bcf"
      },
      "outputs": [
        {
          "output_type": "stream",
          "name": "stdout",
          "text": [
            "({'needs': True, 'edge': False, 'was': True, 'vegas': False, 'wrote': False, 'ice': False, 'control': False, 'rocky': False, 'steal': False, 'incredible': False, 'myers': False, 'himself': False, 'reason': False, 'violent': True, 'twists': False, 'used': False, 'minor': False, 'affleck': False, 'spawn': True, 'scientist': False, 'broken': False, 'him': True, 'novel': True, 'jason': False, 'material': False, 'match': False, 'begin': False, 'expectations': False, 'century': False, 'subject': True, 'west': False, 'mediocre': False, 'proves': False, 'can': True, 'directing': False, 'determined': False, 'thing': True, 'necessary': False, 'saving': False, 'stuart': False, 'became': False, 'exception': False, 'lee': False, 'else': False, 'struggle': False, 'suspense': False, 'master': False, 'latter': False, 'teenage': False, 'nights': False, 'directors': True, 'deal': False, 'so': True, 'steven': False, 'magic': False, 'nudity': False, 'these': False, 'media': False, 'x': False, 'mix': False, 'press': False, 'finally': False, 'offensive': False, 'provided': False, 'length': False, 'baldwin': False, 'protagonist': False, 'jackie': False, 'roberts': False, 'creating': False, 'faith': False, 'ugly': False, 'mysterious': True, 'starring': False, 'creature': False, 'event': False, 'make': True, 'sequences': False, 'fan': False, 'contrived': False, 'look': True, 'aren': False, 'either': False, 'witch': False, 'wonder': False, 'sympathetic': False, 'rescue': False, 'tale': False, 'mark': False, 'surprised': False, 'forward': False, 'returns': False, 'inspired': False, 'badly': False, 'okay': False, 'ability': False, '30': True, 'short': False, 'chance': False, 'set': True, 'strike': False, 'mentioned': False, 'adds': False, 'begins': False, 'without': False, 'title': False, 'joel': False, 'grand': False, 'not': True, 'managed': False, 've': False, 'interest': False, 'twist': False, 'supposedly': False, 'food': False, 'indeed': False, 'taking': False, 'each': False, 'anthony': False, 'russell': False, 'live': False, 'said': False, 'third': False, 'bizarre': False, 'student': False, 'find': True, 'now': True, 'during': False, 'south': False, 'crew': False, 'emotional': False, 'important': False, 'atmosphere': False, 'ultimately': False, 'files': False, 'common': False, 'getting': True, 'learn': False, 'camp': False, 'million': False, 'exciting': False, 'language': True, 'pain': False, 'cares': False, 'up': True, 'constantly': False, 'fact': False, 'green': False, 'coming': False, 'fly': False, 'special': False, 'obvious': False, 'past': True, 'such': True, 'win': False, 'individual': False, 'revenge': False, 'dealing': False, 're': True, 'recommend': False, 'worthy': False, 'promise': False, 'hour': False, 'ahead': False, 'plenty': True, 'joke': False, 'premise': False, 'night': False, 'clever': False, 'forces': False, 'nuclear': False, 'horrible': False, 'mystery': False, 'animation': False, 'credits': False, 'upon': True, '=': False, 'price': False, 'loves': False, 'critic': False, 'seconds': False, 'liked': False, 'leaves': False, 'company': False, 'whom': False, 'humour': False, 'characters': False, 'too': False, 'life': False, 'cage': False, 'mean': False, 'please': False, 'sharp': False, 'often': False, 'background': False, 'unique': True, 'normal': False, 'figures': False, 'sweet': False, 'rate': False, 'disaster': False, 'relationships': False, 'manage': False, 'toward': True, 'believable': False, 'william': False, 'puts': False, 'bug': False, 'steve': True, 'tommy': False, 'watching': False, 'talk': False, 'four': False, 'frightening': False, 'many': False, 'case': True, 'towards': False, 'let': False, 'isn': True, 'adult': False, 'began': False, 'focus': False, 'likable': False, 'leads': False, 'outside': False, 'confused': False, 'japanese': False, 'friends': False, 'husband': False, 'heart': False, 'meets': False, 'nick': False, 'non': False, 'smart': False, 'completely': True, 'killing': True, 'giving': False, 'intense': False, 'patch': False, 'guilty': False, 'comedy': False, '1997': False, 'heavy': False, 'immediately': False, 'jack': True, 'forgotten': False, 'but': True, 'science': False, 'original': True, 'weird': False, 'truman': False, 'element': False, 'even': True, 'mike': False, 'terms': False, 'black': True, 'famous': False, 'accident': False, 'were': False, 'wedding': False, 'scott': False, 'sexy': False, 'idea': False, 'still': False, 'court': False, 'sexual': False, 'finds': False, 'writing': False, 'country': False, 'wayne': False, 'sean': False, 'oh': False, 'satire': False, 'current': False, 'brilliant': False, 'street': True, 'thus': False, 'notice': False, 'back': True, 'singer': False, 'genius': False, 'jones': False, 'utterly': False, 'basic': False, 'starts': False, 'version': False, 'batman': True, 'expect': False, 'shots': False, 'screen': False, 'very': True, 'last': False, 'austin': False, '10': False, 'unfunny': False, 'rival': False, 'forget': False, 'nowhere': False, 'surprise': True, 'here': True, 'due': False, 'slapstick': False, 'quality': False, 'how': True, 'terrific': False, 'hoping': False, 'nor': False, 'above': False, 'gone': False, 'helps': False, 'may': False, 'written': False, 'films': True, 'recently': False, 'child': False, 'get': True, 'felt': False, 'fail': False, 'cool': False, 'came': False, 'flick': False, 'babe': False, 'l': False, 'fear': False, 'offer': False, 'avoid': False, 'owner': False, 'oscar': True, 'message': False, 'why': False, 'song': True, 'leaving': False, 'as': True, 'john': False, 'it': True, 'romance': False, 'll': True, 'trek': False, 'script': False, 'de': False, 'matter': False, 'routine': False, 'big': True, 'depth': False, 'attitude': False, 'complete': False, 'somewhere': False, 'jokes': False, 'goes': False, 'one': True, 'goofy': False, 'really': True, 'same': False, 'first': True, 'business': False, 'dollars': False, 'therefore': False, 'pop': False, 'lucky': False, 'made': True, 'sense': True, 'spends': False, 'plan': False, 'addition': False, 'surprising': True, 'jedi': False, 'born': False, 'drug': True, 'final': False, 'blame': True, 'join': False, 'kid': False, 'think': True, 'vampires': False, 'considering': False, 'visit': False, 'device': False, 'trust': False, 'trying': False, 'probably': False, 'who': True, 'substance': False, 'turning': True, 'support': False, 'innocent': False, 'camera': False, 'williams': False, 'suddenly': False, 'more': True, 'meanwhile': False, 'lord': False, 'both': True, 'york': False, '\"': True, 'desperate': False, 'daughter': False, 'jeff': False, 'wonderfully': False, 'horror': False, 'hong': False, 'hands': False, 'lots': False, 'looking': False, 'lead': False, 'dream': False, 'yet': False, 'superb': False, 'end': True, 'academy': False, 'fighting': False, 'lynch': False, 'gun': False, 'situation': False, 'am': False, 'hill': False, 'about': True, 'times': True, 'zero': False, 'post': False, 'annoying': False, 'greatest': False, 'land': False, 'hunt': False, 'turns': True, 'remake': False, 'united': False, 'them': False, 'when': True, 'send': False, 'jean': False, 'bit': False, 'trailer': False, 'new': True, 'provide': False, 'leave': False, 'pleasure': False, 'players': False, 'dialogue': False, 'force': False, 'remember': False, '1998': False, 'gary': False, 'damn': False, 'park': False, 'clear': False, 'catherine': False, 'robert': False, 'years': False, 'good': True, 'talented': False, 'together': False, 'effects': False, 'also': False, 'mind': False, 'easily': False, 'peter': True, 'someone': False, 'air': False, 'police': True, 'poorly': False, 'party': False, 'buy': False, 'father': False, 'cameo': False, 'most': False, 'deals': False, 'true': False, 'appears': False, 'is': True, 'presented': False, 'army': False, 'machine': False, 'taylor': False, 'spice': False, 'somehow': False, 'billy': False, 'test': False, '!': False, 'mr': False, 'dreams': True, 'went': False, 'audiences': False, 'decides': False, 'means': False, 'parents': False, 'color': True, 'there': True, 'willing': False, 'exist': False, 'cute': False, 'spirit': False, 'season': False, 'generated': False, 'center': False, 'kelly': True, 'super': False, 'pick': False, 'fame': False, 'best': False, 'among': False, 'mother': False, 'seems': True, 'ford': False, 'enjoy': False, 'screenplay': False, 'hot': False, 'us': False, 'target': False, 'cinematic': False, 'months': False, 'actors': False, 'naked': False, 'shot': False, 'unless': False, 'little': True, 'acting': True, 'fashion': False, 'feature': False, 'next': False, 'johnny': True, 'interesting': True, 'girl': False, '[': False, 'tarantino': False, 'engaging': False, 'picture': False, 'english': False, 'result': False, 'eventually': False, 'impact': False, 'six': False, 'time': True, 'tired': False, 'bill': False, 'cinematographer': True, 'definitely': False, 'mars': False, 'documentary': False, 'college': False, 'sets': False, 'near': False, 'sadly': False, 'ends': False, 'date': False, 'points': False, 'well': True, 'journey': False, 'mel': False, 'villains': False, 'love': True, 'follow': False, 'talents': False, 'hollywood': False, 'sent': False, 'waiting': False, 'bad': True, 'guy': False, 'starship': False, 'top': True, 'hate': False, 'do': True, '&': False, 'book': True, 'various': False, 'conclusion': False, 'like': True, 'titanic': False, 'affair': False, 'jail': False, 'sees': False, 'suppose': False, 'r': True, 'flaws': False, 'interested': False, 'town': False, 'grant': False, 'discovers': False, 'off': False, 'prison': False, 'got': False, 'fairly': False, 'her': True, 'alone': False, 'give': False, 'theater': False, 'yeah': False, 'destroy': False, 'image': False, 'car': True, '4': False, 'alien': False, '$': False, '--': False, 'small': False, 'scene': False, 'check': False, 'put': False, 'better': True, 'watch': True, 'water': False, 't': True, 'hidden': True, 'building': False, \"'\": True, 'visually': False, 'race': False, 'charm': False, 'tells': False, 'fair': False, 'expecting': False, 'alive': False, 'headed': False, 'overall': False, 'hopes': False, 'brings': False, 'rules': False, 'ed': False, 'dennis': False, 'career': False, 'mood': False, 'lot': False, 'missing': False, 'parody': False, 'porn': False, 'm': False, 'energy': False, 'beauty': False, 'soundtrack': False, 'today': False, '5': False, 'brothers': True, 'come': False, 'though': True, 'seven': False, 'produced': False, 'cinematography': False, 'whether': True, 'war': False, 'helen': False, '+': False, 'learns': False, 'cartoon': False, 'exactly': False, 'drive': False, 'bus': False, 'the': True, 'jay': False, 'industry': False, 'lack': False, 'local': False, 'subtle': False, 'america': False, 'plus': False, 'loving': False, 'wasted': False, 'modern': False, 'jr': False, '9': False, 'viewer': False, 'intriguing': False, 'shallow': False, 'rarely': False, 'agent': False, 'deep': False, 'flynt': False, 'awful': False, 'development': False, 'confusing': False, 'way': False, 'driver': False, 'two': False, 'changes': False, 'effect': False, 'cinema': False, 'carry': False, 'direct': True, 'technical': False, 'wild': False, 'filmed': False, 'funniest': False, 'thrown': False, 'approach': False, 'singing': False, 'state': False, 'younger': False, 'ideas': False, 'family': False, 'boy': False, 'godzilla': False, 'future': False, 'victim': False, 'totally': False, 'theaters': False, 'names': False, 'works': False, 'j': False, 'flat': False, 'fall': False, 'feeling': False, 'scary': False, 'carrey': False, 'blue': False, 'making': False, 'disney': False, 'public': False, 'previous': False, 'period': False, 'sub': False, 'brother': False, 'killer': True, 'ray': False, 'edward': False, 'era': True, 'game': False, 'aliens': False, 'martin': True, 'thought': False, 'hold': False, 'delivers': False, '?': True, ',': True, 'critics': False, 'crime': True, 'members': False, 'government': False, 'c': False, 'epic': False, 'thin': False, 'travel': False, 'touch': False, 'sex': False, 'conflict': False, 'because': True, 'brian': False, 'worse': False, 'williamson': False, 'hero': False, 'meet': False, 'decision': False, 'speak': False, 'just': False, 'ups': False, 'admit': False, 'least': False, 'lover': False, 'kong': False, 'shows': False, 'days': True, 'pretty': False, 'hard': False, 'comedies': False, 'home': False, 'everyone': False, 'purpose': False, 'average': False, 'liners': False, 'professional': False, 'earlier': False, 'ill': False, 'middle': False, 'law': False, 'features': True, 'hair': False, 'action': False, '-': True, 'ok': False, 'style': False, 'note': False, 'throughout': False, 'visual': False, 'seen': False, 'cruise': False, 'evil': False, 'none': False, 'speaking': False, 'silly': False, 'willis': False, 'difficult': False, 'stuck': False, 'elizabeth': False, 'otherwise': False, '(': True, 'tension': False, 'laughs': False, 'allows': False, 'comes': False, 'generally': False, 'didn': False, 'than': True, 'natural': False, 'imagination': False, 'movie': False, 'over': True, 'moore': True, 'filmmakers': False, 'search': False, 'professor': False, 'hit': False, 'everything': False, 'themselves': False, 'although': False, 'sandler': False, 'wall': False, 'available': False, 'henry': False, 'pictures': False, 'high': False, 'history': False, 'things': False, 'loses': False, 'fire': False, 'doubt': False, 'great': True, 'hear': False, 'young': False, 'rising': False, 'nearly': True, 'blood': False, 'appear': False, 'subplot': False, 'political': False, 'creepy': True, 'bringing': False, 'others': False, 'writer': False, 'angry': False, '90': False, 'carpenter': False, 'ben': False, 'experience': False, 'seemingly': False, 'reveal': False, 'danny': False, 's': True, 'boring': False, 'producer': False, 'plays': False, 'joan': False, 'saw': True, 'fans': False, 'place': True, 'model': False, 'ms': False, 'inevitable': False, 'scream': False, 'track': False, 'add': False, 'kate': False, 'sight': False, 'box': False, 'gay': False, 'winning': False, 'for': True, 'seeing': False, 'cop': False, 'beautiful': False, 'bright': False, 'formula': False, 'share': False, 'bar': False, 'usual': False, 'convincing': False, 'told': False, 'known': False, 'likely': False, 'directly': False, 'decide': False, 'ones': False, 'genuine': False, 'appealing': False, 'thinking': False, 'heroes': False, 'double': False, 'popular': False, 'aspect': False, 'pieces': False, 'called': True, 'bob': False, 'walk': False, 'death': False, 'sequel': False, 'own': False, 'mission': False, 'answer': False, 'hall': False, 'hotel': False, 'lies': False, 'any': False, 'heaven': False, 'al': False, 'fantastic': False, 'its': True, 'named': True, 'total': False, 'b': False, 'by': True, 'disturbing': False, 'states': False, 'dance': False, 'michael': True, 'budget': False, 'feet': False, 'perfect': False, 'fi': False, 'happen': False, 'appreciate': False, 'across': False, 'beach': False, 'choice': False, 'places': False, 'sound': False, 'caught': False, 'partner': False, 'act': False, 'humans': False, 'claire': False, 'creates': False, 'wants': False, 'fantasy': False, 'laughing': False, 'don': True, 'lucas': False, 'storyline': False, 'chris': False, 'floor': False, 'won': True, 'quite': False, 'see': True, 'sometimes': False, 'takes': False, '.': True, 'attack': False, 'lines': False, 'already': False, 'eyes': False, 'itself': False, 'characterization': False, 'piece': False, 'before': True, 'plane': False, 'few': False, 'tom': False, 'appropriate': False, 'space': False, 'and': True, 'radio': False, 'write': False, 'virtually': False, 'pace': False, 'almost': True, 'entirely': False, 'art': False, 'women': False, 'equally': False, 'whatever': False, 'direction': False, 'on': True, 'road': False, 'physical': False, 'eye': False, 'in': True, 'he': True, 'sure': False, 'low': False, 'stage': False, 'whole': True, 'ever': False, 'originally': False, 'offers': False, 'football': False, 'figure': False, 'costumes': False, 'different': False, 'twenty': False, 'reality': False, 'present': False, 'woods': False, 'ass': False, 'musical': False, 'impossible': False, 'wars': False, 'issues': False, 'down': False, 'possible': False, 'martial': False, 'tried': False, 'remarkable': False, 'actual': False, 'situations': False, 'led': False, 'core': False, 'forever': False, 'including': False, 'minutes': False, 'ready': False, 'fit': False, 'will': True, 'personality': False, 'girls': False, 'e': False, 'week': False, 'standard': False, 'quick': False, 'trip': False, 'wit': False, 'breaking': False, 'rose': False, 'video': False, 'jim': False, 'try': False, 'detective': False, 'whose': False, 'tell': False, 'british': True, 'gang': False, 'pointless': False, 'charles': False, 'children': False, 'rich': False, 'being': False, 'cut': False, 'call': False, 'happens': False, 'face': False, 'presence': False, 'club': False, 'occasionally': False, 'award': False, 'neither': False, 'beat': False, 'absolutely': False, 'annie': False, 'amount': False, 'ghost': True, 'second': False, 'real': False, '100': False, 'couldn': False, 'dude': False, 'other': True, 'no': True, 'effective': False, 'done': False, 'motion': False, 'soul': False, 'allen': True, 'order': False, 'hand': False, 'american': False, 'inside': False, 'seagal': False, 'impressive': False, 'thankfully': False, 'mess': False, 'ride': False, 'happy': False, 'basically': False, 'design': True, 'once': False, 'always': False, 'apes': True, 'killed': False, 'powers': False, 'memorable': False, 'under': False, 'review': False, 'touching': False, 'position': False, 'opens': False, 'keep': False, 'took': False, 'released': False, 'spent': False, 'paced': False, 'themes': False, 'story': False, 'based': False, 'include': False, 'haunting': False, 'large': False, 'after': True, 'movies': False, 'desire': False, 'series': True, 'poor': False, 'stands': False, 'fast': False, 'jackson': True, 'room': False, 'surprisingly': False, 'decided': False, 'problem': False, 'huge': False, 'long': True, 'cameron': False, 'light': False, 'might': True, 'quiet': False, 'apparent': False, 'spectacular': False, 'crash': False, 'gangster': False, 'brought': True, 'doesn': False, 'project': False, 'school': False, 'woman': False, 'star': True, 'forced': False, 'nasty': False, 'sci': False, 'cold': False, 'amy': False, 'bond': False, 'species': False, 'sort': False, 'sorry': False, 'driven': False, 'usually': False, 'main': False, 'task': False, 'disappointing': False, 'truth': False, 'jane': False, 'woo': False, 'plot': False, 'surface': False, 'lets': False, 'me': True, 'rock': False, 'window': False, 'miss': False, 'realized': False, 'general': False, 'phantom': False, 'climax': False, 'fascinating': False, 'station': False, 'gave': False, 'generation': False, 'summer': False, 'king': False, 'suspect': False, 'added': False, 'if': True, 'charming': False, 'sequence': False, 'brain': False, 'comparison': True, 'jerry': False, 'chemistry': False, 'horse': False, 'streets': False, 'alex': False, 'potential': False, 'placed': False, 'obviously': False, 'enjoyed': False, 'full': False, 'faces': False, 'say': True, 'pair': False, 'phone': False, 'moral': False, 'filmmaker': False, 'rest': False, 'playing': False, 'chan': False, 'anti': False, 'particularly': False, 'meeting': False, 'alan': True, 'shock': False, 'pass': False, 'mary': True, 'matters': False, 'thoroughly': True, 'red': False, 'leader': False, 'debut': False, 'creative': False, 'haven': False, 'aspects': False, 'given': False, 'difference': False, 'process': False, 'wanted': False, 'wish': False, 'head': False, 'adventure': False, 'five': False, 'eccentric': False, 'wouldn': False, 'relief': False, 'questions': False, 'smile': False, '/': True, 'show': False, 'odd': True, 'read': False, 'comedic': False, 'attractive': False, 'bored': False, 'woody': False, 'running': False, 'instead': False, 'shakespeare': True, 'dad': False, 'elements': False, 'finding': False, 'boys': False, 'lady': False, 'attention': False, 'accent': True, ':': True, 'chinese': False, 'explain': False, 'voice': False, 'fate': False, 'single': False, 'person': False, 'studio': False, 'god': False, 'surprises': False, 'latest': False, 'worked': False, 'setting': False, 'news': False, 'provides': False, 'vincent': False, 'myself': False, 'ways': False, 'yes': False, 'yourself': False, 'christmas': False, 'fare': False, 'hunting': False, 'watched': False, 'right': False, 'far': False, 'working': False, 'level': True, 'door': False, 'suspects': False, 'officer': False, 'douglas': False, 'words': True, 'typical': False, 'fox': False, 'aside': False, 'guard': False, 'deliver': False, 'personal': False, 'where': True, 'while': False, 'mad': True, 'rather': False, 'classic': False, 'nothing': True, 'powerful': False, 'fight': False, 'actually': True, 'fully': False, 'kills': False, 'this': True, 'product': False, 'complex': False, 'looks': True, 'd': False, 'allow': False, 'bland': False, 'actor': False, 'literally': False, 'move': False, 'needed': False, 'throw': False, 'old': False, 'grace': False, 'director': False, 'dangerous': False, 'contains': False, 'what': False, 'of': True, 'list': False, 'jimmy': False, 'brief': False, ';': False, 'play': False, 'angels': False, 'honest': False, 'murphy': False, 'close': False, 'technology': False, 'viewers': True, 'scale': False, 'villain': False, 'impression': False, 'dark': True, 'predictable': False, 'imagine': False, 'discover': False, 'blade': False, 'entertaining': False, 'carter': False, 'crowd': True, 'die': False, 'character': False, '*': False, 'with': True, 'moments': False, 'jennifer': False, 'walking': False, 'damme': False, 'society': True, 'becomes': False, 'dull': False, 'several': False, 'laugh': False, 'expected': False, 'virus': False, 'content': True, 'visuals': False, 'anything': True, 'pg': False, 'humanity': False, 'power': False, 'unfortunately': False, 'arnold': False, 'kids': True, 'girlfriend': False, 'security': False, 'cross': False, 'turn': False, 'calls': True, 'violence': True, 'rush': False, '6': False, 'sounds': False, 'away': False, 'familiar': False, 'free': False, 'supposed': False, 'catch': False, 'city': False, 'she': True, 'queen': False, 'teacher': False, 'highly': False, 'following': False, 'princess': False, 'nobody': False, 'certain': False, 'contact': False, 'apparently': False, 'straight': False, 'happening': False, 'thriller': False, 'onto': True, 'successful': False, 'particular': False, 'perhaps': False, 'to': True, 'emotion': False, 'pure': False, 'dr': False, 'nature': False, 'laughable': False, 'explained': False, 'work': False, ']': False, 'emotions': False, 'does': False, 'arts': False, 'run': False, 'feel': False, 'falling': False, 'saying': True, 'amusing': False, 'constant': False, 'captain': False, 'shoot': False, 'much': True, 'stories': False, 'etc': False, 'we': False, 'doctor': False, 'loud': False, 'chase': False, 'remains': False, 'drama': False, 'sitting': False, 'pay': False, 'self': False, 'understand': False, 'hopkins': False, 'attempts': False, 'matthew': False, 'drawn': False, 'reading': False, '7': False, 'been': True, 'detail': False, 'community': False, 'telling': False, 'production': True, 'since': False, 'create': False, 'their': True, 'system': False, 'especially': False, 'escape': False, 'reasons': True, '3': False, 'side': False, 'kevin': False, 'living': False, 'filmmaking': False, 'my': False, 'form': False, 'adaptation': False, 'o': False, ')': True, 'concept': False, 'sit': False, 'your': False, 'humorous': False, 'dimensional': False, 'graphic': True, 'holds': True, 'extreme': False, 'crazy': True, 'toy': False, 'dvd': False, 'band': False, 'appearance': True, 'an': True, 'entertainment': False, 'clearly': False, 'only': False, 'mostly': False, 'producers': False, 'devil': False, 'genre': False, 'kiss': False, 'three': False, 'supporting': True, 'sick': False, 'serious': False, 'credit': False, 'return': False, 'giant': False, 'biggest': False, 'bloody': False, '8': False, 'scenes': True, 'central': False, 'instance': False, 'respect': False, 'identity': True, 'male': False, 'becoming': False, 'fails': False, 'major': False, 'which': False, 'solid': True, 'narrative': False, 'moves': False, 'built': False, 'late': False, 'i': True, 'hospital': False, 'u': False, 'trouble': False, 'mrs': False, 'gibson': False, 'key': False, 'vampire': False, 'deserves': False, 'numerous': False, 'urban': False, 'soldiers': False, 'until': True, 'events': False, 'easy': False, 'created': True, 'able': False, 'plans': False, 'images': False, 'witty': False, 'taste': False, 'soon': False, 'cast': False, 'worth': False, 'roles': True, 'film': True, 'longer': False, 'mulan': False, 'shame': False, 'knows': False, 'baby': False, 'animated': False, 'charlie': False, 'performances': False, 'cheesy': False, 'decent': False, 'heard': False, 'miller': False, 'are': True, 'kill': False, 'winner': True, 'perfectly': False, 'acts': True, 'turned': False, 'between': False, 'wise': False, 'smith': False, 'pathetic': False, 'relationship': False, 'gives': False, 'hilarious': False, 'f': False, 'includes': True, 'breaks': False, 'superior': False, 'crap': False, 'ridiculous': False, '2': True, 'his': False, 'body': False, 'mouth': True, 'lost': False, 'blair': False, 'all': True, '1999': False, 'prove': False, 'taken': False, 'rating': False, 'player': False, 'course': True, 'number': False, 'meaning': False, 'worst': False, 'intelligent': False, 'something': False, 'found': False, 'tries': True, 'david': False, 'follows': False, 'runs': False, 'treat': False, 'dumb': False, 'played': False, 'realize': False, 'every': False, 'people': False, 'extremely': False, 'filled': False, '000': False, 'enough': True, 'behind': True, 'travolta': False, 'sign': False, 'class': False, 'pull': False, 'grows': False, 'ask': False, 'military': False, 'results': False, 'teen': False, 'from': True, 'music': True, 'waste': False, 'changed': False, 'hits': False, 'unlike': False, 'score': False, 'growing': False, 'television': False, 'out': False, 'nicely': False, 'earth': False, 'dies': False, 'against': False, 'president': False, 'type': False, 'fiction': False, 'know': False, 'directed': False, 'would': True, 'older': False, 'ended': False, 'paul': False, 'lacks': False, 'makes': False, 'cult': False, 'decade': False, 'presents': False, 'speech': False, 'favorite': False, 'kept': False, 'another': True, 'continues': False, 'wondering': False, 'shown': False, 'wasn': True, 'viewing': False, 'dramatic': False, 'ago': False, 'pulp': False, 'job': True, 'hanks': False, 'g': False, 'wrong': False, 'simon': False, 'social': False, 'limited': False, 'later': False, 'clich': False, 'matrix': False, 'moving': False, 'compared': False, 'island': False, 'strength': False, 'within': False, 'survive': False, 'ten': False, 'max': False, 'lame': False, 'board': False, 'ship': False, 'barely': False, 'change': False, 'anne': False, 'married': False, 'theme': False, 'manages': False, 'bruce': False, 'simple': False, 'our': False, 'friend': False, 'guess': False, 'legend': False, 'actions': False, 'monster': False, 'romantic': False, 'be': True, 'sam': False, 'female': False, 'son': False, 'go': True, 'asked': False, 'opposite': False, 'tone': False, 'feels': False, 'tim': True, 'realizes': False, 'quickly': False, 'slowly': False, 'welcome': False, 'reeves': False, 'entire': False, 'ted': False, 'front': False, 'example': False, 'mob': False, 'hardly': False, 'cause': False, 'early': False, 'fine': False, 'left': False, 'merely': False, 'beyond': False, 'ground': False, 'train': False, 'fellow': False, 'talking': False, 'stand': False, 'sarah': False, 'tarzan': False, 'never': True, 'cannot': False, 'day': False, 'buddy': False, 'uses': False, 'funny': True, 'acted': False, '20': False, 'details': False, 'name': False, 'christopher': False, 'spielberg': False, 'performance': True, 'audience': False, 'battle': False, 'moment': False, 'safe': False, 'leading': False, 'eight': False, 'folks': False, 'intelligence': False, 'criminal': False, 'you': True, 'opening': False, 'likes': False, 'julie': False, 'involved': False, 'some': False, 'nice': False, 'adults': False, 'fat': False, 'flicks': False, 'information': False, 'world': True, 'brooks': False, 'co': False, 'brown': False, 'question': True, 'or': True, 'failed': False, 'compelling': False, 'must': False, 'sister': False, 'white': True, 'roger': False, 'george': False, 'tony': False, 'office': False, 'driving': False, 'meant': False, 'gore': True, 'ultimate': False, 'murder': False, 'realistic': False, 'boat': False, 'stuff': False, 'van': False, 'bring': False, 'has': True, 'marriage': False, 'portrayed': False, 'chosen': False, 'rare': False, 'harry': False, 'that': True, 'strange': False, 'dead': False, 'had': True, 'year': False, 'tv': False, 'parts': False, 'actress': False, 'french': False, 'stock': False, 'teenagers': False, 'stone': False, 'weak': False, 'julia': False, 'writers': False, 'believes': False, 'happened': False, 'should': False, 'computer': False, 'involving': False, 'hurt': False, 'start': False, 'anyway': False, 'excellent': False, 'wait': False, 'going': False, 'hasn': False, 'then': False, 'those': False, 'cliches': False, 'private': False, 'thinks': False, 'menace': True, 'failure': False, 'excuse': False, 'overly': False, 'house': False, 'human': False, 'along': False, 'finale': False, 'gold': False, 'lawyer': False, 'skills': False, 'introduced': False, 'boyfriend': False, 'cheap': False, 'man': False, 'beast': False, 'slightly': False, 'rated': False, 'could': True, 'dog': False, 'apartment': False, 'lose': False, 'comic': True, 'believe': False, 'attempt': True, 'troopers': False, '`': False, 'wife': False, 'opportunity': False, 'half': True, 'developed': False, 'line': False, 'thanks': False, 'weren': False, 'cover': False, 'fresh': False, 'despite': False, 'they': True, 'started': False, 'through': True, 'involves': False, 'guys': False, 'silent': False, 'anderson': False, 'simply': False, 'stop': False, 'slasher': False, 'burton': True, 'fbi': False, 'somewhat': False, 'problems': False, 'flying': False, 'herself': False, 'humor': False, 'release': False, 'accept': False, 'adams': False, 'screenwriter': False, 'featuring': False, 'ii': True, 'build': False, 'says': False, 'seriously': False, 'further': False, 'standing': False, 'speed': False, 'consider': False, 'fun': False, 'goal': False, 'footage': False, 'slow': False, 'damon': False, 'incredibly': False, 'rent': False, 'minute': False, 'richard': False, '13': False, 'save': False, 'gets': False, 'except': False, 'frank': False, 'view': False, 'emotionally': False, 'effort': False, 'reviews': False, 'men': False, 'masterpiece': False, 'former': False, 'hey': False, 'role': False, 'beginning': False, 'enjoyable': False, 'considered': False, 'larry': False, 'rob': False, 'bottom': False, 'money': False, 'point': True, 'anyone': True, 'falls': False, 'keeps': False, 'member': False, 'outstanding': False, 'fake': False, 'use': False, 'secret': True, 'team': False, 'artist': False, 'opinion': False, 'hope': False, 'doing': False, 'wonderful': False, 'asks': False, 'using': False, 'amazing': False, 'strong': True, 'heads': False, 'having': False, 'break': False, 'stars': False, 'shouldn': False, 'books': True, 'around': False, 'stay': False, 'boss': False, 'episode': False, 'seem': False, 'stephen': False, 'ryan': False, '1996': False, 'feelings': False, 'plain': False, 'cops': False, 'again': False, 'editing': False, 'care': False, 'culture': False, 'certainly': True, 'did': True, 'terrible': False, 'died': False, 'responsible': False, 'songs': False, 'portrayal': False, 'joe': True, 'mention': False, 'sad': False, 'spend': False, 'ending': True, 'casting': True, 'success': True, 'serve': False, 'showing': False, 'gags': False, 'need': False, 'similar': False, 'washington': False, 'into': True, 'open': False, 'intended': False, 'talent': False, 'count': False, 'possibly': False, 'however': True, 'la': False, 'field': False, 'guns': False, 'shooting': False, 'stunning': False, 'word': True, 'become': False, '1': False, 'fault': False, 'want': False, 'kind': False, 'store': False, 'less': False, 'drugs': False, 'keeping': True, 'help': False, 'frame': False, 'truly': False, 'succeeds': False, 'bunch': False, 'loved': False, 'couple': False, 'apart': False, 'part': True, 'eddie': True, 'recent': False, 'cash': False, 'have': True, 'twice': False, 'wide': False, 'robin': False, 'lives': False, 'james': False, 'planet': True, 'take': False, 'at': True, 'ex': False, 'tough': False, 'seemed': False, 'hours': False, 'stupid': False, 'followed': False, 'looked': False, 'campbell': True, 'thomas': False, 'seat': False, 'maybe': False, 'group': False, 'dying': False, 'sheer': False, 'step': False, 'patrick': False, 'manner': False, 'reach': False, 'a': True, 'snake': False, 'hell': True, 'age': False, 'appeal': False, 'matt': False, 'knew': False}, 'pos')\n"
          ]
        }
      ],
      "source": [
        "pos_examples = [(get_review_features(review), 'pos') for review in pos_reviews]\n",
        "neg_examples = [(get_review_features(review), 'neg') for review in neg_reviews]\n",
        "\n",
        "movie_training = pos_examples[:900] + neg_examples[:900]  # 1800 examples total\n",
        "movie_test = pos_examples[900:] + neg_examples[900:]  # 200 examples total\n",
        "\n",
        "print(movie_training[0])"
      ]
    },
    {
      "cell_type": "markdown",
      "metadata": {
        "id": "Jfty2sigVuf3"
      },
      "source": [
        "Now we have everything we need to train our classifier."
      ]
    },
    {
      "cell_type": "code",
      "execution_count": 112,
      "metadata": {
        "id": "zAqq1Z72wLHl"
      },
      "outputs": [],
      "source": [
        "movie_classifier = nltk.NaiveBayesClassifier.train(movie_training)"
      ]
    },
    {
      "cell_type": "markdown",
      "metadata": {
        "id": "3inpPaRDV0_6"
      },
      "source": [
        "How well does it perform on the test set?"
      ]
    },
    {
      "cell_type": "code",
      "execution_count": 113,
      "metadata": {
        "colab": {
          "base_uri": "https://localhost:8080/"
        },
        "id": "y7eJMkqdw7Eb",
        "outputId": "68e43107-4724-4a6c-aee2-dc541e2fd6e2"
      },
      "outputs": [
        {
          "output_type": "stream",
          "name": "stdout",
          "text": [
            "Accuracy: 0.815\n"
          ]
        }
      ],
      "source": [
        "print(\"Accuracy:\", nltk.classify.accuracy(movie_classifier, movie_test))"
      ]
    },
    {
      "cell_type": "markdown",
      "metadata": {
        "id": "ZxakIFH5WNH_"
      },
      "source": [
        "The classifier achieves an accuracy of 81.5%. Let's take a look at which words have the biggest weights:"
      ]
    },
    {
      "cell_type": "code",
      "execution_count": 114,
      "metadata": {
        "colab": {
          "base_uri": "https://localhost:8080/"
        },
        "id": "ibMPC0QCxefo",
        "outputId": "9c6ec1ef-1465-4ac2-8eb5-1f7a4f2d74c8"
      },
      "outputs": [
        {
          "output_type": "stream",
          "name": "stdout",
          "text": [
            "Most Informative Features\n",
            "             outstanding = True              pos : neg    =     15.6 : 1.0\n",
            "                   mulan = True              pos : neg    =      9.0 : 1.0\n",
            "             wonderfully = True              pos : neg    =      7.1 : 1.0\n",
            "                  seagal = True              neg : pos    =      7.0 : 1.0\n",
            "                   damon = True              pos : neg    =      6.1 : 1.0\n",
            "                   flynt = True              pos : neg    =      5.7 : 1.0\n",
            "                  wasted = True              neg : pos    =      5.6 : 1.0\n",
            "                    lame = True              neg : pos    =      5.3 : 1.0\n",
            "                  poorly = True              neg : pos    =      5.2 : 1.0\n",
            "                   awful = True              neg : pos    =      4.9 : 1.0\n",
            "              ridiculous = True              neg : pos    =      4.8 : 1.0\n",
            "                    jedi = True              pos : neg    =      4.4 : 1.0\n",
            "                 unfunny = True              neg : pos    =      4.4 : 1.0\n",
            "                   waste = True              neg : pos    =      4.4 : 1.0\n",
            "               fantastic = True              pos : neg    =      4.4 : 1.0\n",
            "                   worst = True              neg : pos    =      4.2 : 1.0\n",
            "                    mess = True              neg : pos    =      4.2 : 1.0\n",
            "                  stupid = True              neg : pos    =      4.2 : 1.0\n",
            "                   bland = True              neg : pos    =      4.0 : 1.0\n",
            "                     era = True              pos : neg    =      4.0 : 1.0\n"
          ]
        }
      ],
      "source": [
        "movie_classifier.show_most_informative_features(20)"
      ]
    },
    {
      "cell_type": "markdown",
      "metadata": {
        "id": "FPSLZUxt9uMY"
      },
      "source": [
        "# Assignment\n",
        "Answer the following questions and hand in your solution in Canvas before 23:59 on September 5th. Remember to save your file before uploading it."
      ]
    },
    {
      "cell_type": "markdown",
      "metadata": {
        "id": "tQN5Qq9z97Yc"
      },
      "source": [
        "## Question 1\n",
        "The NLTK also includes a `subjectivity` corpus, which contains a collection of sentences that have either been categorized as **subjective** (emotional, expressing personal feelings and views)  or **objective** (more rational, factual). Some examples:\n",
        "\n",
        "* **Objective sentences**:\n",
        "  * uma thurman stars in quentin tarantino's fourth film venture , kill bill .  \n",
        "  * he lives in a motor garage with his six friends .\n",
        "  * the ensuing battle was one of the most savage in u . s . history .\n",
        "* **Subjective sentences**:\n",
        "  * seagal's strenuous attempt at a change in expression could very well clinch him this year's razzie .\n",
        "  * de niro cries . you'll cry for your money back .\n",
        "  * a heroic tale of persistence that is sure to win viewers' hearts .\n",
        "\n",
        "Unlike the movie review corpus, where every review is stored in separate file, here there is only one file for each category.\n",
        "\n",
        "Complete the following tasks:\n",
        "1. Import and download the `subjectivity` corpus.\n",
        "2. Find the names of each category.\n",
        "3. Using the category names, get the relative path of each file.\n",
        "4. Get a list of tokenized sentences for each category (using `subjectivity.sents(fileid)`)."
      ]
    },
    {
      "cell_type": "code",
      "execution_count": 115,
      "metadata": {
        "colab": {
          "base_uri": "https://localhost:8080/"
        },
        "id": "zc1EM7TvnYaC",
        "outputId": "1a0ea850-9df5-44e8-e170-715711e2b2ae"
      },
      "outputs": [
        {
          "output_type": "stream",
          "name": "stdout",
          "text": [
            "Categories: ['obj', 'subj']\n",
            "[['smart', 'and', 'alert', ',', 'thirteen', 'conversations', 'about', 'one', 'thing', 'is', 'a', 'small', 'gem', '.'], ['color', ',', 'musical', 'bounce', 'and', 'warm', 'seas', 'lapping', 'on', 'island', 'shores', '.', 'and', 'just', 'enough', 'science', 'to', 'send', 'you', 'home', 'thinking', '.'], ['it', 'is', 'not', 'a', 'mass-market', 'entertainment', 'but', 'an', 'uncompromising', 'attempt', 'by', 'one', 'artist', 'to', 'think', 'about', 'another', '.'], ['a', 'light-hearted', 'french', 'film', 'about', 'the', 'spiritual', 'quest', 'of', 'a', 'fashion', 'model', 'seeking', 'peace', 'of', 'mind', 'while', 'in', 'a', 'love', 'affair', 'with', 'a', 'veterinarian', 'who', 'is', 'a', 'non-practicing', 'jew', '.'], ['my', 'wife', 'is', 'an', 'actress', 'has', 'its', 'moments', 'in', 'looking', 'at', 'the', 'comic', 'effects', 'of', 'jealousy', '.', 'in', 'the', 'end', ',', 'though', ',', 'it', 'is', 'only', 'mildly', 'amusing', 'when', 'it', 'could', 'have', 'been', 'so', 'much', 'more', '.'], ['works', 'both', 'as', 'an', 'engaging', 'drama', 'and', 'an', 'incisive', 'look', 'at', 'the', 'difficulties', 'facing', 'native', 'americans', '.'], ['even', 'a', 'hardened', 'voyeur', 'would', 'require', 'the', 'patience', 'of', 'job', 'to', 'get', 'through', 'this', 'interminable', ',', 'shapeless', 'documentary', 'about', 'the', 'swinging', 'subculture', '.'], ['when', 'perry', 'fists', 'a', 'bull', 'at', 'the', 'moore', 'farm', ',', \"it's\", 'only', 'a', 'matter', 'of', 'time', 'before', 'he', 'gets', 'the', 'upper', 'hand', 'in', 'matters', 'of', 'the', 'heart', '.'], ['the', 'characters', '.', '.', '.', 'are', 'paper-thin', ',', 'and', 'their', 'personalities', 'undergo', 'radical', 'changes', 'when', 'it', 'suits', 'the', 'script', '.'], ['the', 'script', 'is', 'a', 'tired', 'one', ',', 'with', 'few', 'moments', 'of', 'joy', 'rising', 'above', 'the', 'stale', 'material', '.']]\n",
            "[['the', 'movie', 'begins', 'in', 'the', 'past', 'where', 'a', 'young', 'boy', 'named', 'sam', 'attempts', 'to', 'save', 'celebi', 'from', 'a', 'hunter', '.'], ['emerging', 'from', 'the', 'human', 'psyche', 'and', 'showing', 'characteristics', 'of', 'abstract', 'expressionism', ',', 'minimalism', 'and', 'russian', 'constructivism', ',', 'graffiti', 'removal', 'has', 'secured', 'its', 'place', 'in', 'the', 'history', 'of', 'modern', 'art', 'while', 'being', 'created', 'by', 'artists', 'who', 'are', 'unconscious', 'of', 'their', 'artistic', 'achievements', '.'], ['spurning', 'her', \"mother's\", 'insistence', 'that', 'she', 'get', 'on', 'with', 'her', 'life', ',', 'mary', 'is', 'thrown', 'out', 'of', 'the', 'house', ',', 'rejected', 'by', 'joe', ',', 'and', 'expelled', 'from', 'school', 'as', 'she', 'grows', 'larger', 'with', 'child', '.'], ['amitabh', \"can't\", 'believe', 'the', 'board', 'of', 'directors', 'and', 'his', 'mind', 'is', 'filled', 'with', 'revenge', 'and', 'what', 'better', 'revenge', 'than', 'robbing', 'the', 'bank', 'himself', ',', 'ironic', 'as', 'it', 'may', 'sound', '.'], ['she', ',', 'among', 'others', 'excentricities', ',', 'talks', 'to', 'a', 'small', 'rock', ',', 'gertrude', ',', 'like', 'if', 'she', 'was', 'alive', '.'], ['this', 'gives', 'the', 'girls', 'a', 'fair', 'chance', 'of', 'pulling', 'the', 'wool', 'over', 'their', 'eyes', 'using', 'their', 'sexiness', 'to', 'poach', 'any', 'last', 'vestige', 'of', 'common', 'sense', 'the', 'dons', 'might', 'have', 'had', '.'], ['styled', 'after', \"vh1's\", '\"', 'behind', 'the', 'music', ',', '\"', 'this', 'mockumentary', 'profiles', 'the', 'rise', 'and', 'fall', 'of', 'an', 'internet', 'startup', ',', 'called', 'icevan', '.', 'com', '.'], ['being', 'blue', 'is', 'not', 'his', 'only', 'predicament', ';', 'he', 'also', 'lacks', 'the', 'ability', 'to', 'outwardly', 'express', 'his', 'emotions', '.'], ['the', \"killer's\", 'clues', 'are', 'a', 'perversion', 'of', 'biblical', 'punishments', 'for', 'sins', ':', 'stoning', ',', 'burning', ',', 'decapitation', '.'], ['david', 'is', 'a', 'painter', 'with', \"painter's\", 'block', 'who', 'takes', 'a', 'job', 'as', 'a', 'waiter', 'to', 'get', 'some', 'inspiration', '.']]\n"
          ]
        },
        {
          "output_type": "stream",
          "name": "stderr",
          "text": [
            "[nltk_data] Downloading package subjectivity to /root/nltk_data...\n",
            "[nltk_data]   Package subjectivity is already up-to-date!\n"
          ]
        }
      ],
      "source": [
        "from nltk.corpus import subjectivity\n",
        "\n",
        "nltk.download(\"subjectivity\")\n",
        "\n",
        "print(\"Categories:\", subjectivity.categories())\n",
        "\n",
        "subj_fileids = subjectivity.fileids(\"subj\")\n",
        "obj_fileids = subjectivity.fileids(\"obj\")\n",
        "\n",
        "subj_tokens = subjectivity.sents(subj_fileids)\n",
        "obj_tokens = subjectivity.sents(obj_fileids)\n",
        "\n",
        "print(subj_tokens[:10])\n",
        "print(obj_tokens[:10])"
      ]
    },
    {
      "cell_type": "markdown",
      "metadata": {
        "id": "UaXJ-5Lr97_w"
      },
      "source": [
        "## Question 2\n",
        "Complete the following tasks:\n",
        "1. Create a set with the 2,000 most common words in the `subjectivity` corpus using `nltk.FreqDist()`.\n",
        "2. Create a function that takes a single, tokenized sentence as input (e.g., `['the', 'ensuing', 'battle', ...]`), and returns a dictionary of the 2,000 most frequent words and whether or not they are in the sentence (e.g., `{'battle': True, 'amusing': False, ...}`)."
      ]
    },
    {
      "cell_type": "code",
      "execution_count": 116,
      "metadata": {
        "colab": {
          "base_uri": "https://localhost:8080/"
        },
        "id": "3Bx4kZSW98xq",
        "outputId": "5a7c3c63-166b-4d11-c25c-c33c2aa26fc7"
      },
      "outputs": [
        {
          "output_type": "stream",
          "name": "stdout",
          "text": [
            "['smart', 'and', 'alert', ',', 'thirteen', 'conversations', 'about', 'one', 'thing', 'is', 'a', 'small', 'gem', '.']\n",
            "'about' is in the review: True\n"
          ]
        }
      ],
      "source": [
        "subjectivity_fd = nltk.FreqDist(subjectivity.words())\n",
        "subjectivity_wc = {word for word, count in subjectivity_fd.most_common(2000)}\n",
        "\n",
        "def get_presence_in_senteces(sentence):\n",
        "  sentence_words = set(sentence)\n",
        "  return {word: word in sentence_words for word in subjectivity_wc}\n",
        "\n",
        "example_features = get_presence_in_senteces(subj_tokens[0])\n",
        "\n",
        "print(subj_tokens[0])\n",
        "\n",
        "key = 'about'\n",
        "\n",
        "print(\"'\" + key + \"' is in the review:\", example_features[key])\n",
        "\n"
      ]
    },
    {
      "cell_type": "markdown",
      "metadata": {
        "id": "Vrxhu0iB99YN"
      },
      "source": [
        "## Question 3\n",
        "Complete the following tasks:\n",
        "1. Create a training set with 9,000 sentences (4,500 of each category)\n",
        "2. Create a test set with 1,000 sentences (500 of each category)"
      ]
    },
    {
      "cell_type": "code",
      "execution_count": 117,
      "metadata": {
        "id": "08xWq_S899xK"
      },
      "outputs": [],
      "source": [
        "subj_examples = [(get_presence_in_senteces(sentence),'subj') for sentence in subj_tokens]\n",
        "obj_examples = [(get_presence_in_senteces(sentence),'obj') for sentence in obj_tokens]\n",
        "\n",
        "sentence_training = subj_examples[:4500] + obj_examples[:4500]\n",
        "sentence_test = subj_examples[4500:] + obj_examples[4500:]"
      ]
    },
    {
      "cell_type": "markdown",
      "metadata": {
        "id": "HToPuGzX9-Cl"
      },
      "source": [
        "## Question 4\n",
        "Complete the following tasks:\n",
        "1. Train a Naive Bayes classifier using the training set from the previous question.\n",
        "2. Evaluate the classifier on the test set. How accurate is it?\n",
        "3. Find the 20 most informative features."
      ]
    },
    {
      "cell_type": "code",
      "execution_count": 118,
      "metadata": {
        "id": "iHrN1tvKZa4e",
        "colab": {
          "base_uri": "https://localhost:8080/"
        },
        "outputId": "a2ff7ca7-ae14-4524-ac23-5439d016ae4a"
      },
      "outputs": [
        {
          "output_type": "stream",
          "name": "stdout",
          "text": [
            "Accuracy: 0.906\n",
            "Most Informative Features\n",
            "                      -- = True             subj : obj    =     70.1 : 1.0\n",
            "                   order = True              obj : subj   =     39.0 : 1.0\n",
            "                 decides = True              obj : subj   =     35.7 : 1.0\n",
            "                  sister = True              obj : subj   =     27.7 : 1.0\n",
            "            entertaining = True             subj : obj    =     26.6 : 1.0\n",
            "              girlfriend = True              obj : subj   =     26.3 : 1.0\n",
            "                discover = True              obj : subj   =     25.0 : 1.0\n",
            "                  film's = True             subj : obj    =     25.0 : 1.0\n",
            "                  you're = True             subj : obj    =     22.6 : 1.0\n",
            "                daughter = True              obj : subj   =     22.4 : 1.0\n",
            "                 married = True              obj : subj   =     21.7 : 1.0\n",
            "                 amusing = True             subj : obj    =     19.7 : 1.0\n",
            "                   plans = True              obj : subj   =     19.7 : 1.0\n",
            "                probably = True             subj : obj    =     19.7 : 1.0\n",
            "                    plan = True              obj : subj   =     19.4 : 1.0\n",
            "                    town = True              obj : subj   =     19.3 : 1.0\n",
            "                  you've = True             subj : obj    =     19.0 : 1.0\n",
            "                    kill = True              obj : subj   =     18.6 : 1.0\n",
            "                    slow = True             subj : obj    =     18.3 : 1.0\n",
            "             interesting = True             subj : obj    =     18.1 : 1.0\n"
          ]
        }
      ],
      "source": [
        "subjectivity_classifier = nltk.NaiveBayesClassifier.train(sentence_training)\n",
        "print(\"Accuracy:\", nltk.classify.accuracy(subjectivity_classifier, sentence_test))\n",
        "\n",
        "subjectivity_classifier.show_most_informative_features(20)"
      ]
    },
    {
      "cell_type": "markdown",
      "metadata": {
        "id": "f-J9BEEQFrbo"
      },
      "source": [
        "# Question 5\n",
        "Dialog acts are sort of the type of *action* performed by the speaker. In the instant messaging corpus dataset 'NPS', each utterance is labeled with one of 15 dialogue act types, such as **Statement**, **Emotion**, **ynQuestion**, **Continuer**, etc.\n",
        "\n",
        "Your task is to classify text from the NPS corpus into two dialog acts: **whQuestion** or **Emotion**.\n",
        "\n",
        "Start by downloading the NPS corpus and getting all posts from the corpus:"
      ]
    },
    {
      "cell_type": "code",
      "execution_count": 119,
      "metadata": {
        "colab": {
          "base_uri": "https://localhost:8080/"
        },
        "id": "Qtc_pG1qJZgh",
        "outputId": "baeff1be-3d9d-4c6e-aca6-3c34edee493d"
      },
      "outputs": [
        {
          "output_type": "stream",
          "name": "stderr",
          "text": [
            "[nltk_data] Downloading package nps_chat to /root/nltk_data...\n",
            "[nltk_data]   Package nps_chat is already up-to-date!\n"
          ]
        }
      ],
      "source": [
        "nltk.download('nps_chat')\n",
        "posts = nltk.corpus.nps_chat.xml_posts()"
      ]
    },
    {
      "cell_type": "markdown",
      "metadata": {
        "id": "p0wQn19UqfKV"
      },
      "source": [
        "Create a list that only includes posts of class **Emotion** and **whQuestion**. You can access the class of a post by calling `post.get(\"class\")`."
      ]
    },
    {
      "cell_type": "code",
      "execution_count": 176,
      "metadata": {
        "id": "H316uXLTrRUA",
        "colab": {
          "base_uri": "https://localhost:8080/"
        },
        "outputId": "3881db4d-3c50-4085-8a61-07f6ced4010d"
      },
      "outputs": [
        {
          "output_type": "stream",
          "name": "stdout",
          "text": [
            "1106\n",
            "533\n"
          ]
        }
      ],
      "source": [
        "post_emotion = [post for post in posts if post.get('class') == \"Emotion\" ]\n",
        "post_question = [post for post in posts if post.get('class') == \"whQuestion\" ]\n",
        "\n",
        "posts_list = post_emotion + post_question"
      ]
    },
    {
      "cell_type": "markdown",
      "metadata": {
        "id": "t1K-jkXCzv4T"
      },
      "source": [
        "Randomize the posts and create a training set and a test set, where the first 1300 **Emotion + whQuestion** posts are used for training and the rest for testing."
      ]
    },
    {
      "cell_type": "code",
      "execution_count": 182,
      "metadata": {
        "id": "1SQdx2rY0LG6",
        "colab": {
          "base_uri": "https://localhost:8080/"
        },
        "outputId": "2f662357-4849-485a-a1fa-ec639fb5c7f7"
      },
      "outputs": [
        {
          "output_type": "stream",
          "name": "stdout",
          "text": [
            "[<Element 'Post' at 0x7f05e03b7ec0>, <Element 'Post' at 0x7f05ddfea9d0>, <Element 'Post' at 0x7f05ddf3d1c0>, <Element 'Post' at 0x7f05ddfeb060>, <Element 'Post' at 0x7f05dd795d00>]\n"
          ]
        }
      ],
      "source": [
        "import random\n",
        "\n",
        "random.shuffle(posts_list)\n",
        "\n",
        "posts_training = posts_list[:1300]\n",
        "posts_test = posts_list[1300:]\n",
        "\n",
        "print(posts_list[:5])"
      ]
    },
    {
      "cell_type": "markdown",
      "metadata": {
        "id": "38Klc5bHxDvW"
      },
      "source": [
        "Create a list of the 200 most frequent tokens in the training set. You can access the text of a `post` object by calling `post.text`. Remember that the **split** function will use whitespace to tokenize a string: `some_string.split()`"
      ]
    },
    {
      "cell_type": "code",
      "execution_count": 191,
      "metadata": {
        "id": "cmBZL8wxso-q",
        "colab": {
          "base_uri": "https://localhost:8080/"
        },
        "outputId": "94736a86-5dc9-49cd-96e2-9eff7e428282"
      },
      "outputs": [
        {
          "output_type": "stream",
          "name": "stdout",
          "text": [
            "{'im', 'who', '11-09-40sUser7', 'from?', '10-24-40sUser13', '10-19-30sUser31', 'happened', 'omg', ':tongue:', 'should', 'was', '11-08-20sUser21', '11-09-40sUser49', 'where?', 'lol,', 'laffs', 'what?', '10-19-20sUser121', 'everyone', 'were', 'much', 'me', 'come', '10-19-30sUser28', 'are', 'up', 'we', \"who's\", 'girl', 'doing', 'I', 'where', 'hehe', 'him', '10-19-30sUser17', 'ok', 'oh', ':-o', '10-19-20sUser7', 'back', 'wtf', '@', 'Lmfao', ')))))))))))))', '10-19-adultsUser1', 'time', 'this', 'go', '11-09-20sUser156', 'wants', 'o0', 'am', 'the', '10-19-adultsUser28?', ')))))))))))', ':-@', 'about', 'been', 'Lol', 'all', 'if', 'did', 'well', 'no', 'ya', 'what', 'of', '10-19-adultsUser32', 'here', '.', '10-19-40sUser3', '10-24-40sUser19', ';)', '10-19-adultsUser28', 'do', 'you?', 'sang', 'when', 'whos', ':)', 'so', 'how', ':-)', 'Who', '10-19-30sUser11', '??', 'like', 'kinda', 'my', '10-24-40sUser6', 'goin', \"what's\", 'Hi', 'and', 'get', 'o', 'always', 'day', '11-09-adultsUser72', '10-19-adultsUser35', 'cool', 'your', 'they', 'with', 'r', 'damn', '11-09-40sUser18', 'aw', 'haha', ';-)', 'today?', 'red', 'good', 'name', 'on', 'hows', '11-09-40sUser31', 'too', 'from', 'doing?', 'music', 'lmao', 'lol', 'in', '11-09-40sUser39', 'he', '11-08-40sUser66', 'her', 'why', 'hi', 'you', '10-19-20sUser115', 'hugs', 'song', '11-06-adultsUser105', '10-19-adultsUser23', '11-09-40sUser30', 'for', 'as', '???', 'it', 'out', 'is', '10-19-30sUser19', 'have', 'hahaha', '((((((((((', '..', 'room', '10-19-adultsUser47', 'talk', '10-19-adultsUser16', 'that?', 'or', 'know', 'dang', '11-08-adultsUser65', '10-19-40sUser9', 'many', 'How', 'What', 'lmaoo', 'not', 'LOL', 'which', 'really', 'same', 'at', 'there', '?', 'LMAO', '10-24-40sUser34', '10-19-adultsUser36', 'does', 'whats', 'has', 'LoL', 'red?', 'i', 'u', 'nick', 'that', 'why?', 'asl', '<3', 'to', 'tv', '11-08-adultsUser3', '10-24-40sUser41', 'a', 'doin', 'yes', 'hell', 'wrong', '10-19-40sUser34', 'hey', 'but', ':P', '10-24-40sUser16', 'lmaooo'}\n"
          ]
        }
      ],
      "source": [
        "post_texts = [post.text.split() for post in posts_training]\n",
        "post_words = [item for sublist in post_texts for item in sublist]\n",
        "\n",
        "post_fd = nltk.FreqDist(post_words)\n",
        "post_wc = {word for word, count in post_fd.most_common(200)}\n",
        "\n",
        "print(post_wc)"
      ]
    },
    {
      "cell_type": "markdown",
      "metadata": {
        "id": "tyC-0es9KwTq"
      },
      "source": [
        "\n",
        "Define two feature selection functions that take a string as input and output a dictionary of features:\n",
        "* `get_word_features(string)`\n",
        "* `get_custom_features(string)`\n",
        "\n",
        "Begin by defining `get_word_features`. This function should use the words as features, just like in the movie review example above.\n",
        "\n",
        "\n"
      ]
    },
    {
      "cell_type": "code",
      "execution_count": 183,
      "metadata": {
        "id": "6b6mKRLiFqEo",
        "colab": {
          "base_uri": "https://localhost:8080/"
        },
        "outputId": "cbfb663b-ac59-4bb1-fbf0-083930b4dd76"
      },
      "outputs": [
        {
          "output_type": "stream",
          "name": "stdout",
          "text": [
            "[':)']\n",
            "'how' is in the message: False\n"
          ]
        }
      ],
      "source": [
        "def get_word_features(word):\n",
        "  post_set = set(word)\n",
        "  return {word: word in post_set for word in post_wc}\n",
        "\n",
        "example_features = get_word_features(post_texts[0])\n",
        "\n",
        "print(post_texts[0])\n",
        "\n",
        "key = 'how'\n",
        "\n",
        "print(\"'\" + key + \"' is in the message:\", example_features[key])"
      ]
    },
    {
      "cell_type": "markdown",
      "metadata": {
        "id": "n4LmO-UaJCHj"
      },
      "source": [
        "Next, define `get_custom_features`. This function should extract the features from the text that characterize the **Emotion** and **whQuestions** classes."
      ]
    },
    {
      "cell_type": "code",
      "execution_count": 197,
      "metadata": {
        "id": "w9CBUttQKEzs",
        "colab": {
          "base_uri": "https://localhost:8080/"
        },
        "outputId": "a44ad841-4a37-41e0-b10e-62ef92c48221"
      },
      "outputs": [
        {
          "output_type": "stream",
          "name": "stdout",
          "text": [
            "['lol']\n",
            "'lol' is in the message: True\n"
          ]
        }
      ],
      "source": [
        "def get_custom_features(word):\n",
        "  custom_features = {'lmao', ':)','what','?','!!!!!!!','lol','haha','when',\n",
        "                     'why','how','who','where','omg', 'wtf', 'hehe', ':-o',\n",
        "                     'ok', 'I', '@'}\n",
        "  post_set = set(word)\n",
        "  return {word: word in post_set for word in custom_features}\n",
        "\n",
        "example_features = get_custom_features(post_texts[0])\n",
        "\n",
        "print(post_texts[0])\n",
        "\n",
        "key = 'lol'\n",
        "\n",
        "print(\"'\" + key + \"' is in the message:\", example_features[key])\n"
      ]
    },
    {
      "cell_type": "markdown",
      "metadata": {
        "id": "KxGa5GS1J3aG"
      },
      "source": [
        "Conduct the following tasks:\n",
        "*   Train two Naive Bayes classifiers on the **Emotion + whQuestions** training set: one that uses the `get_word_features` function and another using `get_custom_features`.\n",
        "*   Evaluate each classifier on the test set. How accurate are they? Which one is better?\n",
        "*   What are the 20 most informative features for each classifier?\n"
      ]
    },
    {
      "cell_type": "code",
      "execution_count": 196,
      "metadata": {
        "id": "15ERz1hnK8at",
        "colab": {
          "base_uri": "https://localhost:8080/"
        },
        "outputId": "c25888bb-1109-4dc9-fdc8-566e5061aece"
      },
      "outputs": [
        {
          "output_type": "stream",
          "name": "stdout",
          "text": [
            "Accuracy (feature word model): 0.9351032448377581\n",
            "Most Informative Features\n",
            "                    what = True           whQues : Emotio =     98.0 : 1.0\n",
            "                     how = True           whQues : Emotio =     82.5 : 1.0\n",
            "                      is = True           whQues : Emotio =     61.3 : 1.0\n",
            "                       u = True           whQues : Emotio =     51.5 : 1.0\n",
            "                     you = True           whQues : Emotio =     33.1 : 1.0\n",
            "                      in = True           whQues : Emotio =     30.3 : 1.0\n",
            "                     lol = True           Emotio : whQues =     28.8 : 1.0\n",
            "                     the = True           whQues : Emotio =     28.7 : 1.0\n",
            "                     and = True           whQues : Emotio =     27.5 : 1.0\n",
            "                    that = True           whQues : Emotio =     21.9 : 1.0\n",
            "                      to = True           whQues : Emotio =     18.4 : 1.0\n",
            "                     LOL = True           Emotio : whQues =     11.2 : 1.0\n",
            "                    lmao = True           Emotio : whQues =     11.1 : 1.0\n",
            "                       I = True           whQues : Emotio =     10.6 : 1.0\n",
            "                      it = True           whQues : Emotio =     10.6 : 1.0\n",
            "                      me = True           whQues : Emotio =     10.6 : 1.0\n",
            "                    haha = True           Emotio : whQues =      9.9 : 1.0\n",
            "                   doing = True           whQues : Emotio =      9.2 : 1.0\n",
            "                      so = True           whQues : Emotio =      8.9 : 1.0\n",
            "                    from = True           whQues : Emotio =      7.8 : 1.0\n",
            "Accuracy (feature custom model): 0.8525073746312685\n",
            "Most Informative Features\n",
            "                    what = True           whQues : Emotio =     98.0 : 1.0\n",
            "                     how = True           whQues : Emotio =     82.5 : 1.0\n",
            "                     lol = True           Emotio : whQues =     28.8 : 1.0\n",
            "                    lmao = True           Emotio : whQues =     11.1 : 1.0\n",
            "                    haha = True           Emotio : whQues =      9.9 : 1.0\n",
            "                     omg = True           Emotio : whQues =      2.4 : 1.0\n",
            "                     lol = False          whQues : Emotio =      1.6 : 1.0\n",
            "                    what = False          Emotio : whQues =      1.2 : 1.0\n",
            "                     how = False          Emotio : whQues =      1.2 : 1.0\n",
            "                     who = False          Emotio : whQues =      1.1 : 1.0\n",
            "                   where = False          Emotio : whQues =      1.1 : 1.0\n",
            "                    lmao = False          whQues : Emotio =      1.1 : 1.0\n",
            "                     why = False          Emotio : whQues =      1.1 : 1.0\n",
            "                    haha = False          whQues : Emotio =      1.0 : 1.0\n",
            "                      :) = False          whQues : Emotio =      1.0 : 1.0\n",
            "                       ? = False          Emotio : whQues =      1.0 : 1.0\n",
            "                     wtf = False          Emotio : whQues =      1.0 : 1.0\n",
            "                    when = False          Emotio : whQues =      1.0 : 1.0\n",
            "                     omg = False          whQues : Emotio =      1.0 : 1.0\n",
            "                     :-o = False          whQues : Emotio =      1.0 : 1.0\n"
          ]
        }
      ],
      "source": [
        "emotion_training_examples = [(get_word_features(sentence.text.split()), sentence.get(\"class\")) for sentence in posts_training if sentence.get(\"class\") == \"Emotion\"]\n",
        "wh_training_examples = [(get_word_features(sentence.text.split()), sentence.get(\"class\")) for sentence in posts_training if sentence.get(\"class\") == \"whQuestion\"]\n",
        "\n",
        "feature_examples_training = emotion_training_examples + wh_training_examples\n",
        "random.shuffle(feature_examples_training)\n",
        "\n",
        "emotion_testing_examples = [(get_word_features(sentence.text.split()), sentence.get(\"class\")) for sentence in posts_test if sentence.get(\"class\") == \"Emotion\"]\n",
        "wh_testing_examples = [(get_word_features(sentence.text.split()), sentence.get(\"class\")) for sentence in posts_test if sentence.get(\"class\") == \"whQuestion\"]\n",
        "\n",
        "feature_examples_testing = emotion_testing_examples + wh_testing_examples\n",
        "random.shuffle(feature_examples_testing)\n",
        "\n",
        "first_post_classifier = nltk.NaiveBayesClassifier.train(feature_examples_training)\n",
        "print(\"Accuracy (feature word model):\", nltk.classify.accuracy(first_post_classifier, feature_examples_testing))\n",
        "\n",
        "first_post_classifier.show_most_informative_features(20)\n",
        "\n",
        "\n",
        "emotion_training_examples = [(get_custom_features(sentence.text.split()), sentence.get(\"class\")) for sentence in posts_training if sentence.get(\"class\") == \"Emotion\"]\n",
        "wh_training_examples = [(get_custom_features(sentence.text.split()), sentence.get(\"class\")) for sentence in posts_training if sentence.get(\"class\") == \"whQuestion\"]\n",
        "\n",
        "feature_examples_training = emotion_training_examples + wh_training_examples\n",
        "random.shuffle(feature_examples_training)\n",
        "\n",
        "emotion_testing_examples = [(get_custom_features(sentence.text.split()), sentence.get(\"class\")) for sentence in posts_test if sentence.get(\"class\") == \"Emotion\"]\n",
        "wh_testing_examples = [(get_custom_features(sentence.text.split()), sentence.get(\"class\")) for sentence in posts_test if sentence.get(\"class\") == \"whQuestion\"]\n",
        "\n",
        "feature_examples_testing = emotion_testing_examples + wh_testing_examples\n",
        "random.shuffle(feature_examples_testing)\n",
        "\n",
        "first_post_classifier = nltk.NaiveBayesClassifier.train(feature_examples_training)\n",
        "print(\"Accuracy (feature custom model):\", nltk.classify.accuracy(first_post_classifier, feature_examples_testing))\n",
        "\n",
        "first_post_classifier.show_most_informative_features(20)\n",
        "\n"
      ]
    }
  ],
  "metadata": {
    "colab": {
      "provenance": []
    },
    "kernelspec": {
      "display_name": "Python 3",
      "name": "python3"
    }
  },
  "nbformat": 4,
  "nbformat_minor": 0
}