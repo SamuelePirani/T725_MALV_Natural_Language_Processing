{
  "nbformat": 4,
  "nbformat_minor": 0,
  "metadata": {
    "colab": {
      "provenance": [],
      "gpuType": "T4"
    },
    "kernelspec": {
      "name": "python3",
      "display_name": "Python 3"
    },
    "language_info": {
      "name": "python"
    },
    "accelerator": "GPU",
    "widgets": {
      "application/vnd.jupyter.widget-state+json": {
        "cef3213e43ad4b319385883bf4d14d39": {
          "model_module": "@jupyter-widgets/controls",
          "model_name": "HBoxModel",
          "model_module_version": "1.5.0",
          "state": {
            "_dom_classes": [],
            "_model_module": "@jupyter-widgets/controls",
            "_model_module_version": "1.5.0",
            "_model_name": "HBoxModel",
            "_view_count": null,
            "_view_module": "@jupyter-widgets/controls",
            "_view_module_version": "1.5.0",
            "_view_name": "HBoxView",
            "box_style": "",
            "children": [
              "IPY_MODEL_26e5aa6fcd454fe9ba1111337a28f5f0",
              "IPY_MODEL_cec4964431a3445e9c4d4a332592d888",
              "IPY_MODEL_a20be048ec7843c3b0db9b22354b4d95"
            ],
            "layout": "IPY_MODEL_451c65322fac4b74877a3c3115d6409a"
          }
        },
        "26e5aa6fcd454fe9ba1111337a28f5f0": {
          "model_module": "@jupyter-widgets/controls",
          "model_name": "HTMLModel",
          "model_module_version": "1.5.0",
          "state": {
            "_dom_classes": [],
            "_model_module": "@jupyter-widgets/controls",
            "_model_module_version": "1.5.0",
            "_model_name": "HTMLModel",
            "_view_count": null,
            "_view_module": "@jupyter-widgets/controls",
            "_view_module_version": "1.5.0",
            "_view_name": "HTMLView",
            "description": "",
            "description_tooltip": null,
            "layout": "IPY_MODEL_e70e378d7cbb4bfcabd2e132aa09423b",
            "placeholder": "​",
            "style": "IPY_MODEL_88cb153e41054a60877775a57a31abe0",
            "value": "config.json: "
          }
        },
        "cec4964431a3445e9c4d4a332592d888": {
          "model_module": "@jupyter-widgets/controls",
          "model_name": "FloatProgressModel",
          "model_module_version": "1.5.0",
          "state": {
            "_dom_classes": [],
            "_model_module": "@jupyter-widgets/controls",
            "_model_module_version": "1.5.0",
            "_model_name": "FloatProgressModel",
            "_view_count": null,
            "_view_module": "@jupyter-widgets/controls",
            "_view_module_version": "1.5.0",
            "_view_name": "ProgressView",
            "bar_style": "success",
            "description": "",
            "description_tooltip": null,
            "layout": "IPY_MODEL_4f3bb08b287b455a9894c2d0be9967a2",
            "max": 1,
            "min": 0,
            "orientation": "horizontal",
            "style": "IPY_MODEL_e7888f5729304929b77730dc6c66fe95",
            "value": 1
          }
        },
        "a20be048ec7843c3b0db9b22354b4d95": {
          "model_module": "@jupyter-widgets/controls",
          "model_name": "HTMLModel",
          "model_module_version": "1.5.0",
          "state": {
            "_dom_classes": [],
            "_model_module": "@jupyter-widgets/controls",
            "_model_module_version": "1.5.0",
            "_model_name": "HTMLModel",
            "_view_count": null,
            "_view_module": "@jupyter-widgets/controls",
            "_view_module_version": "1.5.0",
            "_view_name": "HTMLView",
            "description": "",
            "description_tooltip": null,
            "layout": "IPY_MODEL_a7c1bb18cd5c4a95967805dd9af62e6f",
            "placeholder": "​",
            "style": "IPY_MODEL_742562f6766f4a978143c6af4b8a4eda",
            "value": " 1.51k/? [00:00&lt;00:00, 121kB/s]"
          }
        },
        "451c65322fac4b74877a3c3115d6409a": {
          "model_module": "@jupyter-widgets/base",
          "model_name": "LayoutModel",
          "model_module_version": "1.2.0",
          "state": {
            "_model_module": "@jupyter-widgets/base",
            "_model_module_version": "1.2.0",
            "_model_name": "LayoutModel",
            "_view_count": null,
            "_view_module": "@jupyter-widgets/base",
            "_view_module_version": "1.2.0",
            "_view_name": "LayoutView",
            "align_content": null,
            "align_items": null,
            "align_self": null,
            "border": null,
            "bottom": null,
            "display": null,
            "flex": null,
            "flex_flow": null,
            "grid_area": null,
            "grid_auto_columns": null,
            "grid_auto_flow": null,
            "grid_auto_rows": null,
            "grid_column": null,
            "grid_gap": null,
            "grid_row": null,
            "grid_template_areas": null,
            "grid_template_columns": null,
            "grid_template_rows": null,
            "height": null,
            "justify_content": null,
            "justify_items": null,
            "left": null,
            "margin": null,
            "max_height": null,
            "max_width": null,
            "min_height": null,
            "min_width": null,
            "object_fit": null,
            "object_position": null,
            "order": null,
            "overflow": null,
            "overflow_x": null,
            "overflow_y": null,
            "padding": null,
            "right": null,
            "top": null,
            "visibility": null,
            "width": null
          }
        },
        "e70e378d7cbb4bfcabd2e132aa09423b": {
          "model_module": "@jupyter-widgets/base",
          "model_name": "LayoutModel",
          "model_module_version": "1.2.0",
          "state": {
            "_model_module": "@jupyter-widgets/base",
            "_model_module_version": "1.2.0",
            "_model_name": "LayoutModel",
            "_view_count": null,
            "_view_module": "@jupyter-widgets/base",
            "_view_module_version": "1.2.0",
            "_view_name": "LayoutView",
            "align_content": null,
            "align_items": null,
            "align_self": null,
            "border": null,
            "bottom": null,
            "display": null,
            "flex": null,
            "flex_flow": null,
            "grid_area": null,
            "grid_auto_columns": null,
            "grid_auto_flow": null,
            "grid_auto_rows": null,
            "grid_column": null,
            "grid_gap": null,
            "grid_row": null,
            "grid_template_areas": null,
            "grid_template_columns": null,
            "grid_template_rows": null,
            "height": null,
            "justify_content": null,
            "justify_items": null,
            "left": null,
            "margin": null,
            "max_height": null,
            "max_width": null,
            "min_height": null,
            "min_width": null,
            "object_fit": null,
            "object_position": null,
            "order": null,
            "overflow": null,
            "overflow_x": null,
            "overflow_y": null,
            "padding": null,
            "right": null,
            "top": null,
            "visibility": null,
            "width": null
          }
        },
        "88cb153e41054a60877775a57a31abe0": {
          "model_module": "@jupyter-widgets/controls",
          "model_name": "DescriptionStyleModel",
          "model_module_version": "1.5.0",
          "state": {
            "_model_module": "@jupyter-widgets/controls",
            "_model_module_version": "1.5.0",
            "_model_name": "DescriptionStyleModel",
            "_view_count": null,
            "_view_module": "@jupyter-widgets/base",
            "_view_module_version": "1.2.0",
            "_view_name": "StyleView",
            "description_width": ""
          }
        },
        "4f3bb08b287b455a9894c2d0be9967a2": {
          "model_module": "@jupyter-widgets/base",
          "model_name": "LayoutModel",
          "model_module_version": "1.2.0",
          "state": {
            "_model_module": "@jupyter-widgets/base",
            "_model_module_version": "1.2.0",
            "_model_name": "LayoutModel",
            "_view_count": null,
            "_view_module": "@jupyter-widgets/base",
            "_view_module_version": "1.2.0",
            "_view_name": "LayoutView",
            "align_content": null,
            "align_items": null,
            "align_self": null,
            "border": null,
            "bottom": null,
            "display": null,
            "flex": null,
            "flex_flow": null,
            "grid_area": null,
            "grid_auto_columns": null,
            "grid_auto_flow": null,
            "grid_auto_rows": null,
            "grid_column": null,
            "grid_gap": null,
            "grid_row": null,
            "grid_template_areas": null,
            "grid_template_columns": null,
            "grid_template_rows": null,
            "height": null,
            "justify_content": null,
            "justify_items": null,
            "left": null,
            "margin": null,
            "max_height": null,
            "max_width": null,
            "min_height": null,
            "min_width": null,
            "object_fit": null,
            "object_position": null,
            "order": null,
            "overflow": null,
            "overflow_x": null,
            "overflow_y": null,
            "padding": null,
            "right": null,
            "top": null,
            "visibility": null,
            "width": "20px"
          }
        },
        "e7888f5729304929b77730dc6c66fe95": {
          "model_module": "@jupyter-widgets/controls",
          "model_name": "ProgressStyleModel",
          "model_module_version": "1.5.0",
          "state": {
            "_model_module": "@jupyter-widgets/controls",
            "_model_module_version": "1.5.0",
            "_model_name": "ProgressStyleModel",
            "_view_count": null,
            "_view_module": "@jupyter-widgets/base",
            "_view_module_version": "1.2.0",
            "_view_name": "StyleView",
            "bar_color": null,
            "description_width": ""
          }
        },
        "a7c1bb18cd5c4a95967805dd9af62e6f": {
          "model_module": "@jupyter-widgets/base",
          "model_name": "LayoutModel",
          "model_module_version": "1.2.0",
          "state": {
            "_model_module": "@jupyter-widgets/base",
            "_model_module_version": "1.2.0",
            "_model_name": "LayoutModel",
            "_view_count": null,
            "_view_module": "@jupyter-widgets/base",
            "_view_module_version": "1.2.0",
            "_view_name": "LayoutView",
            "align_content": null,
            "align_items": null,
            "align_self": null,
            "border": null,
            "bottom": null,
            "display": null,
            "flex": null,
            "flex_flow": null,
            "grid_area": null,
            "grid_auto_columns": null,
            "grid_auto_flow": null,
            "grid_auto_rows": null,
            "grid_column": null,
            "grid_gap": null,
            "grid_row": null,
            "grid_template_areas": null,
            "grid_template_columns": null,
            "grid_template_rows": null,
            "height": null,
            "justify_content": null,
            "justify_items": null,
            "left": null,
            "margin": null,
            "max_height": null,
            "max_width": null,
            "min_height": null,
            "min_width": null,
            "object_fit": null,
            "object_position": null,
            "order": null,
            "overflow": null,
            "overflow_x": null,
            "overflow_y": null,
            "padding": null,
            "right": null,
            "top": null,
            "visibility": null,
            "width": null
          }
        },
        "742562f6766f4a978143c6af4b8a4eda": {
          "model_module": "@jupyter-widgets/controls",
          "model_name": "DescriptionStyleModel",
          "model_module_version": "1.5.0",
          "state": {
            "_model_module": "@jupyter-widgets/controls",
            "_model_module_version": "1.5.0",
            "_model_name": "DescriptionStyleModel",
            "_view_count": null,
            "_view_module": "@jupyter-widgets/base",
            "_view_module_version": "1.2.0",
            "_view_name": "StyleView",
            "description_width": ""
          }
        },
        "64ed76f74b964dd0a820b13177feb2e3": {
          "model_module": "@jupyter-widgets/controls",
          "model_name": "HBoxModel",
          "model_module_version": "1.5.0",
          "state": {
            "_dom_classes": [],
            "_model_module": "@jupyter-widgets/controls",
            "_model_module_version": "1.5.0",
            "_model_name": "HBoxModel",
            "_view_count": null,
            "_view_module": "@jupyter-widgets/controls",
            "_view_module_version": "1.5.0",
            "_view_name": "HBoxView",
            "box_style": "",
            "children": [
              "IPY_MODEL_2ab32475e30849de9b23ff96361559a5",
              "IPY_MODEL_10d969c90c7f41bc9f8552e87f12e8d4",
              "IPY_MODEL_ef2aec8ff0de42a3a398be56fe376b22"
            ],
            "layout": "IPY_MODEL_f98fb88dd663456f9020fd81c2759a9c"
          }
        },
        "2ab32475e30849de9b23ff96361559a5": {
          "model_module": "@jupyter-widgets/controls",
          "model_name": "HTMLModel",
          "model_module_version": "1.5.0",
          "state": {
            "_dom_classes": [],
            "_model_module": "@jupyter-widgets/controls",
            "_model_module_version": "1.5.0",
            "_model_name": "HTMLModel",
            "_view_count": null,
            "_view_module": "@jupyter-widgets/controls",
            "_view_module_version": "1.5.0",
            "_view_name": "HTMLView",
            "description": "",
            "description_tooltip": null,
            "layout": "IPY_MODEL_ddb6ede82faa49f6bc061d1ca5517dff",
            "placeholder": "​",
            "style": "IPY_MODEL_403cc86cc51743d490095aef0712993f",
            "value": "pytorch_model.bin: 100%"
          }
        },
        "10d969c90c7f41bc9f8552e87f12e8d4": {
          "model_module": "@jupyter-widgets/controls",
          "model_name": "FloatProgressModel",
          "model_module_version": "1.5.0",
          "state": {
            "_dom_classes": [],
            "_model_module": "@jupyter-widgets/controls",
            "_model_module_version": "1.5.0",
            "_model_name": "FloatProgressModel",
            "_view_count": null,
            "_view_module": "@jupyter-widgets/controls",
            "_view_module_version": "1.5.0",
            "_view_name": "ProgressView",
            "bar_style": "success",
            "description": "",
            "description_tooltip": null,
            "layout": "IPY_MODEL_659cffd6f91d47efb76c44f292c59f68",
            "max": 1625270765,
            "min": 0,
            "orientation": "horizontal",
            "style": "IPY_MODEL_080a18f26f594d3d970b0c72bcdffc0c",
            "value": 1625270765
          }
        },
        "ef2aec8ff0de42a3a398be56fe376b22": {
          "model_module": "@jupyter-widgets/controls",
          "model_name": "HTMLModel",
          "model_module_version": "1.5.0",
          "state": {
            "_dom_classes": [],
            "_model_module": "@jupyter-widgets/controls",
            "_model_module_version": "1.5.0",
            "_model_name": "HTMLModel",
            "_view_count": null,
            "_view_module": "@jupyter-widgets/controls",
            "_view_module_version": "1.5.0",
            "_view_name": "HTMLView",
            "description": "",
            "description_tooltip": null,
            "layout": "IPY_MODEL_f342cc2613dd433b89b6a823dbe4e08c",
            "placeholder": "​",
            "style": "IPY_MODEL_b7a33db0f71942b6ab984d016ccb4ee6",
            "value": " 1.63G/1.63G [00:34&lt;00:00, 118MB/s]"
          }
        },
        "f98fb88dd663456f9020fd81c2759a9c": {
          "model_module": "@jupyter-widgets/base",
          "model_name": "LayoutModel",
          "model_module_version": "1.2.0",
          "state": {
            "_model_module": "@jupyter-widgets/base",
            "_model_module_version": "1.2.0",
            "_model_name": "LayoutModel",
            "_view_count": null,
            "_view_module": "@jupyter-widgets/base",
            "_view_module_version": "1.2.0",
            "_view_name": "LayoutView",
            "align_content": null,
            "align_items": null,
            "align_self": null,
            "border": null,
            "bottom": null,
            "display": null,
            "flex": null,
            "flex_flow": null,
            "grid_area": null,
            "grid_auto_columns": null,
            "grid_auto_flow": null,
            "grid_auto_rows": null,
            "grid_column": null,
            "grid_gap": null,
            "grid_row": null,
            "grid_template_areas": null,
            "grid_template_columns": null,
            "grid_template_rows": null,
            "height": null,
            "justify_content": null,
            "justify_items": null,
            "left": null,
            "margin": null,
            "max_height": null,
            "max_width": null,
            "min_height": null,
            "min_width": null,
            "object_fit": null,
            "object_position": null,
            "order": null,
            "overflow": null,
            "overflow_x": null,
            "overflow_y": null,
            "padding": null,
            "right": null,
            "top": null,
            "visibility": null,
            "width": null
          }
        },
        "ddb6ede82faa49f6bc061d1ca5517dff": {
          "model_module": "@jupyter-widgets/base",
          "model_name": "LayoutModel",
          "model_module_version": "1.2.0",
          "state": {
            "_model_module": "@jupyter-widgets/base",
            "_model_module_version": "1.2.0",
            "_model_name": "LayoutModel",
            "_view_count": null,
            "_view_module": "@jupyter-widgets/base",
            "_view_module_version": "1.2.0",
            "_view_name": "LayoutView",
            "align_content": null,
            "align_items": null,
            "align_self": null,
            "border": null,
            "bottom": null,
            "display": null,
            "flex": null,
            "flex_flow": null,
            "grid_area": null,
            "grid_auto_columns": null,
            "grid_auto_flow": null,
            "grid_auto_rows": null,
            "grid_column": null,
            "grid_gap": null,
            "grid_row": null,
            "grid_template_areas": null,
            "grid_template_columns": null,
            "grid_template_rows": null,
            "height": null,
            "justify_content": null,
            "justify_items": null,
            "left": null,
            "margin": null,
            "max_height": null,
            "max_width": null,
            "min_height": null,
            "min_width": null,
            "object_fit": null,
            "object_position": null,
            "order": null,
            "overflow": null,
            "overflow_x": null,
            "overflow_y": null,
            "padding": null,
            "right": null,
            "top": null,
            "visibility": null,
            "width": null
          }
        },
        "403cc86cc51743d490095aef0712993f": {
          "model_module": "@jupyter-widgets/controls",
          "model_name": "DescriptionStyleModel",
          "model_module_version": "1.5.0",
          "state": {
            "_model_module": "@jupyter-widgets/controls",
            "_model_module_version": "1.5.0",
            "_model_name": "DescriptionStyleModel",
            "_view_count": null,
            "_view_module": "@jupyter-widgets/base",
            "_view_module_version": "1.2.0",
            "_view_name": "StyleView",
            "description_width": ""
          }
        },
        "659cffd6f91d47efb76c44f292c59f68": {
          "model_module": "@jupyter-widgets/base",
          "model_name": "LayoutModel",
          "model_module_version": "1.2.0",
          "state": {
            "_model_module": "@jupyter-widgets/base",
            "_model_module_version": "1.2.0",
            "_model_name": "LayoutModel",
            "_view_count": null,
            "_view_module": "@jupyter-widgets/base",
            "_view_module_version": "1.2.0",
            "_view_name": "LayoutView",
            "align_content": null,
            "align_items": null,
            "align_self": null,
            "border": null,
            "bottom": null,
            "display": null,
            "flex": null,
            "flex_flow": null,
            "grid_area": null,
            "grid_auto_columns": null,
            "grid_auto_flow": null,
            "grid_auto_rows": null,
            "grid_column": null,
            "grid_gap": null,
            "grid_row": null,
            "grid_template_areas": null,
            "grid_template_columns": null,
            "grid_template_rows": null,
            "height": null,
            "justify_content": null,
            "justify_items": null,
            "left": null,
            "margin": null,
            "max_height": null,
            "max_width": null,
            "min_height": null,
            "min_width": null,
            "object_fit": null,
            "object_position": null,
            "order": null,
            "overflow": null,
            "overflow_x": null,
            "overflow_y": null,
            "padding": null,
            "right": null,
            "top": null,
            "visibility": null,
            "width": null
          }
        },
        "080a18f26f594d3d970b0c72bcdffc0c": {
          "model_module": "@jupyter-widgets/controls",
          "model_name": "ProgressStyleModel",
          "model_module_version": "1.5.0",
          "state": {
            "_model_module": "@jupyter-widgets/controls",
            "_model_module_version": "1.5.0",
            "_model_name": "ProgressStyleModel",
            "_view_count": null,
            "_view_module": "@jupyter-widgets/base",
            "_view_module_version": "1.2.0",
            "_view_name": "StyleView",
            "bar_color": null,
            "description_width": ""
          }
        },
        "f342cc2613dd433b89b6a823dbe4e08c": {
          "model_module": "@jupyter-widgets/base",
          "model_name": "LayoutModel",
          "model_module_version": "1.2.0",
          "state": {
            "_model_module": "@jupyter-widgets/base",
            "_model_module_version": "1.2.0",
            "_model_name": "LayoutModel",
            "_view_count": null,
            "_view_module": "@jupyter-widgets/base",
            "_view_module_version": "1.2.0",
            "_view_name": "LayoutView",
            "align_content": null,
            "align_items": null,
            "align_self": null,
            "border": null,
            "bottom": null,
            "display": null,
            "flex": null,
            "flex_flow": null,
            "grid_area": null,
            "grid_auto_columns": null,
            "grid_auto_flow": null,
            "grid_auto_rows": null,
            "grid_column": null,
            "grid_gap": null,
            "grid_row": null,
            "grid_template_areas": null,
            "grid_template_columns": null,
            "grid_template_rows": null,
            "height": null,
            "justify_content": null,
            "justify_items": null,
            "left": null,
            "margin": null,
            "max_height": null,
            "max_width": null,
            "min_height": null,
            "min_width": null,
            "object_fit": null,
            "object_position": null,
            "order": null,
            "overflow": null,
            "overflow_x": null,
            "overflow_y": null,
            "padding": null,
            "right": null,
            "top": null,
            "visibility": null,
            "width": null
          }
        },
        "b7a33db0f71942b6ab984d016ccb4ee6": {
          "model_module": "@jupyter-widgets/controls",
          "model_name": "DescriptionStyleModel",
          "model_module_version": "1.5.0",
          "state": {
            "_model_module": "@jupyter-widgets/controls",
            "_model_module_version": "1.5.0",
            "_model_name": "DescriptionStyleModel",
            "_view_count": null,
            "_view_module": "@jupyter-widgets/base",
            "_view_module_version": "1.2.0",
            "_view_name": "StyleView",
            "description_width": ""
          }
        },
        "46a17e6b136a4e59ab4ec269232ec682": {
          "model_module": "@jupyter-widgets/controls",
          "model_name": "HBoxModel",
          "model_module_version": "1.5.0",
          "state": {
            "_dom_classes": [],
            "_model_module": "@jupyter-widgets/controls",
            "_model_module_version": "1.5.0",
            "_model_name": "HBoxModel",
            "_view_count": null,
            "_view_module": "@jupyter-widgets/controls",
            "_view_module_version": "1.5.0",
            "_view_name": "HBoxView",
            "box_style": "",
            "children": [
              "IPY_MODEL_8f21575393bf4595ae7b72eee0120be1",
              "IPY_MODEL_a7b34d01b589409db32cc1811f4d1ef8",
              "IPY_MODEL_09f0e3fcd06340409326130e3043d7cd"
            ],
            "layout": "IPY_MODEL_6ecce141ba754d29ac7de9d490e5f50c"
          }
        },
        "8f21575393bf4595ae7b72eee0120be1": {
          "model_module": "@jupyter-widgets/controls",
          "model_name": "HTMLModel",
          "model_module_version": "1.5.0",
          "state": {
            "_dom_classes": [],
            "_model_module": "@jupyter-widgets/controls",
            "_model_module_version": "1.5.0",
            "_model_name": "HTMLModel",
            "_view_count": null,
            "_view_module": "@jupyter-widgets/controls",
            "_view_module_version": "1.5.0",
            "_view_name": "HTMLView",
            "description": "",
            "description_tooltip": null,
            "layout": "IPY_MODEL_29152ec4c02a41bcb0e13a5ac89d766d",
            "placeholder": "​",
            "style": "IPY_MODEL_4b49b2568b72431bba475bac43a00528",
            "value": "model.safetensors: 100%"
          }
        },
        "a7b34d01b589409db32cc1811f4d1ef8": {
          "model_module": "@jupyter-widgets/controls",
          "model_name": "FloatProgressModel",
          "model_module_version": "1.5.0",
          "state": {
            "_dom_classes": [],
            "_model_module": "@jupyter-widgets/controls",
            "_model_module_version": "1.5.0",
            "_model_name": "FloatProgressModel",
            "_view_count": null,
            "_view_module": "@jupyter-widgets/controls",
            "_view_module_version": "1.5.0",
            "_view_name": "ProgressView",
            "bar_style": "success",
            "description": "",
            "description_tooltip": null,
            "layout": "IPY_MODEL_38c873b4d0fd441fa2e2526616e97351",
            "max": 1625221758,
            "min": 0,
            "orientation": "horizontal",
            "style": "IPY_MODEL_7294e76e2b8844f6a3cd267216994d93",
            "value": 1625221758
          }
        },
        "09f0e3fcd06340409326130e3043d7cd": {
          "model_module": "@jupyter-widgets/controls",
          "model_name": "HTMLModel",
          "model_module_version": "1.5.0",
          "state": {
            "_dom_classes": [],
            "_model_module": "@jupyter-widgets/controls",
            "_model_module_version": "1.5.0",
            "_model_name": "HTMLModel",
            "_view_count": null,
            "_view_module": "@jupyter-widgets/controls",
            "_view_module_version": "1.5.0",
            "_view_name": "HTMLView",
            "description": "",
            "description_tooltip": null,
            "layout": "IPY_MODEL_1e99cc7c2a734eadbb44bf64c6cb67e1",
            "placeholder": "​",
            "style": "IPY_MODEL_45588488f29e42f79f495c7aac2d0696",
            "value": " 1.63G/1.63G [00:21&lt;00:00, 135MB/s]"
          }
        },
        "6ecce141ba754d29ac7de9d490e5f50c": {
          "model_module": "@jupyter-widgets/base",
          "model_name": "LayoutModel",
          "model_module_version": "1.2.0",
          "state": {
            "_model_module": "@jupyter-widgets/base",
            "_model_module_version": "1.2.0",
            "_model_name": "LayoutModel",
            "_view_count": null,
            "_view_module": "@jupyter-widgets/base",
            "_view_module_version": "1.2.0",
            "_view_name": "LayoutView",
            "align_content": null,
            "align_items": null,
            "align_self": null,
            "border": null,
            "bottom": null,
            "display": null,
            "flex": null,
            "flex_flow": null,
            "grid_area": null,
            "grid_auto_columns": null,
            "grid_auto_flow": null,
            "grid_auto_rows": null,
            "grid_column": null,
            "grid_gap": null,
            "grid_row": null,
            "grid_template_areas": null,
            "grid_template_columns": null,
            "grid_template_rows": null,
            "height": null,
            "justify_content": null,
            "justify_items": null,
            "left": null,
            "margin": null,
            "max_height": null,
            "max_width": null,
            "min_height": null,
            "min_width": null,
            "object_fit": null,
            "object_position": null,
            "order": null,
            "overflow": null,
            "overflow_x": null,
            "overflow_y": null,
            "padding": null,
            "right": null,
            "top": null,
            "visibility": null,
            "width": null
          }
        },
        "29152ec4c02a41bcb0e13a5ac89d766d": {
          "model_module": "@jupyter-widgets/base",
          "model_name": "LayoutModel",
          "model_module_version": "1.2.0",
          "state": {
            "_model_module": "@jupyter-widgets/base",
            "_model_module_version": "1.2.0",
            "_model_name": "LayoutModel",
            "_view_count": null,
            "_view_module": "@jupyter-widgets/base",
            "_view_module_version": "1.2.0",
            "_view_name": "LayoutView",
            "align_content": null,
            "align_items": null,
            "align_self": null,
            "border": null,
            "bottom": null,
            "display": null,
            "flex": null,
            "flex_flow": null,
            "grid_area": null,
            "grid_auto_columns": null,
            "grid_auto_flow": null,
            "grid_auto_rows": null,
            "grid_column": null,
            "grid_gap": null,
            "grid_row": null,
            "grid_template_areas": null,
            "grid_template_columns": null,
            "grid_template_rows": null,
            "height": null,
            "justify_content": null,
            "justify_items": null,
            "left": null,
            "margin": null,
            "max_height": null,
            "max_width": null,
            "min_height": null,
            "min_width": null,
            "object_fit": null,
            "object_position": null,
            "order": null,
            "overflow": null,
            "overflow_x": null,
            "overflow_y": null,
            "padding": null,
            "right": null,
            "top": null,
            "visibility": null,
            "width": null
          }
        },
        "4b49b2568b72431bba475bac43a00528": {
          "model_module": "@jupyter-widgets/controls",
          "model_name": "DescriptionStyleModel",
          "model_module_version": "1.5.0",
          "state": {
            "_model_module": "@jupyter-widgets/controls",
            "_model_module_version": "1.5.0",
            "_model_name": "DescriptionStyleModel",
            "_view_count": null,
            "_view_module": "@jupyter-widgets/base",
            "_view_module_version": "1.2.0",
            "_view_name": "StyleView",
            "description_width": ""
          }
        },
        "38c873b4d0fd441fa2e2526616e97351": {
          "model_module": "@jupyter-widgets/base",
          "model_name": "LayoutModel",
          "model_module_version": "1.2.0",
          "state": {
            "_model_module": "@jupyter-widgets/base",
            "_model_module_version": "1.2.0",
            "_model_name": "LayoutModel",
            "_view_count": null,
            "_view_module": "@jupyter-widgets/base",
            "_view_module_version": "1.2.0",
            "_view_name": "LayoutView",
            "align_content": null,
            "align_items": null,
            "align_self": null,
            "border": null,
            "bottom": null,
            "display": null,
            "flex": null,
            "flex_flow": null,
            "grid_area": null,
            "grid_auto_columns": null,
            "grid_auto_flow": null,
            "grid_auto_rows": null,
            "grid_column": null,
            "grid_gap": null,
            "grid_row": null,
            "grid_template_areas": null,
            "grid_template_columns": null,
            "grid_template_rows": null,
            "height": null,
            "justify_content": null,
            "justify_items": null,
            "left": null,
            "margin": null,
            "max_height": null,
            "max_width": null,
            "min_height": null,
            "min_width": null,
            "object_fit": null,
            "object_position": null,
            "order": null,
            "overflow": null,
            "overflow_x": null,
            "overflow_y": null,
            "padding": null,
            "right": null,
            "top": null,
            "visibility": null,
            "width": null
          }
        },
        "7294e76e2b8844f6a3cd267216994d93": {
          "model_module": "@jupyter-widgets/controls",
          "model_name": "ProgressStyleModel",
          "model_module_version": "1.5.0",
          "state": {
            "_model_module": "@jupyter-widgets/controls",
            "_model_module_version": "1.5.0",
            "_model_name": "ProgressStyleModel",
            "_view_count": null,
            "_view_module": "@jupyter-widgets/base",
            "_view_module_version": "1.2.0",
            "_view_name": "StyleView",
            "bar_color": null,
            "description_width": ""
          }
        },
        "1e99cc7c2a734eadbb44bf64c6cb67e1": {
          "model_module": "@jupyter-widgets/base",
          "model_name": "LayoutModel",
          "model_module_version": "1.2.0",
          "state": {
            "_model_module": "@jupyter-widgets/base",
            "_model_module_version": "1.2.0",
            "_model_name": "LayoutModel",
            "_view_count": null,
            "_view_module": "@jupyter-widgets/base",
            "_view_module_version": "1.2.0",
            "_view_name": "LayoutView",
            "align_content": null,
            "align_items": null,
            "align_self": null,
            "border": null,
            "bottom": null,
            "display": null,
            "flex": null,
            "flex_flow": null,
            "grid_area": null,
            "grid_auto_columns": null,
            "grid_auto_flow": null,
            "grid_auto_rows": null,
            "grid_column": null,
            "grid_gap": null,
            "grid_row": null,
            "grid_template_areas": null,
            "grid_template_columns": null,
            "grid_template_rows": null,
            "height": null,
            "justify_content": null,
            "justify_items": null,
            "left": null,
            "margin": null,
            "max_height": null,
            "max_width": null,
            "min_height": null,
            "min_width": null,
            "object_fit": null,
            "object_position": null,
            "order": null,
            "overflow": null,
            "overflow_x": null,
            "overflow_y": null,
            "padding": null,
            "right": null,
            "top": null,
            "visibility": null,
            "width": null
          }
        },
        "45588488f29e42f79f495c7aac2d0696": {
          "model_module": "@jupyter-widgets/controls",
          "model_name": "DescriptionStyleModel",
          "model_module_version": "1.5.0",
          "state": {
            "_model_module": "@jupyter-widgets/controls",
            "_model_module_version": "1.5.0",
            "_model_name": "DescriptionStyleModel",
            "_view_count": null,
            "_view_module": "@jupyter-widgets/base",
            "_view_module_version": "1.2.0",
            "_view_name": "StyleView",
            "description_width": ""
          }
        },
        "00a6ba8fef38486d8d669c7a886558b0": {
          "model_module": "@jupyter-widgets/controls",
          "model_name": "HBoxModel",
          "model_module_version": "1.5.0",
          "state": {
            "_dom_classes": [],
            "_model_module": "@jupyter-widgets/controls",
            "_model_module_version": "1.5.0",
            "_model_name": "HBoxModel",
            "_view_count": null,
            "_view_module": "@jupyter-widgets/controls",
            "_view_module_version": "1.5.0",
            "_view_name": "HBoxView",
            "box_style": "",
            "children": [
              "IPY_MODEL_a660f6c6e16042e69ea6829f8f537366",
              "IPY_MODEL_cc0b0b88f0e5493e8126c5667677557a",
              "IPY_MODEL_bfa538683a4741d099f652c958776e1e"
            ],
            "layout": "IPY_MODEL_f715e5178dc144ff8ad6ce40fb216413"
          }
        },
        "a660f6c6e16042e69ea6829f8f537366": {
          "model_module": "@jupyter-widgets/controls",
          "model_name": "HTMLModel",
          "model_module_version": "1.5.0",
          "state": {
            "_dom_classes": [],
            "_model_module": "@jupyter-widgets/controls",
            "_model_module_version": "1.5.0",
            "_model_name": "HTMLModel",
            "_view_count": null,
            "_view_module": "@jupyter-widgets/controls",
            "_view_module_version": "1.5.0",
            "_view_name": "HTMLView",
            "description": "",
            "description_tooltip": null,
            "layout": "IPY_MODEL_80b758414ce945abb3e503df77f275eb",
            "placeholder": "​",
            "style": "IPY_MODEL_d88a422494f241089767b85e1f5225c5",
            "value": "generation_config.json: 100%"
          }
        },
        "cc0b0b88f0e5493e8126c5667677557a": {
          "model_module": "@jupyter-widgets/controls",
          "model_name": "FloatProgressModel",
          "model_module_version": "1.5.0",
          "state": {
            "_dom_classes": [],
            "_model_module": "@jupyter-widgets/controls",
            "_model_module_version": "1.5.0",
            "_model_name": "FloatProgressModel",
            "_view_count": null,
            "_view_module": "@jupyter-widgets/controls",
            "_view_module_version": "1.5.0",
            "_view_name": "ProgressView",
            "bar_style": "success",
            "description": "",
            "description_tooltip": null,
            "layout": "IPY_MODEL_f3081ddf796a40fa85a3e299ccdd4031",
            "max": 309,
            "min": 0,
            "orientation": "horizontal",
            "style": "IPY_MODEL_a08d4a63c2da4cef9dcf13a280b7af1b",
            "value": 309
          }
        },
        "bfa538683a4741d099f652c958776e1e": {
          "model_module": "@jupyter-widgets/controls",
          "model_name": "HTMLModel",
          "model_module_version": "1.5.0",
          "state": {
            "_dom_classes": [],
            "_model_module": "@jupyter-widgets/controls",
            "_model_module_version": "1.5.0",
            "_model_name": "HTMLModel",
            "_view_count": null,
            "_view_module": "@jupyter-widgets/controls",
            "_view_module_version": "1.5.0",
            "_view_name": "HTMLView",
            "description": "",
            "description_tooltip": null,
            "layout": "IPY_MODEL_7fc91446d232495a8908ffe8775f4acf",
            "placeholder": "​",
            "style": "IPY_MODEL_03f8c0b781854ecd8a41123420377bd2",
            "value": " 309/309 [00:00&lt;00:00, 5.69kB/s]"
          }
        },
        "f715e5178dc144ff8ad6ce40fb216413": {
          "model_module": "@jupyter-widgets/base",
          "model_name": "LayoutModel",
          "model_module_version": "1.2.0",
          "state": {
            "_model_module": "@jupyter-widgets/base",
            "_model_module_version": "1.2.0",
            "_model_name": "LayoutModel",
            "_view_count": null,
            "_view_module": "@jupyter-widgets/base",
            "_view_module_version": "1.2.0",
            "_view_name": "LayoutView",
            "align_content": null,
            "align_items": null,
            "align_self": null,
            "border": null,
            "bottom": null,
            "display": null,
            "flex": null,
            "flex_flow": null,
            "grid_area": null,
            "grid_auto_columns": null,
            "grid_auto_flow": null,
            "grid_auto_rows": null,
            "grid_column": null,
            "grid_gap": null,
            "grid_row": null,
            "grid_template_areas": null,
            "grid_template_columns": null,
            "grid_template_rows": null,
            "height": null,
            "justify_content": null,
            "justify_items": null,
            "left": null,
            "margin": null,
            "max_height": null,
            "max_width": null,
            "min_height": null,
            "min_width": null,
            "object_fit": null,
            "object_position": null,
            "order": null,
            "overflow": null,
            "overflow_x": null,
            "overflow_y": null,
            "padding": null,
            "right": null,
            "top": null,
            "visibility": null,
            "width": null
          }
        },
        "80b758414ce945abb3e503df77f275eb": {
          "model_module": "@jupyter-widgets/base",
          "model_name": "LayoutModel",
          "model_module_version": "1.2.0",
          "state": {
            "_model_module": "@jupyter-widgets/base",
            "_model_module_version": "1.2.0",
            "_model_name": "LayoutModel",
            "_view_count": null,
            "_view_module": "@jupyter-widgets/base",
            "_view_module_version": "1.2.0",
            "_view_name": "LayoutView",
            "align_content": null,
            "align_items": null,
            "align_self": null,
            "border": null,
            "bottom": null,
            "display": null,
            "flex": null,
            "flex_flow": null,
            "grid_area": null,
            "grid_auto_columns": null,
            "grid_auto_flow": null,
            "grid_auto_rows": null,
            "grid_column": null,
            "grid_gap": null,
            "grid_row": null,
            "grid_template_areas": null,
            "grid_template_columns": null,
            "grid_template_rows": null,
            "height": null,
            "justify_content": null,
            "justify_items": null,
            "left": null,
            "margin": null,
            "max_height": null,
            "max_width": null,
            "min_height": null,
            "min_width": null,
            "object_fit": null,
            "object_position": null,
            "order": null,
            "overflow": null,
            "overflow_x": null,
            "overflow_y": null,
            "padding": null,
            "right": null,
            "top": null,
            "visibility": null,
            "width": null
          }
        },
        "d88a422494f241089767b85e1f5225c5": {
          "model_module": "@jupyter-widgets/controls",
          "model_name": "DescriptionStyleModel",
          "model_module_version": "1.5.0",
          "state": {
            "_model_module": "@jupyter-widgets/controls",
            "_model_module_version": "1.5.0",
            "_model_name": "DescriptionStyleModel",
            "_view_count": null,
            "_view_module": "@jupyter-widgets/base",
            "_view_module_version": "1.2.0",
            "_view_name": "StyleView",
            "description_width": ""
          }
        },
        "f3081ddf796a40fa85a3e299ccdd4031": {
          "model_module": "@jupyter-widgets/base",
          "model_name": "LayoutModel",
          "model_module_version": "1.2.0",
          "state": {
            "_model_module": "@jupyter-widgets/base",
            "_model_module_version": "1.2.0",
            "_model_name": "LayoutModel",
            "_view_count": null,
            "_view_module": "@jupyter-widgets/base",
            "_view_module_version": "1.2.0",
            "_view_name": "LayoutView",
            "align_content": null,
            "align_items": null,
            "align_self": null,
            "border": null,
            "bottom": null,
            "display": null,
            "flex": null,
            "flex_flow": null,
            "grid_area": null,
            "grid_auto_columns": null,
            "grid_auto_flow": null,
            "grid_auto_rows": null,
            "grid_column": null,
            "grid_gap": null,
            "grid_row": null,
            "grid_template_areas": null,
            "grid_template_columns": null,
            "grid_template_rows": null,
            "height": null,
            "justify_content": null,
            "justify_items": null,
            "left": null,
            "margin": null,
            "max_height": null,
            "max_width": null,
            "min_height": null,
            "min_width": null,
            "object_fit": null,
            "object_position": null,
            "order": null,
            "overflow": null,
            "overflow_x": null,
            "overflow_y": null,
            "padding": null,
            "right": null,
            "top": null,
            "visibility": null,
            "width": null
          }
        },
        "a08d4a63c2da4cef9dcf13a280b7af1b": {
          "model_module": "@jupyter-widgets/controls",
          "model_name": "ProgressStyleModel",
          "model_module_version": "1.5.0",
          "state": {
            "_model_module": "@jupyter-widgets/controls",
            "_model_module_version": "1.5.0",
            "_model_name": "ProgressStyleModel",
            "_view_count": null,
            "_view_module": "@jupyter-widgets/base",
            "_view_module_version": "1.2.0",
            "_view_name": "StyleView",
            "bar_color": null,
            "description_width": ""
          }
        },
        "7fc91446d232495a8908ffe8775f4acf": {
          "model_module": "@jupyter-widgets/base",
          "model_name": "LayoutModel",
          "model_module_version": "1.2.0",
          "state": {
            "_model_module": "@jupyter-widgets/base",
            "_model_module_version": "1.2.0",
            "_model_name": "LayoutModel",
            "_view_count": null,
            "_view_module": "@jupyter-widgets/base",
            "_view_module_version": "1.2.0",
            "_view_name": "LayoutView",
            "align_content": null,
            "align_items": null,
            "align_self": null,
            "border": null,
            "bottom": null,
            "display": null,
            "flex": null,
            "flex_flow": null,
            "grid_area": null,
            "grid_auto_columns": null,
            "grid_auto_flow": null,
            "grid_auto_rows": null,
            "grid_column": null,
            "grid_gap": null,
            "grid_row": null,
            "grid_template_areas": null,
            "grid_template_columns": null,
            "grid_template_rows": null,
            "height": null,
            "justify_content": null,
            "justify_items": null,
            "left": null,
            "margin": null,
            "max_height": null,
            "max_width": null,
            "min_height": null,
            "min_width": null,
            "object_fit": null,
            "object_position": null,
            "order": null,
            "overflow": null,
            "overflow_x": null,
            "overflow_y": null,
            "padding": null,
            "right": null,
            "top": null,
            "visibility": null,
            "width": null
          }
        },
        "03f8c0b781854ecd8a41123420377bd2": {
          "model_module": "@jupyter-widgets/controls",
          "model_name": "DescriptionStyleModel",
          "model_module_version": "1.5.0",
          "state": {
            "_model_module": "@jupyter-widgets/controls",
            "_model_module_version": "1.5.0",
            "_model_name": "DescriptionStyleModel",
            "_view_count": null,
            "_view_module": "@jupyter-widgets/base",
            "_view_module_version": "1.2.0",
            "_view_name": "StyleView",
            "description_width": ""
          }
        },
        "355a773a43204842928c300663b34294": {
          "model_module": "@jupyter-widgets/controls",
          "model_name": "HBoxModel",
          "model_module_version": "1.5.0",
          "state": {
            "_dom_classes": [],
            "_model_module": "@jupyter-widgets/controls",
            "_model_module_version": "1.5.0",
            "_model_name": "HBoxModel",
            "_view_count": null,
            "_view_module": "@jupyter-widgets/controls",
            "_view_module_version": "1.5.0",
            "_view_name": "HBoxView",
            "box_style": "",
            "children": [
              "IPY_MODEL_db5b6bcaf631406ab5d308ce3eb9f6c6",
              "IPY_MODEL_8eb402f1e46949ddab09a5e50a492804",
              "IPY_MODEL_63fe83fb5b434a6ba45e309372572298"
            ],
            "layout": "IPY_MODEL_4f97fe6a10c54f60a99dbf8b854a6eda"
          }
        },
        "db5b6bcaf631406ab5d308ce3eb9f6c6": {
          "model_module": "@jupyter-widgets/controls",
          "model_name": "HTMLModel",
          "model_module_version": "1.5.0",
          "state": {
            "_dom_classes": [],
            "_model_module": "@jupyter-widgets/controls",
            "_model_module_version": "1.5.0",
            "_model_name": "HTMLModel",
            "_view_count": null,
            "_view_module": "@jupyter-widgets/controls",
            "_view_module_version": "1.5.0",
            "_view_name": "HTMLView",
            "description": "",
            "description_tooltip": null,
            "layout": "IPY_MODEL_592cf0fb280943249bfdd48b37b92809",
            "placeholder": "​",
            "style": "IPY_MODEL_12cc60525dad49f49e8b919c102f92e2",
            "value": "tokenizer_config.json: 100%"
          }
        },
        "8eb402f1e46949ddab09a5e50a492804": {
          "model_module": "@jupyter-widgets/controls",
          "model_name": "FloatProgressModel",
          "model_module_version": "1.5.0",
          "state": {
            "_dom_classes": [],
            "_model_module": "@jupyter-widgets/controls",
            "_model_module_version": "1.5.0",
            "_model_name": "FloatProgressModel",
            "_view_count": null,
            "_view_module": "@jupyter-widgets/controls",
            "_view_module_version": "1.5.0",
            "_view_name": "ProgressView",
            "bar_style": "success",
            "description": "",
            "description_tooltip": null,
            "layout": "IPY_MODEL_6334fc7e097143be8112d02eb7412df1",
            "max": 26,
            "min": 0,
            "orientation": "horizontal",
            "style": "IPY_MODEL_d97c3689b50145ebbe4da64593365348",
            "value": 26
          }
        },
        "63fe83fb5b434a6ba45e309372572298": {
          "model_module": "@jupyter-widgets/controls",
          "model_name": "HTMLModel",
          "model_module_version": "1.5.0",
          "state": {
            "_dom_classes": [],
            "_model_module": "@jupyter-widgets/controls",
            "_model_module_version": "1.5.0",
            "_model_name": "HTMLModel",
            "_view_count": null,
            "_view_module": "@jupyter-widgets/controls",
            "_view_module_version": "1.5.0",
            "_view_name": "HTMLView",
            "description": "",
            "description_tooltip": null,
            "layout": "IPY_MODEL_369335285337466ca1c10d7583ae81cf",
            "placeholder": "​",
            "style": "IPY_MODEL_4a83540f731d403abcf93fff68ad4fad",
            "value": " 26.0/26.0 [00:00&lt;00:00, 557B/s]"
          }
        },
        "4f97fe6a10c54f60a99dbf8b854a6eda": {
          "model_module": "@jupyter-widgets/base",
          "model_name": "LayoutModel",
          "model_module_version": "1.2.0",
          "state": {
            "_model_module": "@jupyter-widgets/base",
            "_model_module_version": "1.2.0",
            "_model_name": "LayoutModel",
            "_view_count": null,
            "_view_module": "@jupyter-widgets/base",
            "_view_module_version": "1.2.0",
            "_view_name": "LayoutView",
            "align_content": null,
            "align_items": null,
            "align_self": null,
            "border": null,
            "bottom": null,
            "display": null,
            "flex": null,
            "flex_flow": null,
            "grid_area": null,
            "grid_auto_columns": null,
            "grid_auto_flow": null,
            "grid_auto_rows": null,
            "grid_column": null,
            "grid_gap": null,
            "grid_row": null,
            "grid_template_areas": null,
            "grid_template_columns": null,
            "grid_template_rows": null,
            "height": null,
            "justify_content": null,
            "justify_items": null,
            "left": null,
            "margin": null,
            "max_height": null,
            "max_width": null,
            "min_height": null,
            "min_width": null,
            "object_fit": null,
            "object_position": null,
            "order": null,
            "overflow": null,
            "overflow_x": null,
            "overflow_y": null,
            "padding": null,
            "right": null,
            "top": null,
            "visibility": null,
            "width": null
          }
        },
        "592cf0fb280943249bfdd48b37b92809": {
          "model_module": "@jupyter-widgets/base",
          "model_name": "LayoutModel",
          "model_module_version": "1.2.0",
          "state": {
            "_model_module": "@jupyter-widgets/base",
            "_model_module_version": "1.2.0",
            "_model_name": "LayoutModel",
            "_view_count": null,
            "_view_module": "@jupyter-widgets/base",
            "_view_module_version": "1.2.0",
            "_view_name": "LayoutView",
            "align_content": null,
            "align_items": null,
            "align_self": null,
            "border": null,
            "bottom": null,
            "display": null,
            "flex": null,
            "flex_flow": null,
            "grid_area": null,
            "grid_auto_columns": null,
            "grid_auto_flow": null,
            "grid_auto_rows": null,
            "grid_column": null,
            "grid_gap": null,
            "grid_row": null,
            "grid_template_areas": null,
            "grid_template_columns": null,
            "grid_template_rows": null,
            "height": null,
            "justify_content": null,
            "justify_items": null,
            "left": null,
            "margin": null,
            "max_height": null,
            "max_width": null,
            "min_height": null,
            "min_width": null,
            "object_fit": null,
            "object_position": null,
            "order": null,
            "overflow": null,
            "overflow_x": null,
            "overflow_y": null,
            "padding": null,
            "right": null,
            "top": null,
            "visibility": null,
            "width": null
          }
        },
        "12cc60525dad49f49e8b919c102f92e2": {
          "model_module": "@jupyter-widgets/controls",
          "model_name": "DescriptionStyleModel",
          "model_module_version": "1.5.0",
          "state": {
            "_model_module": "@jupyter-widgets/controls",
            "_model_module_version": "1.5.0",
            "_model_name": "DescriptionStyleModel",
            "_view_count": null,
            "_view_module": "@jupyter-widgets/base",
            "_view_module_version": "1.2.0",
            "_view_name": "StyleView",
            "description_width": ""
          }
        },
        "6334fc7e097143be8112d02eb7412df1": {
          "model_module": "@jupyter-widgets/base",
          "model_name": "LayoutModel",
          "model_module_version": "1.2.0",
          "state": {
            "_model_module": "@jupyter-widgets/base",
            "_model_module_version": "1.2.0",
            "_model_name": "LayoutModel",
            "_view_count": null,
            "_view_module": "@jupyter-widgets/base",
            "_view_module_version": "1.2.0",
            "_view_name": "LayoutView",
            "align_content": null,
            "align_items": null,
            "align_self": null,
            "border": null,
            "bottom": null,
            "display": null,
            "flex": null,
            "flex_flow": null,
            "grid_area": null,
            "grid_auto_columns": null,
            "grid_auto_flow": null,
            "grid_auto_rows": null,
            "grid_column": null,
            "grid_gap": null,
            "grid_row": null,
            "grid_template_areas": null,
            "grid_template_columns": null,
            "grid_template_rows": null,
            "height": null,
            "justify_content": null,
            "justify_items": null,
            "left": null,
            "margin": null,
            "max_height": null,
            "max_width": null,
            "min_height": null,
            "min_width": null,
            "object_fit": null,
            "object_position": null,
            "order": null,
            "overflow": null,
            "overflow_x": null,
            "overflow_y": null,
            "padding": null,
            "right": null,
            "top": null,
            "visibility": null,
            "width": null
          }
        },
        "d97c3689b50145ebbe4da64593365348": {
          "model_module": "@jupyter-widgets/controls",
          "model_name": "ProgressStyleModel",
          "model_module_version": "1.5.0",
          "state": {
            "_model_module": "@jupyter-widgets/controls",
            "_model_module_version": "1.5.0",
            "_model_name": "ProgressStyleModel",
            "_view_count": null,
            "_view_module": "@jupyter-widgets/base",
            "_view_module_version": "1.2.0",
            "_view_name": "StyleView",
            "bar_color": null,
            "description_width": ""
          }
        },
        "369335285337466ca1c10d7583ae81cf": {
          "model_module": "@jupyter-widgets/base",
          "model_name": "LayoutModel",
          "model_module_version": "1.2.0",
          "state": {
            "_model_module": "@jupyter-widgets/base",
            "_model_module_version": "1.2.0",
            "_model_name": "LayoutModel",
            "_view_count": null,
            "_view_module": "@jupyter-widgets/base",
            "_view_module_version": "1.2.0",
            "_view_name": "LayoutView",
            "align_content": null,
            "align_items": null,
            "align_self": null,
            "border": null,
            "bottom": null,
            "display": null,
            "flex": null,
            "flex_flow": null,
            "grid_area": null,
            "grid_auto_columns": null,
            "grid_auto_flow": null,
            "grid_auto_rows": null,
            "grid_column": null,
            "grid_gap": null,
            "grid_row": null,
            "grid_template_areas": null,
            "grid_template_columns": null,
            "grid_template_rows": null,
            "height": null,
            "justify_content": null,
            "justify_items": null,
            "left": null,
            "margin": null,
            "max_height": null,
            "max_width": null,
            "min_height": null,
            "min_width": null,
            "object_fit": null,
            "object_position": null,
            "order": null,
            "overflow": null,
            "overflow_x": null,
            "overflow_y": null,
            "padding": null,
            "right": null,
            "top": null,
            "visibility": null,
            "width": null
          }
        },
        "4a83540f731d403abcf93fff68ad4fad": {
          "model_module": "@jupyter-widgets/controls",
          "model_name": "DescriptionStyleModel",
          "model_module_version": "1.5.0",
          "state": {
            "_model_module": "@jupyter-widgets/controls",
            "_model_module_version": "1.5.0",
            "_model_name": "DescriptionStyleModel",
            "_view_count": null,
            "_view_module": "@jupyter-widgets/base",
            "_view_module_version": "1.2.0",
            "_view_name": "StyleView",
            "description_width": ""
          }
        },
        "af5c79e8d9f44338b89f05e50ccc2b89": {
          "model_module": "@jupyter-widgets/controls",
          "model_name": "HBoxModel",
          "model_module_version": "1.5.0",
          "state": {
            "_dom_classes": [],
            "_model_module": "@jupyter-widgets/controls",
            "_model_module_version": "1.5.0",
            "_model_name": "HBoxModel",
            "_view_count": null,
            "_view_module": "@jupyter-widgets/controls",
            "_view_module_version": "1.5.0",
            "_view_name": "HBoxView",
            "box_style": "",
            "children": [
              "IPY_MODEL_302276c3a8aa46c5894daf1896a4f694",
              "IPY_MODEL_f8e8ce410ab4428996b340e118f82891",
              "IPY_MODEL_41f76a15a406447297d40456b8e8cd78"
            ],
            "layout": "IPY_MODEL_5232b8674aa649868254b74b68303449"
          }
        },
        "302276c3a8aa46c5894daf1896a4f694": {
          "model_module": "@jupyter-widgets/controls",
          "model_name": "HTMLModel",
          "model_module_version": "1.5.0",
          "state": {
            "_dom_classes": [],
            "_model_module": "@jupyter-widgets/controls",
            "_model_module_version": "1.5.0",
            "_model_name": "HTMLModel",
            "_view_count": null,
            "_view_module": "@jupyter-widgets/controls",
            "_view_module_version": "1.5.0",
            "_view_name": "HTMLView",
            "description": "",
            "description_tooltip": null,
            "layout": "IPY_MODEL_f6c7e6cbee3b4ccfa8b9c6ff3a0ed2cd",
            "placeholder": "​",
            "style": "IPY_MODEL_d526031e2eb444b596f11aea75e590b3",
            "value": "vocab.json: "
          }
        },
        "f8e8ce410ab4428996b340e118f82891": {
          "model_module": "@jupyter-widgets/controls",
          "model_name": "FloatProgressModel",
          "model_module_version": "1.5.0",
          "state": {
            "_dom_classes": [],
            "_model_module": "@jupyter-widgets/controls",
            "_model_module_version": "1.5.0",
            "_model_name": "FloatProgressModel",
            "_view_count": null,
            "_view_module": "@jupyter-widgets/controls",
            "_view_module_version": "1.5.0",
            "_view_name": "ProgressView",
            "bar_style": "success",
            "description": "",
            "description_tooltip": null,
            "layout": "IPY_MODEL_973ddd1f0853430dab27f5db893f69bc",
            "max": 1,
            "min": 0,
            "orientation": "horizontal",
            "style": "IPY_MODEL_b1efb4e54cb343bda46647b39dba6343",
            "value": 1
          }
        },
        "41f76a15a406447297d40456b8e8cd78": {
          "model_module": "@jupyter-widgets/controls",
          "model_name": "HTMLModel",
          "model_module_version": "1.5.0",
          "state": {
            "_dom_classes": [],
            "_model_module": "@jupyter-widgets/controls",
            "_model_module_version": "1.5.0",
            "_model_name": "HTMLModel",
            "_view_count": null,
            "_view_module": "@jupyter-widgets/controls",
            "_view_module_version": "1.5.0",
            "_view_name": "HTMLView",
            "description": "",
            "description_tooltip": null,
            "layout": "IPY_MODEL_6af3855d8dfb4d6d80dc8166dac9b7d6",
            "placeholder": "​",
            "style": "IPY_MODEL_9842f4ddd8ff42b0bf7d6431f03ef755",
            "value": " 899k/? [00:00&lt;00:00, 1.07MB/s]"
          }
        },
        "5232b8674aa649868254b74b68303449": {
          "model_module": "@jupyter-widgets/base",
          "model_name": "LayoutModel",
          "model_module_version": "1.2.0",
          "state": {
            "_model_module": "@jupyter-widgets/base",
            "_model_module_version": "1.2.0",
            "_model_name": "LayoutModel",
            "_view_count": null,
            "_view_module": "@jupyter-widgets/base",
            "_view_module_version": "1.2.0",
            "_view_name": "LayoutView",
            "align_content": null,
            "align_items": null,
            "align_self": null,
            "border": null,
            "bottom": null,
            "display": null,
            "flex": null,
            "flex_flow": null,
            "grid_area": null,
            "grid_auto_columns": null,
            "grid_auto_flow": null,
            "grid_auto_rows": null,
            "grid_column": null,
            "grid_gap": null,
            "grid_row": null,
            "grid_template_areas": null,
            "grid_template_columns": null,
            "grid_template_rows": null,
            "height": null,
            "justify_content": null,
            "justify_items": null,
            "left": null,
            "margin": null,
            "max_height": null,
            "max_width": null,
            "min_height": null,
            "min_width": null,
            "object_fit": null,
            "object_position": null,
            "order": null,
            "overflow": null,
            "overflow_x": null,
            "overflow_y": null,
            "padding": null,
            "right": null,
            "top": null,
            "visibility": null,
            "width": null
          }
        },
        "f6c7e6cbee3b4ccfa8b9c6ff3a0ed2cd": {
          "model_module": "@jupyter-widgets/base",
          "model_name": "LayoutModel",
          "model_module_version": "1.2.0",
          "state": {
            "_model_module": "@jupyter-widgets/base",
            "_model_module_version": "1.2.0",
            "_model_name": "LayoutModel",
            "_view_count": null,
            "_view_module": "@jupyter-widgets/base",
            "_view_module_version": "1.2.0",
            "_view_name": "LayoutView",
            "align_content": null,
            "align_items": null,
            "align_self": null,
            "border": null,
            "bottom": null,
            "display": null,
            "flex": null,
            "flex_flow": null,
            "grid_area": null,
            "grid_auto_columns": null,
            "grid_auto_flow": null,
            "grid_auto_rows": null,
            "grid_column": null,
            "grid_gap": null,
            "grid_row": null,
            "grid_template_areas": null,
            "grid_template_columns": null,
            "grid_template_rows": null,
            "height": null,
            "justify_content": null,
            "justify_items": null,
            "left": null,
            "margin": null,
            "max_height": null,
            "max_width": null,
            "min_height": null,
            "min_width": null,
            "object_fit": null,
            "object_position": null,
            "order": null,
            "overflow": null,
            "overflow_x": null,
            "overflow_y": null,
            "padding": null,
            "right": null,
            "top": null,
            "visibility": null,
            "width": null
          }
        },
        "d526031e2eb444b596f11aea75e590b3": {
          "model_module": "@jupyter-widgets/controls",
          "model_name": "DescriptionStyleModel",
          "model_module_version": "1.5.0",
          "state": {
            "_model_module": "@jupyter-widgets/controls",
            "_model_module_version": "1.5.0",
            "_model_name": "DescriptionStyleModel",
            "_view_count": null,
            "_view_module": "@jupyter-widgets/base",
            "_view_module_version": "1.2.0",
            "_view_name": "StyleView",
            "description_width": ""
          }
        },
        "973ddd1f0853430dab27f5db893f69bc": {
          "model_module": "@jupyter-widgets/base",
          "model_name": "LayoutModel",
          "model_module_version": "1.2.0",
          "state": {
            "_model_module": "@jupyter-widgets/base",
            "_model_module_version": "1.2.0",
            "_model_name": "LayoutModel",
            "_view_count": null,
            "_view_module": "@jupyter-widgets/base",
            "_view_module_version": "1.2.0",
            "_view_name": "LayoutView",
            "align_content": null,
            "align_items": null,
            "align_self": null,
            "border": null,
            "bottom": null,
            "display": null,
            "flex": null,
            "flex_flow": null,
            "grid_area": null,
            "grid_auto_columns": null,
            "grid_auto_flow": null,
            "grid_auto_rows": null,
            "grid_column": null,
            "grid_gap": null,
            "grid_row": null,
            "grid_template_areas": null,
            "grid_template_columns": null,
            "grid_template_rows": null,
            "height": null,
            "justify_content": null,
            "justify_items": null,
            "left": null,
            "margin": null,
            "max_height": null,
            "max_width": null,
            "min_height": null,
            "min_width": null,
            "object_fit": null,
            "object_position": null,
            "order": null,
            "overflow": null,
            "overflow_x": null,
            "overflow_y": null,
            "padding": null,
            "right": null,
            "top": null,
            "visibility": null,
            "width": "20px"
          }
        },
        "b1efb4e54cb343bda46647b39dba6343": {
          "model_module": "@jupyter-widgets/controls",
          "model_name": "ProgressStyleModel",
          "model_module_version": "1.5.0",
          "state": {
            "_model_module": "@jupyter-widgets/controls",
            "_model_module_version": "1.5.0",
            "_model_name": "ProgressStyleModel",
            "_view_count": null,
            "_view_module": "@jupyter-widgets/base",
            "_view_module_version": "1.2.0",
            "_view_name": "StyleView",
            "bar_color": null,
            "description_width": ""
          }
        },
        "6af3855d8dfb4d6d80dc8166dac9b7d6": {
          "model_module": "@jupyter-widgets/base",
          "model_name": "LayoutModel",
          "model_module_version": "1.2.0",
          "state": {
            "_model_module": "@jupyter-widgets/base",
            "_model_module_version": "1.2.0",
            "_model_name": "LayoutModel",
            "_view_count": null,
            "_view_module": "@jupyter-widgets/base",
            "_view_module_version": "1.2.0",
            "_view_name": "LayoutView",
            "align_content": null,
            "align_items": null,
            "align_self": null,
            "border": null,
            "bottom": null,
            "display": null,
            "flex": null,
            "flex_flow": null,
            "grid_area": null,
            "grid_auto_columns": null,
            "grid_auto_flow": null,
            "grid_auto_rows": null,
            "grid_column": null,
            "grid_gap": null,
            "grid_row": null,
            "grid_template_areas": null,
            "grid_template_columns": null,
            "grid_template_rows": null,
            "height": null,
            "justify_content": null,
            "justify_items": null,
            "left": null,
            "margin": null,
            "max_height": null,
            "max_width": null,
            "min_height": null,
            "min_width": null,
            "object_fit": null,
            "object_position": null,
            "order": null,
            "overflow": null,
            "overflow_x": null,
            "overflow_y": null,
            "padding": null,
            "right": null,
            "top": null,
            "visibility": null,
            "width": null
          }
        },
        "9842f4ddd8ff42b0bf7d6431f03ef755": {
          "model_module": "@jupyter-widgets/controls",
          "model_name": "DescriptionStyleModel",
          "model_module_version": "1.5.0",
          "state": {
            "_model_module": "@jupyter-widgets/controls",
            "_model_module_version": "1.5.0",
            "_model_name": "DescriptionStyleModel",
            "_view_count": null,
            "_view_module": "@jupyter-widgets/base",
            "_view_module_version": "1.2.0",
            "_view_name": "StyleView",
            "description_width": ""
          }
        },
        "031cf3b7e71e49049f19cda525cfe634": {
          "model_module": "@jupyter-widgets/controls",
          "model_name": "HBoxModel",
          "model_module_version": "1.5.0",
          "state": {
            "_dom_classes": [],
            "_model_module": "@jupyter-widgets/controls",
            "_model_module_version": "1.5.0",
            "_model_name": "HBoxModel",
            "_view_count": null,
            "_view_module": "@jupyter-widgets/controls",
            "_view_module_version": "1.5.0",
            "_view_name": "HBoxView",
            "box_style": "",
            "children": [
              "IPY_MODEL_1d080ecba6724f2f957ea28dbd937916",
              "IPY_MODEL_59b3c4859fc64ac29f2a24583b205848",
              "IPY_MODEL_8b61108939f04d74a199d3ac7aaa0e8b"
            ],
            "layout": "IPY_MODEL_29c3b7b1c1bb4e7a80093ca0a732a97c"
          }
        },
        "1d080ecba6724f2f957ea28dbd937916": {
          "model_module": "@jupyter-widgets/controls",
          "model_name": "HTMLModel",
          "model_module_version": "1.5.0",
          "state": {
            "_dom_classes": [],
            "_model_module": "@jupyter-widgets/controls",
            "_model_module_version": "1.5.0",
            "_model_name": "HTMLModel",
            "_view_count": null,
            "_view_module": "@jupyter-widgets/controls",
            "_view_module_version": "1.5.0",
            "_view_name": "HTMLView",
            "description": "",
            "description_tooltip": null,
            "layout": "IPY_MODEL_203aac2ac26f4a9da584efb85d58edf1",
            "placeholder": "​",
            "style": "IPY_MODEL_62401c22bbb04132a959069e47612b65",
            "value": "merges.txt: "
          }
        },
        "59b3c4859fc64ac29f2a24583b205848": {
          "model_module": "@jupyter-widgets/controls",
          "model_name": "FloatProgressModel",
          "model_module_version": "1.5.0",
          "state": {
            "_dom_classes": [],
            "_model_module": "@jupyter-widgets/controls",
            "_model_module_version": "1.5.0",
            "_model_name": "FloatProgressModel",
            "_view_count": null,
            "_view_module": "@jupyter-widgets/controls",
            "_view_module_version": "1.5.0",
            "_view_name": "ProgressView",
            "bar_style": "success",
            "description": "",
            "description_tooltip": null,
            "layout": "IPY_MODEL_aea09bdee1b04debaa08c6610169cdce",
            "max": 1,
            "min": 0,
            "orientation": "horizontal",
            "style": "IPY_MODEL_1f6ff7dd84b6463292d48e73c8bd7ec7",
            "value": 1
          }
        },
        "8b61108939f04d74a199d3ac7aaa0e8b": {
          "model_module": "@jupyter-widgets/controls",
          "model_name": "HTMLModel",
          "model_module_version": "1.5.0",
          "state": {
            "_dom_classes": [],
            "_model_module": "@jupyter-widgets/controls",
            "_model_module_version": "1.5.0",
            "_model_name": "HTMLModel",
            "_view_count": null,
            "_view_module": "@jupyter-widgets/controls",
            "_view_module_version": "1.5.0",
            "_view_name": "HTMLView",
            "description": "",
            "description_tooltip": null,
            "layout": "IPY_MODEL_55b56e0542e04ecda7d5c0c4aef84a82",
            "placeholder": "​",
            "style": "IPY_MODEL_18bf8b2f32a849908109cee1f3671bad",
            "value": " 456k/? [00:00&lt;00:00, 4.74MB/s]"
          }
        },
        "29c3b7b1c1bb4e7a80093ca0a732a97c": {
          "model_module": "@jupyter-widgets/base",
          "model_name": "LayoutModel",
          "model_module_version": "1.2.0",
          "state": {
            "_model_module": "@jupyter-widgets/base",
            "_model_module_version": "1.2.0",
            "_model_name": "LayoutModel",
            "_view_count": null,
            "_view_module": "@jupyter-widgets/base",
            "_view_module_version": "1.2.0",
            "_view_name": "LayoutView",
            "align_content": null,
            "align_items": null,
            "align_self": null,
            "border": null,
            "bottom": null,
            "display": null,
            "flex": null,
            "flex_flow": null,
            "grid_area": null,
            "grid_auto_columns": null,
            "grid_auto_flow": null,
            "grid_auto_rows": null,
            "grid_column": null,
            "grid_gap": null,
            "grid_row": null,
            "grid_template_areas": null,
            "grid_template_columns": null,
            "grid_template_rows": null,
            "height": null,
            "justify_content": null,
            "justify_items": null,
            "left": null,
            "margin": null,
            "max_height": null,
            "max_width": null,
            "min_height": null,
            "min_width": null,
            "object_fit": null,
            "object_position": null,
            "order": null,
            "overflow": null,
            "overflow_x": null,
            "overflow_y": null,
            "padding": null,
            "right": null,
            "top": null,
            "visibility": null,
            "width": null
          }
        },
        "203aac2ac26f4a9da584efb85d58edf1": {
          "model_module": "@jupyter-widgets/base",
          "model_name": "LayoutModel",
          "model_module_version": "1.2.0",
          "state": {
            "_model_module": "@jupyter-widgets/base",
            "_model_module_version": "1.2.0",
            "_model_name": "LayoutModel",
            "_view_count": null,
            "_view_module": "@jupyter-widgets/base",
            "_view_module_version": "1.2.0",
            "_view_name": "LayoutView",
            "align_content": null,
            "align_items": null,
            "align_self": null,
            "border": null,
            "bottom": null,
            "display": null,
            "flex": null,
            "flex_flow": null,
            "grid_area": null,
            "grid_auto_columns": null,
            "grid_auto_flow": null,
            "grid_auto_rows": null,
            "grid_column": null,
            "grid_gap": null,
            "grid_row": null,
            "grid_template_areas": null,
            "grid_template_columns": null,
            "grid_template_rows": null,
            "height": null,
            "justify_content": null,
            "justify_items": null,
            "left": null,
            "margin": null,
            "max_height": null,
            "max_width": null,
            "min_height": null,
            "min_width": null,
            "object_fit": null,
            "object_position": null,
            "order": null,
            "overflow": null,
            "overflow_x": null,
            "overflow_y": null,
            "padding": null,
            "right": null,
            "top": null,
            "visibility": null,
            "width": null
          }
        },
        "62401c22bbb04132a959069e47612b65": {
          "model_module": "@jupyter-widgets/controls",
          "model_name": "DescriptionStyleModel",
          "model_module_version": "1.5.0",
          "state": {
            "_model_module": "@jupyter-widgets/controls",
            "_model_module_version": "1.5.0",
            "_model_name": "DescriptionStyleModel",
            "_view_count": null,
            "_view_module": "@jupyter-widgets/base",
            "_view_module_version": "1.2.0",
            "_view_name": "StyleView",
            "description_width": ""
          }
        },
        "aea09bdee1b04debaa08c6610169cdce": {
          "model_module": "@jupyter-widgets/base",
          "model_name": "LayoutModel",
          "model_module_version": "1.2.0",
          "state": {
            "_model_module": "@jupyter-widgets/base",
            "_model_module_version": "1.2.0",
            "_model_name": "LayoutModel",
            "_view_count": null,
            "_view_module": "@jupyter-widgets/base",
            "_view_module_version": "1.2.0",
            "_view_name": "LayoutView",
            "align_content": null,
            "align_items": null,
            "align_self": null,
            "border": null,
            "bottom": null,
            "display": null,
            "flex": null,
            "flex_flow": null,
            "grid_area": null,
            "grid_auto_columns": null,
            "grid_auto_flow": null,
            "grid_auto_rows": null,
            "grid_column": null,
            "grid_gap": null,
            "grid_row": null,
            "grid_template_areas": null,
            "grid_template_columns": null,
            "grid_template_rows": null,
            "height": null,
            "justify_content": null,
            "justify_items": null,
            "left": null,
            "margin": null,
            "max_height": null,
            "max_width": null,
            "min_height": null,
            "min_width": null,
            "object_fit": null,
            "object_position": null,
            "order": null,
            "overflow": null,
            "overflow_x": null,
            "overflow_y": null,
            "padding": null,
            "right": null,
            "top": null,
            "visibility": null,
            "width": "20px"
          }
        },
        "1f6ff7dd84b6463292d48e73c8bd7ec7": {
          "model_module": "@jupyter-widgets/controls",
          "model_name": "ProgressStyleModel",
          "model_module_version": "1.5.0",
          "state": {
            "_model_module": "@jupyter-widgets/controls",
            "_model_module_version": "1.5.0",
            "_model_name": "ProgressStyleModel",
            "_view_count": null,
            "_view_module": "@jupyter-widgets/base",
            "_view_module_version": "1.2.0",
            "_view_name": "StyleView",
            "bar_color": null,
            "description_width": ""
          }
        },
        "55b56e0542e04ecda7d5c0c4aef84a82": {
          "model_module": "@jupyter-widgets/base",
          "model_name": "LayoutModel",
          "model_module_version": "1.2.0",
          "state": {
            "_model_module": "@jupyter-widgets/base",
            "_model_module_version": "1.2.0",
            "_model_name": "LayoutModel",
            "_view_count": null,
            "_view_module": "@jupyter-widgets/base",
            "_view_module_version": "1.2.0",
            "_view_name": "LayoutView",
            "align_content": null,
            "align_items": null,
            "align_self": null,
            "border": null,
            "bottom": null,
            "display": null,
            "flex": null,
            "flex_flow": null,
            "grid_area": null,
            "grid_auto_columns": null,
            "grid_auto_flow": null,
            "grid_auto_rows": null,
            "grid_column": null,
            "grid_gap": null,
            "grid_row": null,
            "grid_template_areas": null,
            "grid_template_columns": null,
            "grid_template_rows": null,
            "height": null,
            "justify_content": null,
            "justify_items": null,
            "left": null,
            "margin": null,
            "max_height": null,
            "max_width": null,
            "min_height": null,
            "min_width": null,
            "object_fit": null,
            "object_position": null,
            "order": null,
            "overflow": null,
            "overflow_x": null,
            "overflow_y": null,
            "padding": null,
            "right": null,
            "top": null,
            "visibility": null,
            "width": null
          }
        },
        "18bf8b2f32a849908109cee1f3671bad": {
          "model_module": "@jupyter-widgets/controls",
          "model_name": "DescriptionStyleModel",
          "model_module_version": "1.5.0",
          "state": {
            "_model_module": "@jupyter-widgets/controls",
            "_model_module_version": "1.5.0",
            "_model_name": "DescriptionStyleModel",
            "_view_count": null,
            "_view_module": "@jupyter-widgets/base",
            "_view_module_version": "1.2.0",
            "_view_name": "StyleView",
            "description_width": ""
          }
        },
        "0f9bd58ac55e4d4cae6ea8ac17776f3d": {
          "model_module": "@jupyter-widgets/controls",
          "model_name": "HBoxModel",
          "model_module_version": "1.5.0",
          "state": {
            "_dom_classes": [],
            "_model_module": "@jupyter-widgets/controls",
            "_model_module_version": "1.5.0",
            "_model_name": "HBoxModel",
            "_view_count": null,
            "_view_module": "@jupyter-widgets/controls",
            "_view_module_version": "1.5.0",
            "_view_name": "HBoxView",
            "box_style": "",
            "children": [
              "IPY_MODEL_f9f9e8f2774f4d26bfa3c2cb6ff0b2ca",
              "IPY_MODEL_85cc8b8c2cc44eba82b7e59953ba848e",
              "IPY_MODEL_752f7c861b13455fa019daa581e18b35"
            ],
            "layout": "IPY_MODEL_b69124c8bca14c4c9104ed9754fb3559"
          }
        },
        "f9f9e8f2774f4d26bfa3c2cb6ff0b2ca": {
          "model_module": "@jupyter-widgets/controls",
          "model_name": "HTMLModel",
          "model_module_version": "1.5.0",
          "state": {
            "_dom_classes": [],
            "_model_module": "@jupyter-widgets/controls",
            "_model_module_version": "1.5.0",
            "_model_name": "HTMLModel",
            "_view_count": null,
            "_view_module": "@jupyter-widgets/controls",
            "_view_module_version": "1.5.0",
            "_view_name": "HTMLView",
            "description": "",
            "description_tooltip": null,
            "layout": "IPY_MODEL_21b967a91f074afea4efe7780c393ac0",
            "placeholder": "​",
            "style": "IPY_MODEL_21f987fff2c248a69fbfbded31f7dbbd",
            "value": "tokenizer.json: "
          }
        },
        "85cc8b8c2cc44eba82b7e59953ba848e": {
          "model_module": "@jupyter-widgets/controls",
          "model_name": "FloatProgressModel",
          "model_module_version": "1.5.0",
          "state": {
            "_dom_classes": [],
            "_model_module": "@jupyter-widgets/controls",
            "_model_module_version": "1.5.0",
            "_model_name": "FloatProgressModel",
            "_view_count": null,
            "_view_module": "@jupyter-widgets/controls",
            "_view_module_version": "1.5.0",
            "_view_name": "ProgressView",
            "bar_style": "success",
            "description": "",
            "description_tooltip": null,
            "layout": "IPY_MODEL_8b1b9c846d94497b8f69187fe01b05e1",
            "max": 1,
            "min": 0,
            "orientation": "horizontal",
            "style": "IPY_MODEL_6972fd4cb64d400cbb0e952fba3a9770",
            "value": 1
          }
        },
        "752f7c861b13455fa019daa581e18b35": {
          "model_module": "@jupyter-widgets/controls",
          "model_name": "HTMLModel",
          "model_module_version": "1.5.0",
          "state": {
            "_dom_classes": [],
            "_model_module": "@jupyter-widgets/controls",
            "_model_module_version": "1.5.0",
            "_model_name": "HTMLModel",
            "_view_count": null,
            "_view_module": "@jupyter-widgets/controls",
            "_view_module_version": "1.5.0",
            "_view_name": "HTMLView",
            "description": "",
            "description_tooltip": null,
            "layout": "IPY_MODEL_531defba2b5f4c719fec7a2f4f9407f3",
            "placeholder": "​",
            "style": "IPY_MODEL_7b4bc7bc15984825903dc1d5a1054b5f",
            "value": " 1.36M/? [00:00&lt;00:00, 15.4MB/s]"
          }
        },
        "b69124c8bca14c4c9104ed9754fb3559": {
          "model_module": "@jupyter-widgets/base",
          "model_name": "LayoutModel",
          "model_module_version": "1.2.0",
          "state": {
            "_model_module": "@jupyter-widgets/base",
            "_model_module_version": "1.2.0",
            "_model_name": "LayoutModel",
            "_view_count": null,
            "_view_module": "@jupyter-widgets/base",
            "_view_module_version": "1.2.0",
            "_view_name": "LayoutView",
            "align_content": null,
            "align_items": null,
            "align_self": null,
            "border": null,
            "bottom": null,
            "display": null,
            "flex": null,
            "flex_flow": null,
            "grid_area": null,
            "grid_auto_columns": null,
            "grid_auto_flow": null,
            "grid_auto_rows": null,
            "grid_column": null,
            "grid_gap": null,
            "grid_row": null,
            "grid_template_areas": null,
            "grid_template_columns": null,
            "grid_template_rows": null,
            "height": null,
            "justify_content": null,
            "justify_items": null,
            "left": null,
            "margin": null,
            "max_height": null,
            "max_width": null,
            "min_height": null,
            "min_width": null,
            "object_fit": null,
            "object_position": null,
            "order": null,
            "overflow": null,
            "overflow_x": null,
            "overflow_y": null,
            "padding": null,
            "right": null,
            "top": null,
            "visibility": null,
            "width": null
          }
        },
        "21b967a91f074afea4efe7780c393ac0": {
          "model_module": "@jupyter-widgets/base",
          "model_name": "LayoutModel",
          "model_module_version": "1.2.0",
          "state": {
            "_model_module": "@jupyter-widgets/base",
            "_model_module_version": "1.2.0",
            "_model_name": "LayoutModel",
            "_view_count": null,
            "_view_module": "@jupyter-widgets/base",
            "_view_module_version": "1.2.0",
            "_view_name": "LayoutView",
            "align_content": null,
            "align_items": null,
            "align_self": null,
            "border": null,
            "bottom": null,
            "display": null,
            "flex": null,
            "flex_flow": null,
            "grid_area": null,
            "grid_auto_columns": null,
            "grid_auto_flow": null,
            "grid_auto_rows": null,
            "grid_column": null,
            "grid_gap": null,
            "grid_row": null,
            "grid_template_areas": null,
            "grid_template_columns": null,
            "grid_template_rows": null,
            "height": null,
            "justify_content": null,
            "justify_items": null,
            "left": null,
            "margin": null,
            "max_height": null,
            "max_width": null,
            "min_height": null,
            "min_width": null,
            "object_fit": null,
            "object_position": null,
            "order": null,
            "overflow": null,
            "overflow_x": null,
            "overflow_y": null,
            "padding": null,
            "right": null,
            "top": null,
            "visibility": null,
            "width": null
          }
        },
        "21f987fff2c248a69fbfbded31f7dbbd": {
          "model_module": "@jupyter-widgets/controls",
          "model_name": "DescriptionStyleModel",
          "model_module_version": "1.5.0",
          "state": {
            "_model_module": "@jupyter-widgets/controls",
            "_model_module_version": "1.5.0",
            "_model_name": "DescriptionStyleModel",
            "_view_count": null,
            "_view_module": "@jupyter-widgets/base",
            "_view_module_version": "1.2.0",
            "_view_name": "StyleView",
            "description_width": ""
          }
        },
        "8b1b9c846d94497b8f69187fe01b05e1": {
          "model_module": "@jupyter-widgets/base",
          "model_name": "LayoutModel",
          "model_module_version": "1.2.0",
          "state": {
            "_model_module": "@jupyter-widgets/base",
            "_model_module_version": "1.2.0",
            "_model_name": "LayoutModel",
            "_view_count": null,
            "_view_module": "@jupyter-widgets/base",
            "_view_module_version": "1.2.0",
            "_view_name": "LayoutView",
            "align_content": null,
            "align_items": null,
            "align_self": null,
            "border": null,
            "bottom": null,
            "display": null,
            "flex": null,
            "flex_flow": null,
            "grid_area": null,
            "grid_auto_columns": null,
            "grid_auto_flow": null,
            "grid_auto_rows": null,
            "grid_column": null,
            "grid_gap": null,
            "grid_row": null,
            "grid_template_areas": null,
            "grid_template_columns": null,
            "grid_template_rows": null,
            "height": null,
            "justify_content": null,
            "justify_items": null,
            "left": null,
            "margin": null,
            "max_height": null,
            "max_width": null,
            "min_height": null,
            "min_width": null,
            "object_fit": null,
            "object_position": null,
            "order": null,
            "overflow": null,
            "overflow_x": null,
            "overflow_y": null,
            "padding": null,
            "right": null,
            "top": null,
            "visibility": null,
            "width": "20px"
          }
        },
        "6972fd4cb64d400cbb0e952fba3a9770": {
          "model_module": "@jupyter-widgets/controls",
          "model_name": "ProgressStyleModel",
          "model_module_version": "1.5.0",
          "state": {
            "_model_module": "@jupyter-widgets/controls",
            "_model_module_version": "1.5.0",
            "_model_name": "ProgressStyleModel",
            "_view_count": null,
            "_view_module": "@jupyter-widgets/base",
            "_view_module_version": "1.2.0",
            "_view_name": "StyleView",
            "bar_color": null,
            "description_width": ""
          }
        },
        "531defba2b5f4c719fec7a2f4f9407f3": {
          "model_module": "@jupyter-widgets/base",
          "model_name": "LayoutModel",
          "model_module_version": "1.2.0",
          "state": {
            "_model_module": "@jupyter-widgets/base",
            "_model_module_version": "1.2.0",
            "_model_name": "LayoutModel",
            "_view_count": null,
            "_view_module": "@jupyter-widgets/base",
            "_view_module_version": "1.2.0",
            "_view_name": "LayoutView",
            "align_content": null,
            "align_items": null,
            "align_self": null,
            "border": null,
            "bottom": null,
            "display": null,
            "flex": null,
            "flex_flow": null,
            "grid_area": null,
            "grid_auto_columns": null,
            "grid_auto_flow": null,
            "grid_auto_rows": null,
            "grid_column": null,
            "grid_gap": null,
            "grid_row": null,
            "grid_template_areas": null,
            "grid_template_columns": null,
            "grid_template_rows": null,
            "height": null,
            "justify_content": null,
            "justify_items": null,
            "left": null,
            "margin": null,
            "max_height": null,
            "max_width": null,
            "min_height": null,
            "min_width": null,
            "object_fit": null,
            "object_position": null,
            "order": null,
            "overflow": null,
            "overflow_x": null,
            "overflow_y": null,
            "padding": null,
            "right": null,
            "top": null,
            "visibility": null,
            "width": null
          }
        },
        "7b4bc7bc15984825903dc1d5a1054b5f": {
          "model_module": "@jupyter-widgets/controls",
          "model_name": "DescriptionStyleModel",
          "model_module_version": "1.5.0",
          "state": {
            "_model_module": "@jupyter-widgets/controls",
            "_model_module_version": "1.5.0",
            "_model_name": "DescriptionStyleModel",
            "_view_count": null,
            "_view_module": "@jupyter-widgets/base",
            "_view_module_version": "1.2.0",
            "_view_name": "StyleView",
            "description_width": ""
          }
        }
      }
    }
  },
  "cells": [
    {
      "cell_type": "markdown",
      "source": [
        "# T-725 Natural Language Processing: Lab 7\n",
        "In today's lab, we will be working with spaCy and Huggingface for a variety of tasks. We'll also learn how to use Gradio to quickly create convenient user interfaces.\n",
        "\n",
        "To begin with, do the following:\n",
        "* Select `\"File\" > \"Save a copy in Drive\"` to create a local copy of this notebook that you can edit.\n",
        "* **Select `\"Runtime\" > \"Change runtime type\"`, and make sure that you have \"Hardware accelerator\" set to \"GPU\"**\n",
        "* Select `\"Runtime\" > \"Run all\"` to run the code in this notebook."
      ],
      "metadata": {
        "id": "GVUWLZAzmLvK"
      }
    },
    {
      "cell_type": "markdown",
      "source": [
        "## spaCy\n",
        "\n",
        "[spaCy](https://spacy.io) is a free, open-source library for advanced Natural Language Processing (NLP) in Python.\n",
        "\n",
        "spaCy is designed specifically for production use and helps you build applications that process and “understand” large volumes of text. It can be used to build information extraction or natural language understanding systems, or to pre-process text for deep learning."
      ],
      "metadata": {
        "id": "vvRd4TzTm4uJ"
      }
    },
    {
      "cell_type": "markdown",
      "source": [
        "### Features\n",
        "\n",
        "Name | Description\n",
        "---|---\n",
        "**Tokenization** | Segmenting text into words, punctuations marks etc.\n",
        "**Part-of-speech (POS) Tagging** | Assigning word types to tokens, like verb or noun.\n",
        "**Dependency Parsing** | Assigning syntactic dependency labels, describing the relations between individual tokens, like subject or object.\n",
        "**Lemmatization** |\tAssigning the base forms of words. For example, the lemma of “was” is “be”, and the lemma of “rats” is “rat”.\n",
        "**Sentence Boundary Detection (SBD)** |\tFinding and segmenting individual sentences.\n",
        "**Named Entity Recognition (NER)** | Labelling named “real-world” objects, like persons, companies or locations.\n",
        "**Entity Linking (EL)** | Disambiguating textual entities to unique identifiers in a knowledge base.\n",
        "**Similarity** | Comparing words, text spans and documents and how similar they are to each other.\n",
        "**Text Classification** | Assigning categories or labels to a whole document, or parts of a document.\n",
        "**Rule-based Matching** | Finding sequences of tokens based on their texts and linguistic annotations, similar to regular expressions.\n",
        "**Training** | Updating and improving a statistical model’s predictions.\n",
        "**Serialization** | Saving objects to files or byte strings."
      ],
      "metadata": {
        "id": "i_HhgHSAR5gI"
      }
    },
    {
      "cell_type": "markdown",
      "source": [
        "### Trained Pipelines\n",
        "\n",
        "While some of spaCy’s features work independently, others require [trained pipelines](https://spacy.io/models) to be loaded, which enable spaCy to predict linguistic annotations – for example, whether a word is a verb or a noun. A trained pipeline can consist of multiple components that use a statistical model trained on labeled data. spaCy currently offers trained pipelines for a variety of languages, which can be installed as individual Python modules."
      ],
      "metadata": {
        "id": "ryBLzQt2R0AD"
      }
    },
    {
      "cell_type": "markdown",
      "source": [
        "### Summarization Example\n",
        "Let's take a look at some of the functionality of spaCy through the example of [automatic summarization](https://medium.com/luisfredgs/automatic-text-summarization-with-machine-learning-an-overview-68ded5717a25). There are two main types of summarization: extractive and abstractive. Extractive summarization selects a subset of sentences from the text to form a summary; abstractive summarization reorganizes the language in the text and adds novel words/phrases into the summary if necessary.\n",
        "\n",
        "For this example we'll be doing automatic [extractive summarization](https://medium.com/analytics-vidhya/text-summarization-using-spacy-ca4867c6b744)."
      ],
      "metadata": {
        "id": "yGGTyegyYyI_"
      }
    },
    {
      "cell_type": "markdown",
      "source": [
        "First install spaCy:"
      ],
      "metadata": {
        "id": "fQ8XS7evav7g"
      }
    },
    {
      "cell_type": "code",
      "source": [
        "# NB: NLTK must be imported before installing spaCy\n",
        "import nltk\n",
        "nltk.download('punkt_tab')"
      ],
      "metadata": {
        "id": "MZNmXnmkgDuP",
        "colab": {
          "base_uri": "https://localhost:8080/"
        },
        "outputId": "acc0039e-276d-4a3d-d14a-970f5a3bfada"
      },
      "execution_count": 1,
      "outputs": [
        {
          "output_type": "stream",
          "name": "stderr",
          "text": [
            "[nltk_data] Downloading package punkt_tab to /root/nltk_data...\n",
            "[nltk_data]   Package punkt_tab is already up-to-date!\n"
          ]
        },
        {
          "output_type": "execute_result",
          "data": {
            "text/plain": [
              "True"
            ]
          },
          "metadata": {},
          "execution_count": 1
        }
      ]
    },
    {
      "cell_type": "code",
      "source": [
        "!pip install -U spacy"
      ],
      "metadata": {
        "id": "C18jWsZaTwid",
        "colab": {
          "base_uri": "https://localhost:8080/"
        },
        "outputId": "bcf04550-6007-4486-af2f-6a7621d13f6f"
      },
      "execution_count": 2,
      "outputs": [
        {
          "output_type": "stream",
          "name": "stdout",
          "text": [
            "Requirement already satisfied: spacy in /usr/local/lib/python3.12/dist-packages (3.8.7)\n",
            "Requirement already satisfied: spacy-legacy<3.1.0,>=3.0.11 in /usr/local/lib/python3.12/dist-packages (from spacy) (3.0.12)\n",
            "Requirement already satisfied: spacy-loggers<2.0.0,>=1.0.0 in /usr/local/lib/python3.12/dist-packages (from spacy) (1.0.5)\n",
            "Requirement already satisfied: murmurhash<1.1.0,>=0.28.0 in /usr/local/lib/python3.12/dist-packages (from spacy) (1.0.13)\n",
            "Requirement already satisfied: cymem<2.1.0,>=2.0.2 in /usr/local/lib/python3.12/dist-packages (from spacy) (2.0.11)\n",
            "Requirement already satisfied: preshed<3.1.0,>=3.0.2 in /usr/local/lib/python3.12/dist-packages (from spacy) (3.0.10)\n",
            "Requirement already satisfied: thinc<8.4.0,>=8.3.4 in /usr/local/lib/python3.12/dist-packages (from spacy) (8.3.6)\n",
            "Requirement already satisfied: wasabi<1.2.0,>=0.9.1 in /usr/local/lib/python3.12/dist-packages (from spacy) (1.1.3)\n",
            "Requirement already satisfied: srsly<3.0.0,>=2.4.3 in /usr/local/lib/python3.12/dist-packages (from spacy) (2.5.1)\n",
            "Requirement already satisfied: catalogue<2.1.0,>=2.0.6 in /usr/local/lib/python3.12/dist-packages (from spacy) (2.0.10)\n",
            "Requirement already satisfied: weasel<0.5.0,>=0.1.0 in /usr/local/lib/python3.12/dist-packages (from spacy) (0.4.1)\n",
            "Requirement already satisfied: typer<1.0.0,>=0.3.0 in /usr/local/lib/python3.12/dist-packages (from spacy) (0.19.2)\n",
            "Requirement already satisfied: tqdm<5.0.0,>=4.38.0 in /usr/local/lib/python3.12/dist-packages (from spacy) (4.67.1)\n",
            "Requirement already satisfied: numpy>=1.19.0 in /usr/local/lib/python3.12/dist-packages (from spacy) (2.0.2)\n",
            "Requirement already satisfied: requests<3.0.0,>=2.13.0 in /usr/local/lib/python3.12/dist-packages (from spacy) (2.32.4)\n",
            "Requirement already satisfied: pydantic!=1.8,!=1.8.1,<3.0.0,>=1.7.4 in /usr/local/lib/python3.12/dist-packages (from spacy) (2.11.9)\n",
            "Requirement already satisfied: jinja2 in /usr/local/lib/python3.12/dist-packages (from spacy) (3.1.6)\n",
            "Requirement already satisfied: setuptools in /usr/local/lib/python3.12/dist-packages (from spacy) (75.2.0)\n",
            "Requirement already satisfied: packaging>=20.0 in /usr/local/lib/python3.12/dist-packages (from spacy) (25.0)\n",
            "Requirement already satisfied: langcodes<4.0.0,>=3.2.0 in /usr/local/lib/python3.12/dist-packages (from spacy) (3.5.0)\n",
            "Requirement already satisfied: language-data>=1.2 in /usr/local/lib/python3.12/dist-packages (from langcodes<4.0.0,>=3.2.0->spacy) (1.3.0)\n",
            "Requirement already satisfied: annotated-types>=0.6.0 in /usr/local/lib/python3.12/dist-packages (from pydantic!=1.8,!=1.8.1,<3.0.0,>=1.7.4->spacy) (0.7.0)\n",
            "Requirement already satisfied: pydantic-core==2.33.2 in /usr/local/lib/python3.12/dist-packages (from pydantic!=1.8,!=1.8.1,<3.0.0,>=1.7.4->spacy) (2.33.2)\n",
            "Requirement already satisfied: typing-extensions>=4.12.2 in /usr/local/lib/python3.12/dist-packages (from pydantic!=1.8,!=1.8.1,<3.0.0,>=1.7.4->spacy) (4.15.0)\n",
            "Requirement already satisfied: typing-inspection>=0.4.0 in /usr/local/lib/python3.12/dist-packages (from pydantic!=1.8,!=1.8.1,<3.0.0,>=1.7.4->spacy) (0.4.2)\n",
            "Requirement already satisfied: charset_normalizer<4,>=2 in /usr/local/lib/python3.12/dist-packages (from requests<3.0.0,>=2.13.0->spacy) (3.4.3)\n",
            "Requirement already satisfied: idna<4,>=2.5 in /usr/local/lib/python3.12/dist-packages (from requests<3.0.0,>=2.13.0->spacy) (3.10)\n",
            "Requirement already satisfied: urllib3<3,>=1.21.1 in /usr/local/lib/python3.12/dist-packages (from requests<3.0.0,>=2.13.0->spacy) (2.5.0)\n",
            "Requirement already satisfied: certifi>=2017.4.17 in /usr/local/lib/python3.12/dist-packages (from requests<3.0.0,>=2.13.0->spacy) (2025.8.3)\n",
            "Requirement already satisfied: blis<1.4.0,>=1.3.0 in /usr/local/lib/python3.12/dist-packages (from thinc<8.4.0,>=8.3.4->spacy) (1.3.0)\n",
            "Requirement already satisfied: confection<1.0.0,>=0.0.1 in /usr/local/lib/python3.12/dist-packages (from thinc<8.4.0,>=8.3.4->spacy) (0.1.5)\n",
            "Requirement already satisfied: click>=8.0.0 in /usr/local/lib/python3.12/dist-packages (from typer<1.0.0,>=0.3.0->spacy) (8.3.0)\n",
            "Requirement already satisfied: shellingham>=1.3.0 in /usr/local/lib/python3.12/dist-packages (from typer<1.0.0,>=0.3.0->spacy) (1.5.4)\n",
            "Requirement already satisfied: rich>=10.11.0 in /usr/local/lib/python3.12/dist-packages (from typer<1.0.0,>=0.3.0->spacy) (13.9.4)\n",
            "Requirement already satisfied: cloudpathlib<1.0.0,>=0.7.0 in /usr/local/lib/python3.12/dist-packages (from weasel<0.5.0,>=0.1.0->spacy) (0.22.0)\n",
            "Requirement already satisfied: smart-open<8.0.0,>=5.2.1 in /usr/local/lib/python3.12/dist-packages (from weasel<0.5.0,>=0.1.0->spacy) (7.3.1)\n",
            "Requirement already satisfied: MarkupSafe>=2.0 in /usr/local/lib/python3.12/dist-packages (from jinja2->spacy) (3.0.3)\n",
            "Requirement already satisfied: marisa-trie>=1.1.0 in /usr/local/lib/python3.12/dist-packages (from language-data>=1.2->langcodes<4.0.0,>=3.2.0->spacy) (1.3.1)\n",
            "Requirement already satisfied: markdown-it-py>=2.2.0 in /usr/local/lib/python3.12/dist-packages (from rich>=10.11.0->typer<1.0.0,>=0.3.0->spacy) (4.0.0)\n",
            "Requirement already satisfied: pygments<3.0.0,>=2.13.0 in /usr/local/lib/python3.12/dist-packages (from rich>=10.11.0->typer<1.0.0,>=0.3.0->spacy) (2.19.2)\n",
            "Requirement already satisfied: wrapt in /usr/local/lib/python3.12/dist-packages (from smart-open<8.0.0,>=5.2.1->weasel<0.5.0,>=0.1.0->spacy) (1.17.3)\n",
            "Requirement already satisfied: mdurl~=0.1 in /usr/local/lib/python3.12/dist-packages (from markdown-it-py>=2.2.0->rich>=10.11.0->typer<1.0.0,>=0.3.0->spacy) (0.1.2)\n"
          ]
        }
      ]
    },
    {
      "cell_type": "markdown",
      "source": [
        "Then import all necessary modules:"
      ],
      "metadata": {
        "id": "owNTDP4lazIk"
      }
    },
    {
      "cell_type": "code",
      "source": [
        "import spacy\n",
        "from spacy.lang.en.stop_words import STOP_WORDS\n",
        "from string import punctuation\n",
        "from collections import Counter\n",
        "from heapq import nlargest"
      ],
      "metadata": {
        "id": "kCxIVdDk0_cQ"
      },
      "execution_count": 3,
      "outputs": []
    },
    {
      "cell_type": "markdown",
      "source": [
        "There are many [other languages](https://spacy.io/usage/models) to choose from. Here we load the English language models:"
      ],
      "metadata": {
        "id": "Y_CC1uaSbAk0"
      }
    },
    {
      "cell_type": "code",
      "source": [
        "nlp = spacy.load('en_core_web_sm')"
      ],
      "metadata": {
        "id": "maUkAIjd1ASa"
      },
      "execution_count": 4,
      "outputs": []
    },
    {
      "cell_type": "markdown",
      "source": [
        "Choose some text to be summarized and store it in a variable:"
      ],
      "metadata": {
        "id": "b6Se2Tj0a6z9"
      }
    },
    {
      "cell_type": "code",
      "source": [
        "long_text = \"\"\"\n",
        "Machine learning (ML) is the scientific study of algorithms and statistical models\n",
        "that computer systems use to progressively improve their performance on a specific\n",
        "task. Machine learning algorithms build a mathematical model of sample data, known as\n",
        "“training data”, in order to make predictions or decisions without being explicitly\n",
        "programmed to perform the task. Machine learning algorithms are used in the applications\n",
        "of email filtering, detection of network intruders, and computer vision, where it\n",
        "is infeasible to develop an algorithm of specific instructions for performing the task.\n",
        "Machine learning is closely related to computational statistics, which focuses on\n",
        "making predictions using computers. The study of mathematical optimization delivers\n",
        "methods, theory and application domains to the field of machine learning. Data mining\n",
        "is a field of study within machine learning and focuses on exploratory data analysis\n",
        "through unsupervised learning. In its application across business problems, machine\n",
        "learning is also referred to as predictive analytics.\n",
        "\"\"\""
      ],
      "metadata": {
        "id": "1UejJJP_1NM1"
      },
      "execution_count": 5,
      "outputs": []
    },
    {
      "cell_type": "markdown",
      "source": [
        "Pass the text to the `nlp` function:"
      ],
      "metadata": {
        "id": "psGxQfn6bS2z"
      }
    },
    {
      "cell_type": "code",
      "source": [
        "doc = nlp(long_text)"
      ],
      "metadata": {
        "id": "tZ-X-fVX1Qlj"
      },
      "execution_count": 6,
      "outputs": []
    },
    {
      "cell_type": "markdown",
      "source": [
        "At this point, the text has been processed, i.e., tokenized, lemmatized, tagged with parts-of-speech, and parsed. A variety of lingustic features are accessbile via the `doc` object, e.g.:\n",
        "\n",
        "* Lemmas\n",
        "* Parts of speech\n",
        "* Dependency parse\n",
        "* Named entities\n",
        "* Chunks\n",
        "* Is alphabet character\n",
        "* Is capitalized\n",
        "* Is in the stop list\n",
        "\n",
        "The following will print out each of those bits of information for every token in the original text, one token per line:"
      ],
      "metadata": {
        "id": "s7oEufIlb31T"
      }
    },
    {
      "cell_type": "code",
      "source": [
        "for token in doc:\n",
        "    print(token.text, token.lemma_, token.pos_, token.tag_, token.dep_,\n",
        "            token.shape_, token.is_alpha, token.is_stop)"
      ],
      "metadata": {
        "id": "CBCarRfubsOs",
        "colab": {
          "base_uri": "https://localhost:8080/"
        },
        "outputId": "246f5266-a07a-4792-b964-6a3ed838006c"
      },
      "execution_count": 7,
      "outputs": [
        {
          "output_type": "stream",
          "name": "stdout",
          "text": [
            "\n",
            " \n",
            " SPACE _SP dep \n",
            " False False\n",
            "Machine machine NOUN NN compound Xxxxx True False\n",
            "learning learning NOUN NN nsubj xxxx True False\n",
            "( ( PUNCT -LRB- punct ( False False\n",
            "ML ML PROPN NNP appos XX True False\n",
            ") ) PUNCT -RRB- punct ) False False\n",
            "is be AUX VBZ ROOT xx True True\n",
            "the the DET DT det xxx True True\n",
            "scientific scientific ADJ JJ amod xxxx True False\n",
            "study study NOUN NN attr xxxx True False\n",
            "of of ADP IN prep xx True True\n",
            "algorithms algorithm NOUN NNS pobj xxxx True False\n",
            "and and CCONJ CC cc xxx True True\n",
            "statistical statistical ADJ JJ amod xxxx True False\n",
            "models model NOUN NNS conj xxxx True False\n",
            "\n",
            " \n",
            " SPACE _SP dep \n",
            " False False\n",
            "that that SCONJ IN dobj xxxx True True\n",
            "computer computer NOUN NN compound xxxx True False\n",
            "systems system NOUN NNS nsubj xxxx True False\n",
            "use use VERB VBP relcl xxx True False\n",
            "to to PART TO aux xx True True\n",
            "progressively progressively ADV RB advmod xxxx True False\n",
            "improve improve VERB VB xcomp xxxx True False\n",
            "their their PRON PRP$ poss xxxx True True\n",
            "performance performance NOUN NN dobj xxxx True False\n",
            "on on ADP IN prep xx True True\n",
            "a a DET DT det x True True\n",
            "specific specific ADJ JJ amod xxxx True False\n",
            "\n",
            " \n",
            " SPACE _SP dep \n",
            " False False\n",
            "task task NOUN NN pobj xxxx True False\n",
            ". . PUNCT . punct . False False\n",
            "Machine machine NOUN NN compound Xxxxx True False\n",
            "learning learning NOUN NN compound xxxx True False\n",
            "algorithms algorithm NOUN NNS nsubj xxxx True False\n",
            "build build VERB VB ROOT xxxx True False\n",
            "a a DET DT det x True True\n",
            "mathematical mathematical ADJ JJ amod xxxx True False\n",
            "model model NOUN NN dobj xxxx True False\n",
            "of of ADP IN prep xx True True\n",
            "sample sample NOUN NN compound xxxx True False\n",
            "data datum NOUN NNS pobj xxxx True False\n",
            ", , PUNCT , punct , False False\n",
            "known know VERB VBN acl xxxx True False\n",
            "as as ADP IN prep xx True True\n",
            "\n",
            " \n",
            " SPACE _SP dep \n",
            " False False\n",
            "“ \" PUNCT `` punct “ False False\n",
            "training training NOUN NN compound xxxx True False\n",
            "data datum NOUN NNS pobj xxxx True False\n",
            "” \" PUNCT '' punct ” False False\n",
            ", , PUNCT , punct , False False\n",
            "in in ADP IN prep xx True True\n",
            "order order NOUN NN pobj xxxx True False\n",
            "to to PART TO aux xx True True\n",
            "make make VERB VB acl xxxx True True\n",
            "predictions prediction NOUN NNS dobj xxxx True False\n",
            "or or CCONJ CC cc xx True True\n",
            "decisions decision NOUN NNS conj xxxx True False\n",
            "without without ADP IN prep xxxx True True\n",
            "being be AUX VBG auxpass xxxx True True\n",
            "explicitly explicitly ADV RB advmod xxxx True False\n",
            "\n",
            " \n",
            " SPACE _SP dep \n",
            " False False\n",
            "programmed program VERB VBN pcomp xxxx True False\n",
            "to to PART TO aux xx True True\n",
            "perform perform VERB VB xcomp xxxx True False\n",
            "the the DET DT det xxx True True\n",
            "task task NOUN NN dobj xxxx True False\n",
            ". . PUNCT . punct . False False\n",
            "Machine machine NOUN NN compound Xxxxx True False\n",
            "learning learning NOUN NN compound xxxx True False\n",
            "algorithms algorithm NOUN NNS nsubjpass xxxx True False\n",
            "are be AUX VBP auxpass xxx True True\n",
            "used use VERB VBN ROOT xxxx True True\n",
            "in in ADP IN prep xx True True\n",
            "the the DET DT det xxx True True\n",
            "applications application NOUN NNS pobj xxxx True False\n",
            "\n",
            " \n",
            " SPACE _SP dep \n",
            " False False\n",
            "of of ADP IN prep xx True True\n",
            "email email NOUN NN compound xxxx True False\n",
            "filtering filtering NOUN NN pobj xxxx True False\n",
            ", , PUNCT , punct , False False\n",
            "detection detection NOUN NN conj xxxx True False\n",
            "of of ADP IN prep xx True True\n",
            "network network NOUN NN compound xxxx True False\n",
            "intruders intruder NOUN NNS pobj xxxx True False\n",
            ", , PUNCT , punct , False False\n",
            "and and CCONJ CC cc xxx True True\n",
            "computer computer NOUN NN compound xxxx True False\n",
            "vision vision NOUN NN conj xxxx True False\n",
            ", , PUNCT , punct , False False\n",
            "where where SCONJ WRB advmod xxxx True True\n",
            "it it PRON PRP nsubj xx True True\n",
            "\n",
            " \n",
            " SPACE _SP dep \n",
            " False False\n",
            "is be AUX VBZ relcl xx True True\n",
            "infeasible infeasible ADJ JJ acomp xxxx True False\n",
            "to to PART TO aux xx True True\n",
            "develop develop VERB VB xcomp xxxx True False\n",
            "an an DET DT det xx True True\n",
            "algorithm algorithm NOUN NN dobj xxxx True False\n",
            "of of ADP IN prep xx True True\n",
            "specific specific ADJ JJ amod xxxx True False\n",
            "instructions instruction NOUN NNS pobj xxxx True False\n",
            "for for ADP IN prep xxx True True\n",
            "performing perform VERB VBG pcomp xxxx True False\n",
            "the the DET DT det xxx True True\n",
            "task task NOUN NN dobj xxxx True False\n",
            ". . PUNCT . punct . False False\n",
            "\n",
            " \n",
            " SPACE _SP dep \n",
            " False False\n",
            "Machine machine NOUN NN compound Xxxxx True False\n",
            "learning learning NOUN NN nsubj xxxx True False\n",
            "is be AUX VBZ ROOT xx True True\n",
            "closely closely ADV RB advmod xxxx True False\n",
            "related related ADJ JJ acomp xxxx True False\n",
            "to to ADP IN prep xx True True\n",
            "computational computational ADJ JJ amod xxxx True False\n",
            "statistics statistic NOUN NNS pobj xxxx True False\n",
            ", , PUNCT , punct , False False\n",
            "which which PRON WDT nsubj xxxx True True\n",
            "focuses focus VERB VBZ relcl xxxx True False\n",
            "on on ADP IN prep xx True True\n",
            "\n",
            " \n",
            " SPACE _SP dep \n",
            " False False\n",
            "making make VERB VBG pcomp xxxx True False\n",
            "predictions prediction NOUN NNS dobj xxxx True False\n",
            "using use VERB VBG acl xxxx True True\n",
            "computers computer NOUN NNS dobj xxxx True False\n",
            ". . PUNCT . punct . False False\n",
            "The the DET DT det Xxx True True\n",
            "study study NOUN NN nsubj xxxx True False\n",
            "of of ADP IN prep xx True True\n",
            "mathematical mathematical ADJ JJ amod xxxx True False\n",
            "optimization optimization NOUN NN pobj xxxx True False\n",
            "delivers deliver VERB VBZ ROOT xxxx True False\n",
            "\n",
            " \n",
            " SPACE _SP dep \n",
            " False False\n",
            "methods method NOUN NNS dobj xxxx True False\n",
            ", , PUNCT , punct , False False\n",
            "theory theory NOUN NN appos xxxx True False\n",
            "and and CCONJ CC cc xxx True True\n",
            "application application NOUN NN compound xxxx True False\n",
            "domains domain NOUN NNS conj xxxx True False\n",
            "to to ADP IN prep xx True True\n",
            "the the DET DT det xxx True True\n",
            "field field NOUN NN pobj xxxx True False\n",
            "of of ADP IN prep xx True True\n",
            "machine machine NOUN NN compound xxxx True False\n",
            "learning learning NOUN NN pobj xxxx True False\n",
            ". . PUNCT . punct . False False\n",
            "Data datum NOUN NNS compound Xxxx True False\n",
            "mining mining NOUN NN nsubj xxxx True False\n",
            "\n",
            " \n",
            " SPACE _SP dep \n",
            " False False\n",
            "is be AUX VBZ ROOT xx True True\n",
            "a a DET DT det x True True\n",
            "field field NOUN NN attr xxxx True False\n",
            "of of ADP IN prep xx True True\n",
            "study study NOUN NN pobj xxxx True False\n",
            "within within ADP IN prep xxxx True True\n",
            "machine machine NOUN NN compound xxxx True False\n",
            "learning learning NOUN NN pobj xxxx True False\n",
            "and and CCONJ CC cc xxx True True\n",
            "focuses focus VERB VBZ conj xxxx True False\n",
            "on on ADP IN prep xx True True\n",
            "exploratory exploratory ADJ JJ amod xxxx True False\n",
            "data datum NOUN NNS compound xxxx True False\n",
            "analysis analysis NOUN NN pobj xxxx True False\n",
            "\n",
            " \n",
            " SPACE _SP dep \n",
            " False False\n",
            "through through ADP IN prep xxxx True True\n",
            "unsupervised unsupervised ADJ JJ amod xxxx True False\n",
            "learning learning NOUN NN pobj xxxx True False\n",
            ". . PUNCT . punct . False False\n",
            "In in ADP IN prep Xx True True\n",
            "its its PRON PRP$ poss xxx True True\n",
            "application application NOUN NN pobj xxxx True False\n",
            "across across ADP IN prep xxxx True True\n",
            "business business NOUN NN compound xxxx True False\n",
            "problems problem NOUN NNS pobj xxxx True False\n",
            ", , PUNCT , punct , False False\n",
            "machine machine NOUN NN compound xxxx True False\n",
            "\n",
            " \n",
            " SPACE _SP dep \n",
            " False False\n",
            "learning learning NOUN NN nsubjpass xxxx True False\n",
            "is be AUX VBZ auxpass xx True True\n",
            "also also ADV RB advmod xxxx True True\n",
            "referred refer VERB VBN ROOT xxxx True False\n",
            "to to ADP IN prep xx True True\n",
            "as as ADP IN prep xx True True\n",
            "predictive predictive ADJ JJ amod xxxx True False\n",
            "analytics analytic NOUN NNS pobj xxxx True False\n",
            ". . PUNCT . punct . False False\n",
            "\n",
            " \n",
            " SPACE _SP dep \n",
            " False False\n"
          ]
        }
      ]
    },
    {
      "cell_type": "markdown",
      "source": [
        "Next, we'll use this information to filter keywords from the original text.\n",
        "\n",
        "* Define the keywords list\n",
        "* Choose the parts-of-speech that are likely to be important ([pos tags in spaCy](https://spacy.io/usage/linguistic-features/#pos-tagging))\n",
        "* Skip tokens that are in the stop list\n",
        "* Add tokens that have the part-of-speech we care about to the keywords list"
      ],
      "metadata": {
        "id": "Q3NBen5aeQLb"
      }
    },
    {
      "cell_type": "code",
      "source": [
        "keywords = []\n",
        "pos_tags = [\"PROPN\", \"ADJ\", \"NOUN\", \"VERB\"]\n",
        "for token in doc:\n",
        "  if token.is_stop:\n",
        "    continue\n",
        "  if token.pos_ in pos_tags:\n",
        "    keywords.append(token.text)"
      ],
      "metadata": {
        "id": "wHhJ4dUzebKQ"
      },
      "execution_count": 8,
      "outputs": []
    },
    {
      "cell_type": "markdown",
      "source": [
        "Next, we calculate the frequency of each token using the `Counter` function and store it in `freq_words`.\n",
        "\n",
        "To view the top `n` most frequent words, the `most_common(n)` method can be used:"
      ],
      "metadata": {
        "id": "flCldV1PfwGr"
      }
    },
    {
      "cell_type": "code",
      "source": [
        "freq_words = Counter(keywords)\n",
        "freq_words.most_common(5)"
      ],
      "metadata": {
        "id": "uudzeyqtfNmJ",
        "colab": {
          "base_uri": "https://localhost:8080/"
        },
        "outputId": "48fce89a-7f14-40bc-94a0-54e73f7e0ef3"
      },
      "execution_count": 9,
      "outputs": [
        {
          "output_type": "execute_result",
          "data": {
            "text/plain": [
              "[('learning', 8), ('Machine', 4), ('study', 3), ('algorithms', 3), ('task', 3)]"
            ]
          },
          "metadata": {},
          "execution_count": 9
        }
      ]
    },
    {
      "cell_type": "markdown",
      "source": [
        "This frequency should be normalised for better processing and it can be done by dividing the token's frequencies by the maximum frequency:"
      ],
      "metadata": {
        "id": "PeF7er2qgUJl"
      }
    },
    {
      "cell_type": "code",
      "source": [
        "max_freq = freq_words.most_common(1)[0][1]\n",
        "for word in freq_words.keys():\n",
        "  freq_words[word] = (freq_words[word]/max_freq)\n",
        "\n",
        "freq_words.most_common(5)"
      ],
      "metadata": {
        "id": "PrRJ5l2Aga-M",
        "colab": {
          "base_uri": "https://localhost:8080/"
        },
        "outputId": "4b1781a8-f3e0-4bfe-c59a-19d7be1a6dad"
      },
      "execution_count": 10,
      "outputs": [
        {
          "output_type": "execute_result",
          "data": {
            "text/plain": [
              "[('learning', 1.0),\n",
              " ('Machine', 0.5),\n",
              " ('study', 0.375),\n",
              " ('algorithms', 0.375),\n",
              " ('task', 0.375)]"
            ]
          },
          "metadata": {},
          "execution_count": 10
        }
      ]
    },
    {
      "cell_type": "markdown",
      "source": [
        "Next, we weigh each sentence based on the frequency of the keyword token present in each sentence. The result is stored as a key-value pair in `sent_strength` where keys are the sentences and the values are the weight of each sentence:"
      ],
      "metadata": {
        "id": "xQLm6730hYoQ"
      }
    },
    {
      "cell_type": "code",
      "source": [
        "sent_strength = {}\n",
        "for sent in doc.sents:\n",
        "  for word in sent:\n",
        "    if word.text in freq_words.keys():\n",
        "      if sent in sent_strength.keys():\n",
        "        sent_strength[sent] += freq_words[word.text]\n",
        "      else:\n",
        "        sent_strength[sent] = freq_words[word.text]\n",
        "\n",
        "print(sent_strength)"
      ],
      "metadata": {
        "id": "MYAwZi2yhwE9",
        "colab": {
          "base_uri": "https://localhost:8080/"
        },
        "outputId": "9e42580e-8ce9-44d5-a1e0-aaaab391e018"
      },
      "execution_count": 11,
      "outputs": [
        {
          "output_type": "stream",
          "name": "stdout",
          "text": [
            "{\n",
            "Machine learning (ML) is the scientific study of algorithms and statistical models\n",
            "that computer systems use to progressively improve their performance on a specific\n",
            "task.: 4.125, Machine learning algorithms build a mathematical model of sample data, known as\n",
            "“training data”, in order to make predictions or decisions without being explicitly\n",
            "programmed to perform the task.: 4.625, Machine learning algorithms are used in the applications\n",
            "of email filtering, detection of network intruders, and computer vision, where it\n",
            "is infeasible to develop an algorithm of specific instructions for performing the task.\n",
            ": 4.25, Machine learning is closely related to computational statistics, which focuses on\n",
            "making predictions using computers.: 2.625, The study of mathematical optimization delivers\n",
            "methods, theory and application domains to the field of machine learning.: 3.125, Data mining\n",
            "is a field of study within machine learning and focuses on exploratory data analysis\n",
            "through unsupervised learning.: 4.25, In its application across business problems, machine\n",
            "learning is also referred to as predictive analytics.\n",
            ": 2.25}\n"
          ]
        }
      ]
    },
    {
      "cell_type": "markdown",
      "source": [
        "Next, the `nlargest` function is used to summarize the string. It takes 3 arguments:\n",
        "\n",
        "* Number of elements to extract\n",
        "* An Iterable (List/Tuple/Dictionary)\n",
        "* Condition to be satisfied\n",
        "\n",
        "This nlargest function returns a list containing the 3 sentences with the highest sentence strength score calculated in the previous step.\n",
        "\n",
        "We store this output in `summarized_sentences`:"
      ],
      "metadata": {
        "id": "cbmO3Ac-i3zQ"
      }
    },
    {
      "cell_type": "code",
      "source": [
        "summarized_sentences = nlargest(4, sent_strength, key=sent_strength.get)\n",
        "\n",
        "print(summarized_sentences)"
      ],
      "metadata": {
        "id": "YJ8N3d0oi3U1",
        "colab": {
          "base_uri": "https://localhost:8080/"
        },
        "outputId": "40be2027-f8d4-4e9c-9146-f45b78b0e92a"
      },
      "execution_count": 12,
      "outputs": [
        {
          "output_type": "stream",
          "name": "stdout",
          "text": [
            "[Machine learning algorithms build a mathematical model of sample data, known as\n",
            "“training data”, in order to make predictions or decisions without being explicitly\n",
            "programmed to perform the task., Machine learning algorithms are used in the applications\n",
            "of email filtering, detection of network intruders, and computer vision, where it\n",
            "is infeasible to develop an algorithm of specific instructions for performing the task.\n",
            ", Data mining\n",
            "is a field of study within machine learning and focuses on exploratory data analysis\n",
            "through unsupervised learning., \n",
            "Machine learning (ML) is the scientific study of algorithms and statistical models\n",
            "that computer systems use to progressively improve their performance on a specific\n",
            "task.]\n"
          ]
        }
      ]
    },
    {
      "cell_type": "markdown",
      "source": [
        "Lastly, convert the text data in the `summarized_sentences` to a string and print it:"
      ],
      "metadata": {
        "id": "bw3aCNVakFBr"
      }
    },
    {
      "cell_type": "code",
      "source": [
        "final_sentences = [w.text for w in summarized_sentences]\n",
        "summary = ' '.join(final_sentences)\n",
        "print(summary)"
      ],
      "metadata": {
        "id": "bCJEnu8IkEYZ",
        "colab": {
          "base_uri": "https://localhost:8080/"
        },
        "outputId": "15ff623d-bfd4-4a69-e3dc-6847409dea80"
      },
      "execution_count": 13,
      "outputs": [
        {
          "output_type": "stream",
          "name": "stdout",
          "text": [
            "Machine learning algorithms build a mathematical model of sample data, known as\n",
            "“training data”, in order to make predictions or decisions without being explicitly\n",
            "programmed to perform the task. Machine learning algorithms are used in the applications\n",
            "of email filtering, detection of network intruders, and computer vision, where it\n",
            "is infeasible to develop an algorithm of specific instructions for performing the task.\n",
            " Data mining\n",
            "is a field of study within machine learning and focuses on exploratory data analysis\n",
            "through unsupervised learning. \n",
            "Machine learning (ML) is the scientific study of algorithms and statistical models\n",
            "that computer systems use to progressively improve their performance on a specific\n",
            "task.\n"
          ]
        }
      ]
    },
    {
      "cell_type": "markdown",
      "source": [
        "This example only shows a very limited application of [spaCy](https://spacy.io). The package has many powerful tools to create NLP applications."
      ],
      "metadata": {
        "id": "Qiro7L8QB_MT"
      }
    },
    {
      "cell_type": "markdown",
      "source": [
        "##Gradio\n",
        "[Gradio](https://gradio.app) is a fast way to demo your machine learning model with a nice web interface so that anyone can use it. The possibilities with Gradio are vast, this lab only scratches the surface.\n",
        "\n",
        "Here's the setup for a very basic UI:\n",
        "\n",
        "* First, define a function that does your main processing when users click the 'Submit' button in the UI.\n",
        "* Then define a gradio `Interface` called `demo`. This constructor has several arguments:\n",
        "  * The first in this example is the name of the function you defined\n",
        "  * The second is the type of inputs you want to capture (one text input in this case)\n",
        "  * The third is the type of output (also text)\n",
        "* Lastly, call the `Interface` object's `launch()` function to render the UI."
      ],
      "metadata": {
        "id": "Y5H2IZshEfqR"
      }
    },
    {
      "cell_type": "code",
      "source": [
        "!pip install gradio"
      ],
      "metadata": {
        "id": "eMMGtUA1pCsV",
        "colab": {
          "base_uri": "https://localhost:8080/"
        },
        "outputId": "e1b56edf-3ee7-4618-e603-d56352eb2251"
      },
      "execution_count": 14,
      "outputs": [
        {
          "output_type": "stream",
          "name": "stdout",
          "text": [
            "Requirement already satisfied: gradio in /usr/local/lib/python3.12/dist-packages (5.47.2)\n",
            "Requirement already satisfied: aiofiles<25.0,>=22.0 in /usr/local/lib/python3.12/dist-packages (from gradio) (24.1.0)\n",
            "Requirement already satisfied: anyio<5.0,>=3.0 in /usr/local/lib/python3.12/dist-packages (from gradio) (4.11.0)\n",
            "Requirement already satisfied: brotli>=1.1.0 in /usr/local/lib/python3.12/dist-packages (from gradio) (1.1.0)\n",
            "Requirement already satisfied: fastapi<1.0,>=0.115.2 in /usr/local/lib/python3.12/dist-packages (from gradio) (0.118.0)\n",
            "Requirement already satisfied: ffmpy in /usr/local/lib/python3.12/dist-packages (from gradio) (0.6.1)\n",
            "Requirement already satisfied: gradio-client==1.13.3 in /usr/local/lib/python3.12/dist-packages (from gradio) (1.13.3)\n",
            "Requirement already satisfied: groovy~=0.1 in /usr/local/lib/python3.12/dist-packages (from gradio) (0.1.2)\n",
            "Requirement already satisfied: httpx<1.0,>=0.24.1 in /usr/local/lib/python3.12/dist-packages (from gradio) (0.28.1)\n",
            "Requirement already satisfied: huggingface-hub<2.0,>=0.33.5 in /usr/local/lib/python3.12/dist-packages (from gradio) (0.35.3)\n",
            "Requirement already satisfied: jinja2<4.0 in /usr/local/lib/python3.12/dist-packages (from gradio) (3.1.6)\n",
            "Requirement already satisfied: markupsafe<4.0,>=2.0 in /usr/local/lib/python3.12/dist-packages (from gradio) (3.0.3)\n",
            "Requirement already satisfied: numpy<3.0,>=1.0 in /usr/local/lib/python3.12/dist-packages (from gradio) (2.0.2)\n",
            "Requirement already satisfied: orjson~=3.0 in /usr/local/lib/python3.12/dist-packages (from gradio) (3.11.3)\n",
            "Requirement already satisfied: packaging in /usr/local/lib/python3.12/dist-packages (from gradio) (25.0)\n",
            "Requirement already satisfied: pandas<3.0,>=1.0 in /usr/local/lib/python3.12/dist-packages (from gradio) (2.2.2)\n",
            "Requirement already satisfied: pillow<12.0,>=8.0 in /usr/local/lib/python3.12/dist-packages (from gradio) (11.3.0)\n",
            "Requirement already satisfied: pydantic<2.12,>=2.0 in /usr/local/lib/python3.12/dist-packages (from gradio) (2.11.9)\n",
            "Requirement already satisfied: pydub in /usr/local/lib/python3.12/dist-packages (from gradio) (0.25.1)\n",
            "Requirement already satisfied: python-multipart>=0.0.18 in /usr/local/lib/python3.12/dist-packages (from gradio) (0.0.20)\n",
            "Requirement already satisfied: pyyaml<7.0,>=5.0 in /usr/local/lib/python3.12/dist-packages (from gradio) (6.0.3)\n",
            "Requirement already satisfied: ruff>=0.9.3 in /usr/local/lib/python3.12/dist-packages (from gradio) (0.13.2)\n",
            "Requirement already satisfied: safehttpx<0.2.0,>=0.1.6 in /usr/local/lib/python3.12/dist-packages (from gradio) (0.1.6)\n",
            "Requirement already satisfied: semantic-version~=2.0 in /usr/local/lib/python3.12/dist-packages (from gradio) (2.10.0)\n",
            "Requirement already satisfied: starlette<1.0,>=0.40.0 in /usr/local/lib/python3.12/dist-packages (from gradio) (0.48.0)\n",
            "Requirement already satisfied: tomlkit<0.14.0,>=0.12.0 in /usr/local/lib/python3.12/dist-packages (from gradio) (0.13.3)\n",
            "Requirement already satisfied: typer<1.0,>=0.12 in /usr/local/lib/python3.12/dist-packages (from gradio) (0.19.2)\n",
            "Requirement already satisfied: typing-extensions~=4.0 in /usr/local/lib/python3.12/dist-packages (from gradio) (4.15.0)\n",
            "Requirement already satisfied: uvicorn>=0.14.0 in /usr/local/lib/python3.12/dist-packages (from gradio) (0.37.0)\n",
            "Requirement already satisfied: fsspec in /usr/local/lib/python3.12/dist-packages (from gradio-client==1.13.3->gradio) (2025.3.0)\n",
            "Requirement already satisfied: websockets<16.0,>=13.0 in /usr/local/lib/python3.12/dist-packages (from gradio-client==1.13.3->gradio) (15.0.1)\n",
            "Requirement already satisfied: idna>=2.8 in /usr/local/lib/python3.12/dist-packages (from anyio<5.0,>=3.0->gradio) (3.10)\n",
            "Requirement already satisfied: sniffio>=1.1 in /usr/local/lib/python3.12/dist-packages (from anyio<5.0,>=3.0->gradio) (1.3.1)\n",
            "Requirement already satisfied: certifi in /usr/local/lib/python3.12/dist-packages (from httpx<1.0,>=0.24.1->gradio) (2025.8.3)\n",
            "Requirement already satisfied: httpcore==1.* in /usr/local/lib/python3.12/dist-packages (from httpx<1.0,>=0.24.1->gradio) (1.0.9)\n",
            "Requirement already satisfied: h11>=0.16 in /usr/local/lib/python3.12/dist-packages (from httpcore==1.*->httpx<1.0,>=0.24.1->gradio) (0.16.0)\n",
            "Requirement already satisfied: filelock in /usr/local/lib/python3.12/dist-packages (from huggingface-hub<2.0,>=0.33.5->gradio) (3.19.1)\n",
            "Requirement already satisfied: requests in /usr/local/lib/python3.12/dist-packages (from huggingface-hub<2.0,>=0.33.5->gradio) (2.32.4)\n",
            "Requirement already satisfied: tqdm>=4.42.1 in /usr/local/lib/python3.12/dist-packages (from huggingface-hub<2.0,>=0.33.5->gradio) (4.67.1)\n",
            "Requirement already satisfied: hf-xet<2.0.0,>=1.1.3 in /usr/local/lib/python3.12/dist-packages (from huggingface-hub<2.0,>=0.33.5->gradio) (1.1.10)\n",
            "Requirement already satisfied: python-dateutil>=2.8.2 in /usr/local/lib/python3.12/dist-packages (from pandas<3.0,>=1.0->gradio) (2.9.0.post0)\n",
            "Requirement already satisfied: pytz>=2020.1 in /usr/local/lib/python3.12/dist-packages (from pandas<3.0,>=1.0->gradio) (2025.2)\n",
            "Requirement already satisfied: tzdata>=2022.7 in /usr/local/lib/python3.12/dist-packages (from pandas<3.0,>=1.0->gradio) (2025.2)\n",
            "Requirement already satisfied: annotated-types>=0.6.0 in /usr/local/lib/python3.12/dist-packages (from pydantic<2.12,>=2.0->gradio) (0.7.0)\n",
            "Requirement already satisfied: pydantic-core==2.33.2 in /usr/local/lib/python3.12/dist-packages (from pydantic<2.12,>=2.0->gradio) (2.33.2)\n",
            "Requirement already satisfied: typing-inspection>=0.4.0 in /usr/local/lib/python3.12/dist-packages (from pydantic<2.12,>=2.0->gradio) (0.4.2)\n",
            "Requirement already satisfied: click>=8.0.0 in /usr/local/lib/python3.12/dist-packages (from typer<1.0,>=0.12->gradio) (8.3.0)\n",
            "Requirement already satisfied: shellingham>=1.3.0 in /usr/local/lib/python3.12/dist-packages (from typer<1.0,>=0.12->gradio) (1.5.4)\n",
            "Requirement already satisfied: rich>=10.11.0 in /usr/local/lib/python3.12/dist-packages (from typer<1.0,>=0.12->gradio) (13.9.4)\n",
            "Requirement already satisfied: six>=1.5 in /usr/local/lib/python3.12/dist-packages (from python-dateutil>=2.8.2->pandas<3.0,>=1.0->gradio) (1.17.0)\n",
            "Requirement already satisfied: markdown-it-py>=2.2.0 in /usr/local/lib/python3.12/dist-packages (from rich>=10.11.0->typer<1.0,>=0.12->gradio) (4.0.0)\n",
            "Requirement already satisfied: pygments<3.0.0,>=2.13.0 in /usr/local/lib/python3.12/dist-packages (from rich>=10.11.0->typer<1.0,>=0.12->gradio) (2.19.2)\n",
            "Requirement already satisfied: charset_normalizer<4,>=2 in /usr/local/lib/python3.12/dist-packages (from requests->huggingface-hub<2.0,>=0.33.5->gradio) (3.4.3)\n",
            "Requirement already satisfied: urllib3<3,>=1.21.1 in /usr/local/lib/python3.12/dist-packages (from requests->huggingface-hub<2.0,>=0.33.5->gradio) (2.5.0)\n",
            "Requirement already satisfied: mdurl~=0.1 in /usr/local/lib/python3.12/dist-packages (from markdown-it-py>=2.2.0->rich>=10.11.0->typer<1.0,>=0.12->gradio) (0.1.2)\n"
          ]
        }
      ]
    },
    {
      "cell_type": "code",
      "source": [
        "import gradio as gr"
      ],
      "metadata": {
        "id": "LaQ9oqy4USou"
      },
      "execution_count": 15,
      "outputs": []
    },
    {
      "cell_type": "code",
      "source": [
        "def greet(name):\n",
        "    return \"Hello \" + name + \"!\"\n",
        "\n",
        "demo = gr.Interface(fn=greet, inputs=\"text\", outputs=\"text\")\n",
        "\n",
        "demo.launch()"
      ],
      "metadata": {
        "id": "9cB8ln93SXvg",
        "colab": {
          "base_uri": "https://localhost:8080/",
          "height": 645
        },
        "outputId": "2055c13c-60c4-4fab-eafc-14ddf2dac063"
      },
      "execution_count": 16,
      "outputs": [
        {
          "output_type": "stream",
          "name": "stdout",
          "text": [
            "It looks like you are running Gradio on a hosted Jupyter notebook, which requires `share=True`. Automatically setting `share=True` (you can turn this off by setting `share=False` in `launch()` explicitly).\n",
            "\n",
            "Colab notebook detected. To show errors in colab notebook, set debug=True in launch()\n",
            "* Running on public URL: https://11604a57c17fd46158.gradio.live\n",
            "\n",
            "This share link expires in 1 week. For free permanent hosting and GPU upgrades, run `gradio deploy` from the terminal in the working directory to deploy to Hugging Face Spaces (https://huggingface.co/spaces)\n"
          ]
        },
        {
          "output_type": "display_data",
          "data": {
            "text/plain": [
              "<IPython.core.display.HTML object>"
            ],
            "text/html": [
              "<div><iframe src=\"https://11604a57c17fd46158.gradio.live\" width=\"100%\" height=\"500\" allow=\"autoplay; camera; microphone; clipboard-read; clipboard-write;\" frameborder=\"0\" allowfullscreen></iframe></div>"
            ]
          },
          "metadata": {}
        },
        {
          "output_type": "execute_result",
          "data": {
            "text/plain": []
          },
          "metadata": {},
          "execution_count": 16
        }
      ]
    },
    {
      "cell_type": "markdown",
      "source": [
        "You can do any kind of processing inside your main function, like call other functions. Let's create a quick summarization tool using [sumy](https://github.com/miso-belica/sumy).\n",
        "\n",
        "* First, install the necessary packages for sumy.\n",
        "* Then import the modules for the summarization task."
      ],
      "metadata": {
        "id": "mCn4OS4UTx5t"
      }
    },
    {
      "cell_type": "code",
      "source": [
        "!pip install sumy"
      ],
      "metadata": {
        "id": "GXYf9n28hTba",
        "colab": {
          "base_uri": "https://localhost:8080/"
        },
        "outputId": "978d041c-0114-45ec-ba7e-70a8a9c5017f"
      },
      "execution_count": 17,
      "outputs": [
        {
          "output_type": "stream",
          "name": "stdout",
          "text": [
            "Collecting sumy\n",
            "  Downloading sumy-0.11.0-py2.py3-none-any.whl.metadata (7.5 kB)\n",
            "Collecting docopt<0.7,>=0.6.1 (from sumy)\n",
            "  Downloading docopt-0.6.2.tar.gz (25 kB)\n",
            "  Preparing metadata (setup.py) ... \u001b[?25l\u001b[?25hdone\n",
            "Collecting breadability>=0.1.20 (from sumy)\n",
            "  Downloading breadability-0.1.20.tar.gz (32 kB)\n",
            "  Preparing metadata (setup.py) ... \u001b[?25l\u001b[?25hdone\n",
            "Requirement already satisfied: requests>=2.7.0 in /usr/local/lib/python3.12/dist-packages (from sumy) (2.32.4)\n",
            "Collecting pycountry>=18.2.23 (from sumy)\n",
            "  Downloading pycountry-24.6.1-py3-none-any.whl.metadata (12 kB)\n",
            "Requirement already satisfied: nltk>=3.0.2 in /usr/local/lib/python3.12/dist-packages (from sumy) (3.9.1)\n",
            "Requirement already satisfied: chardet in /usr/local/lib/python3.12/dist-packages (from breadability>=0.1.20->sumy) (5.2.0)\n",
            "Requirement already satisfied: lxml>=2.0 in /usr/local/lib/python3.12/dist-packages (from breadability>=0.1.20->sumy) (5.4.0)\n",
            "Requirement already satisfied: click in /usr/local/lib/python3.12/dist-packages (from nltk>=3.0.2->sumy) (8.3.0)\n",
            "Requirement already satisfied: joblib in /usr/local/lib/python3.12/dist-packages (from nltk>=3.0.2->sumy) (1.5.2)\n",
            "Requirement already satisfied: regex>=2021.8.3 in /usr/local/lib/python3.12/dist-packages (from nltk>=3.0.2->sumy) (2024.11.6)\n",
            "Requirement already satisfied: tqdm in /usr/local/lib/python3.12/dist-packages (from nltk>=3.0.2->sumy) (4.67.1)\n",
            "Requirement already satisfied: charset_normalizer<4,>=2 in /usr/local/lib/python3.12/dist-packages (from requests>=2.7.0->sumy) (3.4.3)\n",
            "Requirement already satisfied: idna<4,>=2.5 in /usr/local/lib/python3.12/dist-packages (from requests>=2.7.0->sumy) (3.10)\n",
            "Requirement already satisfied: urllib3<3,>=1.21.1 in /usr/local/lib/python3.12/dist-packages (from requests>=2.7.0->sumy) (2.5.0)\n",
            "Requirement already satisfied: certifi>=2017.4.17 in /usr/local/lib/python3.12/dist-packages (from requests>=2.7.0->sumy) (2025.8.3)\n",
            "Downloading sumy-0.11.0-py2.py3-none-any.whl (97 kB)\n",
            "\u001b[2K   \u001b[90m━━━━━━━━━━━━━━━━━━━━━━━━━━━━━━━━━━━━━━━━\u001b[0m \u001b[32m97.3/97.3 kB\u001b[0m \u001b[31m8.5 MB/s\u001b[0m eta \u001b[36m0:00:00\u001b[0m\n",
            "\u001b[?25hDownloading pycountry-24.6.1-py3-none-any.whl (6.3 MB)\n",
            "\u001b[2K   \u001b[90m━━━━━━━━━━━━━━━━━━━━━━━━━━━━━━━━━━━━━━━━\u001b[0m \u001b[32m6.3/6.3 MB\u001b[0m \u001b[31m65.8 MB/s\u001b[0m eta \u001b[36m0:00:00\u001b[0m\n",
            "\u001b[?25hBuilding wheels for collected packages: breadability, docopt\n",
            "  Building wheel for breadability (setup.py) ... \u001b[?25l\u001b[?25hdone\n",
            "  Created wheel for breadability: filename=breadability-0.1.20-py2.py3-none-any.whl size=21695 sha256=a470425fadaab746393cc2f098505b5fc03eff7b978f4be0635bed8e3cf92716\n",
            "  Stored in directory: /root/.cache/pip/wheels/32/99/64/59305409cacd03aa03e7bddf31a9db34b1fa7033bd41972662\n",
            "  Building wheel for docopt (setup.py) ... \u001b[?25l\u001b[?25hdone\n",
            "  Created wheel for docopt: filename=docopt-0.6.2-py2.py3-none-any.whl size=13706 sha256=9ada01815d994eb44e64b29cb6ac34fea1e12c89ff6b212eaff1dc3b0809d400\n",
            "  Stored in directory: /root/.cache/pip/wheels/1a/bf/a1/4cee4f7678c68c5875ca89eaccf460593539805c3906722228\n",
            "Successfully built breadability docopt\n",
            "Installing collected packages: docopt, pycountry, breadability, sumy\n",
            "Successfully installed breadability-0.1.20 docopt-0.6.2 pycountry-24.6.1 sumy-0.11.0\n"
          ]
        }
      ]
    },
    {
      "cell_type": "code",
      "source": [
        "from sumy.parsers.plaintext import PlaintextParser\n",
        "from sumy.nlp.tokenizers import Tokenizer\n",
        "from sumy.summarizers.lsa import LsaSummarizer as Summarizer\n",
        "from sumy.nlp.stemmers import Stemmer\n",
        "from sumy.utils import get_stop_words\n",
        "\n",
        "LANGUAGE = \"english\"\n",
        "\n",
        "def sumy_summarize(txt, n_sent=3):\n",
        "  parser = PlaintextParser.from_string(txt, Tokenizer(LANGUAGE))\n",
        "  stemmer = Stemmer(LANGUAGE)\n",
        "\n",
        "  summarizer = Summarizer(stemmer)\n",
        "  summarizer.stop_words = get_stop_words(LANGUAGE)\n",
        "\n",
        "  sents = \"\"\n",
        "  for sentence in summarizer(parser.document, n_sent):\n",
        "    sents += str(sentence) + \"\\n\"\n",
        "\n",
        "  return sents"
      ],
      "metadata": {
        "id": "-fugZc-eMGNl"
      },
      "execution_count": 18,
      "outputs": []
    },
    {
      "cell_type": "markdown",
      "source": [
        "Return the output of the `sumy_summarize` function inside your main Gradio function, passing it the user input.\n",
        "\n",
        "Try using the text from the previous summarization example as input and experiment with the `n_sent` parameter."
      ],
      "metadata": {
        "id": "yFjvWx5yXiCy"
      }
    },
    {
      "cell_type": "code",
      "source": [
        "def sum(text):\n",
        "    return sumy_summarize(text)\n",
        "\n",
        "sum_demo = gr.Interface(fn=sum, inputs=\"text\", outputs=\"text\")\n",
        "sum_demo.launch(debug=True)"
      ],
      "metadata": {
        "id": "70MRhhS0Twwo",
        "colab": {
          "base_uri": "https://localhost:8080/",
          "height": 697
        },
        "outputId": "36a92a0b-d289-476a-ee22-d4f387d1b445"
      },
      "execution_count": 19,
      "outputs": [
        {
          "output_type": "stream",
          "name": "stdout",
          "text": [
            "It looks like you are running Gradio on a hosted Jupyter notebook, which requires `share=True`. Automatically setting `share=True` (you can turn this off by setting `share=False` in `launch()` explicitly).\n",
            "\n",
            "Colab notebook detected. This cell will run indefinitely so that you can see errors and logs. To turn off, set debug=False in launch().\n",
            "* Running on public URL: https://3276813e974f92fefa.gradio.live\n",
            "\n",
            "This share link expires in 1 week. For free permanent hosting and GPU upgrades, run `gradio deploy` from the terminal in the working directory to deploy to Hugging Face Spaces (https://huggingface.co/spaces)\n"
          ]
        },
        {
          "output_type": "display_data",
          "data": {
            "text/plain": [
              "<IPython.core.display.HTML object>"
            ],
            "text/html": [
              "<div><iframe src=\"https://3276813e974f92fefa.gradio.live\" width=\"100%\" height=\"500\" allow=\"autoplay; camera; microphone; clipboard-read; clipboard-write;\" frameborder=\"0\" allowfullscreen></iframe></div>"
            ]
          },
          "metadata": {}
        },
        {
          "output_type": "stream",
          "name": "stdout",
          "text": [
            "Keyboard interruption in main thread... closing server.\n",
            "Killing tunnel 127.0.0.1:7860 <> https://11604a57c17fd46158.gradio.live\n",
            "Killing tunnel 127.0.0.1:7861 <> https://3276813e974f92fefa.gradio.live\n"
          ]
        },
        {
          "output_type": "execute_result",
          "data": {
            "text/plain": []
          },
          "metadata": {},
          "execution_count": 19
        }
      ]
    },
    {
      "cell_type": "markdown",
      "source": [
        "The `sumy_summarize` function takes another parameter in addition to the text:\n",
        "\n",
        "* n_sent (int or None, optional) – The number of sentences of the original text to be chosen for the summary.\n",
        "\n",
        "Let's add more input elements to the interface:\n",
        "\n",
        "* A checkbox widget allowing the user to capitalize the output\n",
        "* A text box to set the `n_sent`"
      ],
      "metadata": {
        "id": "qrkJephp0VLf"
      }
    },
    {
      "cell_type": "code",
      "source": [
        "def sum(text, make_caps, number_of_sentences):\n",
        "    summary = sumy_summarize(text, n_sent=number_of_sentences)\n",
        "    return summary.upper() if make_caps else summary\n",
        "\n",
        "sum_demo = gr.Interface(\n",
        "    fn=sum,\n",
        "    inputs=[\"text\", \"checkbox\", \"number\"],\n",
        "    outputs=\"text\"\n",
        ")\n",
        "\n",
        "sum_demo.launch(debug=True)"
      ],
      "metadata": {
        "id": "4PR6dAf307bQ",
        "colab": {
          "base_uri": "https://localhost:8080/",
          "height": 680
        },
        "outputId": "5d3b92ef-07d1-4fda-bbf9-33678a7b9b1f"
      },
      "execution_count": 20,
      "outputs": [
        {
          "output_type": "stream",
          "name": "stdout",
          "text": [
            "It looks like you are running Gradio on a hosted Jupyter notebook, which requires `share=True`. Automatically setting `share=True` (you can turn this off by setting `share=False` in `launch()` explicitly).\n",
            "\n",
            "Colab notebook detected. This cell will run indefinitely so that you can see errors and logs. To turn off, set debug=False in launch().\n",
            "* Running on public URL: https://1a41775f3f2e378774.gradio.live\n",
            "\n",
            "This share link expires in 1 week. For free permanent hosting and GPU upgrades, run `gradio deploy` from the terminal in the working directory to deploy to Hugging Face Spaces (https://huggingface.co/spaces)\n"
          ]
        },
        {
          "output_type": "display_data",
          "data": {
            "text/plain": [
              "<IPython.core.display.HTML object>"
            ],
            "text/html": [
              "<div><iframe src=\"https://1a41775f3f2e378774.gradio.live\" width=\"100%\" height=\"500\" allow=\"autoplay; camera; microphone; clipboard-read; clipboard-write;\" frameborder=\"0\" allowfullscreen></iframe></div>"
            ]
          },
          "metadata": {}
        },
        {
          "output_type": "stream",
          "name": "stdout",
          "text": [
            "Keyboard interruption in main thread... closing server.\n",
            "Killing tunnel 127.0.0.1:7861 <> https://1a41775f3f2e378774.gradio.live\n"
          ]
        },
        {
          "output_type": "execute_result",
          "data": {
            "text/plain": []
          },
          "metadata": {},
          "execution_count": 20
        }
      ]
    },
    {
      "cell_type": "markdown",
      "source": [
        "The `Interface` is highly customizable. For example, you can give each element different labels, have placeholder text, change colors, etc. Check the [Gradio documentation](https://gradio.app/docs/) for details."
      ],
      "metadata": {
        "id": "f0MFhGObX37G"
      }
    },
    {
      "cell_type": "markdown",
      "source": [
        "## Hugging Face\n",
        "\n",
        "\n",
        "🤗 [Transformers](https://huggingface.co/docs/transformers/index) is a state-of-the-art Machine Learning for PyTorch, TensorFlow, and JAX, and provides APIs and tools to easily download and train state-of-the-art pretrained models.\n",
        "\n",
        "Begin by installing the Hugging Face `transformers` library:"
      ],
      "metadata": {
        "id": "alS1iTCWTMWx"
      }
    },
    {
      "cell_type": "code",
      "source": [
        "!pip install transformers"
      ],
      "metadata": {
        "id": "8hXjUCHttVIz",
        "colab": {
          "base_uri": "https://localhost:8080/"
        },
        "outputId": "f1b16e6d-5d75-4e7b-bb8d-c9bae153d135"
      },
      "execution_count": 21,
      "outputs": [
        {
          "output_type": "stream",
          "name": "stdout",
          "text": [
            "Requirement already satisfied: transformers in /usr/local/lib/python3.12/dist-packages (4.56.2)\n",
            "Requirement already satisfied: filelock in /usr/local/lib/python3.12/dist-packages (from transformers) (3.19.1)\n",
            "Requirement already satisfied: huggingface-hub<1.0,>=0.34.0 in /usr/local/lib/python3.12/dist-packages (from transformers) (0.35.3)\n",
            "Requirement already satisfied: numpy>=1.17 in /usr/local/lib/python3.12/dist-packages (from transformers) (2.0.2)\n",
            "Requirement already satisfied: packaging>=20.0 in /usr/local/lib/python3.12/dist-packages (from transformers) (25.0)\n",
            "Requirement already satisfied: pyyaml>=5.1 in /usr/local/lib/python3.12/dist-packages (from transformers) (6.0.3)\n",
            "Requirement already satisfied: regex!=2019.12.17 in /usr/local/lib/python3.12/dist-packages (from transformers) (2024.11.6)\n",
            "Requirement already satisfied: requests in /usr/local/lib/python3.12/dist-packages (from transformers) (2.32.4)\n",
            "Requirement already satisfied: tokenizers<=0.23.0,>=0.22.0 in /usr/local/lib/python3.12/dist-packages (from transformers) (0.22.1)\n",
            "Requirement already satisfied: safetensors>=0.4.3 in /usr/local/lib/python3.12/dist-packages (from transformers) (0.6.2)\n",
            "Requirement already satisfied: tqdm>=4.27 in /usr/local/lib/python3.12/dist-packages (from transformers) (4.67.1)\n",
            "Requirement already satisfied: fsspec>=2023.5.0 in /usr/local/lib/python3.12/dist-packages (from huggingface-hub<1.0,>=0.34.0->transformers) (2025.3.0)\n",
            "Requirement already satisfied: typing-extensions>=3.7.4.3 in /usr/local/lib/python3.12/dist-packages (from huggingface-hub<1.0,>=0.34.0->transformers) (4.15.0)\n",
            "Requirement already satisfied: hf-xet<2.0.0,>=1.1.3 in /usr/local/lib/python3.12/dist-packages (from huggingface-hub<1.0,>=0.34.0->transformers) (1.1.10)\n",
            "Requirement already satisfied: charset_normalizer<4,>=2 in /usr/local/lib/python3.12/dist-packages (from requests->transformers) (3.4.3)\n",
            "Requirement already satisfied: idna<4,>=2.5 in /usr/local/lib/python3.12/dist-packages (from requests->transformers) (3.10)\n",
            "Requirement already satisfied: urllib3<3,>=1.21.1 in /usr/local/lib/python3.12/dist-packages (from requests->transformers) (2.5.0)\n",
            "Requirement already satisfied: certifi>=2017.4.17 in /usr/local/lib/python3.12/dist-packages (from requests->transformers) (2025.8.3)\n"
          ]
        }
      ]
    },
    {
      "cell_type": "markdown",
      "source": [
        "Import the necessary modules for the tasks up ahead:"
      ],
      "metadata": {
        "id": "pRWI1tV_qC1J"
      }
    },
    {
      "cell_type": "code",
      "source": [
        "from transformers import AutoModelForCausalLM, AutoModelForSeq2SeqLM, AutoTokenizer, pipeline"
      ],
      "metadata": {
        "id": "q-3q00aZA10p"
      },
      "execution_count": 22,
      "outputs": []
    },
    {
      "cell_type": "markdown",
      "source": [
        "Hugging Face pipelines make it simple to use any model for inference on any language, computer vision, speech, and multimodal tasks (see [docs](https://huggingface.co/docs/transformers/pipeline_tutorial)). The `pipeline()` automatically loads a default model and a preprocessing class capable of inference for your task.\n",
        "\n",
        "The following is an example of using a Hugging Face pipeline to do automatic abstractive summarization:\n",
        "\n",
        "* First create a pipeline object, here called `summarizer`\n",
        "* The `pipeline()` constructor takes two arguments:\n",
        "  * The name of the task (see [docs for existing pipelines](https://huggingface.co/docs/transformers/main_classes/pipelines)) - In our case, the task is 'summarization'\n",
        "  * The model - We can use [facebook/bart-large-xsum](https://huggingface.co/facebook/bart-large-xsum). This can be changed to any number of models available for this task on Hugging Face.\n",
        "\n",
        "* Next we define a string variable containing the text we want to summarize. Here it's called `text_to_summarize`.\n",
        "* Then call the `summarizer` pipeline, pass the string, and optionally set the max and min length, and method for generation\n",
        "* Finally, print the output"
      ],
      "metadata": {
        "id": "fF918IkJu-Zq"
      }
    },
    {
      "cell_type": "code",
      "source": [
        "summarizer = pipeline(\"summarization\", model=\"facebook/bart-large-xsum\")"
      ],
      "metadata": {
        "id": "VWCSlBv73xdV",
        "colab": {
          "base_uri": "https://localhost:8080/",
          "height": 394,
          "referenced_widgets": [
            "cef3213e43ad4b319385883bf4d14d39",
            "26e5aa6fcd454fe9ba1111337a28f5f0",
            "cec4964431a3445e9c4d4a332592d888",
            "a20be048ec7843c3b0db9b22354b4d95",
            "451c65322fac4b74877a3c3115d6409a",
            "e70e378d7cbb4bfcabd2e132aa09423b",
            "88cb153e41054a60877775a57a31abe0",
            "4f3bb08b287b455a9894c2d0be9967a2",
            "e7888f5729304929b77730dc6c66fe95",
            "a7c1bb18cd5c4a95967805dd9af62e6f",
            "742562f6766f4a978143c6af4b8a4eda",
            "64ed76f74b964dd0a820b13177feb2e3",
            "2ab32475e30849de9b23ff96361559a5",
            "10d969c90c7f41bc9f8552e87f12e8d4",
            "ef2aec8ff0de42a3a398be56fe376b22",
            "f98fb88dd663456f9020fd81c2759a9c",
            "ddb6ede82faa49f6bc061d1ca5517dff",
            "403cc86cc51743d490095aef0712993f",
            "659cffd6f91d47efb76c44f292c59f68",
            "080a18f26f594d3d970b0c72bcdffc0c",
            "f342cc2613dd433b89b6a823dbe4e08c",
            "b7a33db0f71942b6ab984d016ccb4ee6",
            "46a17e6b136a4e59ab4ec269232ec682",
            "8f21575393bf4595ae7b72eee0120be1",
            "a7b34d01b589409db32cc1811f4d1ef8",
            "09f0e3fcd06340409326130e3043d7cd",
            "6ecce141ba754d29ac7de9d490e5f50c",
            "29152ec4c02a41bcb0e13a5ac89d766d",
            "4b49b2568b72431bba475bac43a00528",
            "38c873b4d0fd441fa2e2526616e97351",
            "7294e76e2b8844f6a3cd267216994d93",
            "1e99cc7c2a734eadbb44bf64c6cb67e1",
            "45588488f29e42f79f495c7aac2d0696",
            "00a6ba8fef38486d8d669c7a886558b0",
            "a660f6c6e16042e69ea6829f8f537366",
            "cc0b0b88f0e5493e8126c5667677557a",
            "bfa538683a4741d099f652c958776e1e",
            "f715e5178dc144ff8ad6ce40fb216413",
            "80b758414ce945abb3e503df77f275eb",
            "d88a422494f241089767b85e1f5225c5",
            "f3081ddf796a40fa85a3e299ccdd4031",
            "a08d4a63c2da4cef9dcf13a280b7af1b",
            "7fc91446d232495a8908ffe8775f4acf",
            "03f8c0b781854ecd8a41123420377bd2",
            "355a773a43204842928c300663b34294",
            "db5b6bcaf631406ab5d308ce3eb9f6c6",
            "8eb402f1e46949ddab09a5e50a492804",
            "63fe83fb5b434a6ba45e309372572298",
            "4f97fe6a10c54f60a99dbf8b854a6eda",
            "592cf0fb280943249bfdd48b37b92809",
            "12cc60525dad49f49e8b919c102f92e2",
            "6334fc7e097143be8112d02eb7412df1",
            "d97c3689b50145ebbe4da64593365348",
            "369335285337466ca1c10d7583ae81cf",
            "4a83540f731d403abcf93fff68ad4fad",
            "af5c79e8d9f44338b89f05e50ccc2b89",
            "302276c3a8aa46c5894daf1896a4f694",
            "f8e8ce410ab4428996b340e118f82891",
            "41f76a15a406447297d40456b8e8cd78",
            "5232b8674aa649868254b74b68303449",
            "f6c7e6cbee3b4ccfa8b9c6ff3a0ed2cd",
            "d526031e2eb444b596f11aea75e590b3",
            "973ddd1f0853430dab27f5db893f69bc",
            "b1efb4e54cb343bda46647b39dba6343",
            "6af3855d8dfb4d6d80dc8166dac9b7d6",
            "9842f4ddd8ff42b0bf7d6431f03ef755",
            "031cf3b7e71e49049f19cda525cfe634",
            "1d080ecba6724f2f957ea28dbd937916",
            "59b3c4859fc64ac29f2a24583b205848",
            "8b61108939f04d74a199d3ac7aaa0e8b",
            "29c3b7b1c1bb4e7a80093ca0a732a97c",
            "203aac2ac26f4a9da584efb85d58edf1",
            "62401c22bbb04132a959069e47612b65",
            "aea09bdee1b04debaa08c6610169cdce",
            "1f6ff7dd84b6463292d48e73c8bd7ec7",
            "55b56e0542e04ecda7d5c0c4aef84a82",
            "18bf8b2f32a849908109cee1f3671bad",
            "0f9bd58ac55e4d4cae6ea8ac17776f3d",
            "f9f9e8f2774f4d26bfa3c2cb6ff0b2ca",
            "85cc8b8c2cc44eba82b7e59953ba848e",
            "752f7c861b13455fa019daa581e18b35",
            "b69124c8bca14c4c9104ed9754fb3559",
            "21b967a91f074afea4efe7780c393ac0",
            "21f987fff2c248a69fbfbded31f7dbbd",
            "8b1b9c846d94497b8f69187fe01b05e1",
            "6972fd4cb64d400cbb0e952fba3a9770",
            "531defba2b5f4c719fec7a2f4f9407f3",
            "7b4bc7bc15984825903dc1d5a1054b5f"
          ]
        },
        "outputId": "b5c2c168-37d5-40ac-8146-4084c24cf864"
      },
      "execution_count": 23,
      "outputs": [
        {
          "output_type": "stream",
          "name": "stderr",
          "text": [
            "/usr/local/lib/python3.12/dist-packages/huggingface_hub/utils/_auth.py:94: UserWarning: \n",
            "The secret `HF_TOKEN` does not exist in your Colab secrets.\n",
            "To authenticate with the Hugging Face Hub, create a token in your settings tab (https://huggingface.co/settings/tokens), set it as secret in your Google Colab and restart your session.\n",
            "You will be able to reuse this secret in all of your notebooks.\n",
            "Please note that authentication is recommended but still optional to access public models or datasets.\n",
            "  warnings.warn(\n"
          ]
        },
        {
          "output_type": "display_data",
          "data": {
            "text/plain": [
              "config.json: 0.00B [00:00, ?B/s]"
            ],
            "application/vnd.jupyter.widget-view+json": {
              "version_major": 2,
              "version_minor": 0,
              "model_id": "cef3213e43ad4b319385883bf4d14d39"
            }
          },
          "metadata": {}
        },
        {
          "output_type": "display_data",
          "data": {
            "text/plain": [
              "pytorch_model.bin:   0%|          | 0.00/1.63G [00:00<?, ?B/s]"
            ],
            "application/vnd.jupyter.widget-view+json": {
              "version_major": 2,
              "version_minor": 0,
              "model_id": "64ed76f74b964dd0a820b13177feb2e3"
            }
          },
          "metadata": {}
        },
        {
          "output_type": "display_data",
          "data": {
            "text/plain": [
              "model.safetensors:   0%|          | 0.00/1.63G [00:00<?, ?B/s]"
            ],
            "application/vnd.jupyter.widget-view+json": {
              "version_major": 2,
              "version_minor": 0,
              "model_id": "46a17e6b136a4e59ab4ec269232ec682"
            }
          },
          "metadata": {}
        },
        {
          "output_type": "display_data",
          "data": {
            "text/plain": [
              "generation_config.json:   0%|          | 0.00/309 [00:00<?, ?B/s]"
            ],
            "application/vnd.jupyter.widget-view+json": {
              "version_major": 2,
              "version_minor": 0,
              "model_id": "00a6ba8fef38486d8d669c7a886558b0"
            }
          },
          "metadata": {}
        },
        {
          "output_type": "display_data",
          "data": {
            "text/plain": [
              "tokenizer_config.json:   0%|          | 0.00/26.0 [00:00<?, ?B/s]"
            ],
            "application/vnd.jupyter.widget-view+json": {
              "version_major": 2,
              "version_minor": 0,
              "model_id": "355a773a43204842928c300663b34294"
            }
          },
          "metadata": {}
        },
        {
          "output_type": "display_data",
          "data": {
            "text/plain": [
              "vocab.json: 0.00B [00:00, ?B/s]"
            ],
            "application/vnd.jupyter.widget-view+json": {
              "version_major": 2,
              "version_minor": 0,
              "model_id": "af5c79e8d9f44338b89f05e50ccc2b89"
            }
          },
          "metadata": {}
        },
        {
          "output_type": "display_data",
          "data": {
            "text/plain": [
              "merges.txt: 0.00B [00:00, ?B/s]"
            ],
            "application/vnd.jupyter.widget-view+json": {
              "version_major": 2,
              "version_minor": 0,
              "model_id": "031cf3b7e71e49049f19cda525cfe634"
            }
          },
          "metadata": {}
        },
        {
          "output_type": "display_data",
          "data": {
            "text/plain": [
              "tokenizer.json: 0.00B [00:00, ?B/s]"
            ],
            "application/vnd.jupyter.widget-view+json": {
              "version_major": 2,
              "version_minor": 0,
              "model_id": "0f9bd58ac55e4d4cae6ea8ac17776f3d"
            }
          },
          "metadata": {}
        },
        {
          "output_type": "stream",
          "name": "stderr",
          "text": [
            "Device set to use cuda:0\n"
          ]
        }
      ]
    },
    {
      "cell_type": "code",
      "source": [
        "text_to_summarize = \"\"\"New York (CNN) When Liana Barrientos was 23 years old, she got married in Westchester County, New York.\n",
        "A year later, she got married again in Westchester County, but to a different man and without divorcing her first husband.\n",
        "Only 18 days after that marriage, she got hitched yet again. Then, Barrientos declared \"I do\" five more times,\n",
        "sometimes only within two weeks of each other. In 2010, she married once more, this time in the Bronx.\n",
        "In an application for a marriage license, she stated it was her \"first and only\" marriage. Barrientos, now 39,\n",
        "is facing two criminal counts of \"offering a false instrument for filing in the first degree,\"\n",
        "referring to her false statements on the 2010 marriage license application, according to court documents.\n",
        "Prosecutors said the marriages were part of an immigration scam. On Friday, she pleaded not guilty at State Supreme Court in the Bronx,\n",
        "according to her attorney, Christopher Wright, who declined to comment further. After leaving court, Barrientos was arrested\n",
        "and charged with theft of service and criminal trespass for allegedly sneaking into the New York subway through an emergency exit,\n",
        "said Detective Annette Markowski, a police spokeswoman. In total, Barrientos has been married 10 times, with nine of her marriages\n",
        "occurring between 1999 and 2002. All occurred either in Westchester County, Long Island, New Jersey or the Bronx.\n",
        "She is believed to still be married to four men, and at one time, she was married to eight men at once, prosecutors say. Prosecutors\n",
        "said the immigration scam involved some of her husbands, who filed for permanent residence status shortly after the marriages.\n",
        "Any divorces happened only after such filings were approved. It was unclear whether any of the men will be prosecuted.\n",
        "The case was referred to the Bronx District Attorney\\'s Office by Immigration and Customs Enforcement and the Department of Homeland\n",
        "Security\\'s Investigation Division. Seven of the men are from so-called \"red-flagged\" countries, including Egypt, Turkey,\n",
        "Georgia, Pakistan and Mali. Her eighth husband, Rashid Rajput, was deported in 2006 to his native Pakistan after an investigation\n",
        "by the Joint Terrorism Task Force. If convicted, Barrientos faces up to four years in prison.\n",
        "Her next court appearance is scheduled for May 18.\"\"\""
      ],
      "metadata": {
        "id": "cKSankLlaTsO"
      },
      "execution_count": 24,
      "outputs": []
    },
    {
      "cell_type": "code",
      "source": [
        "summary = summarizer(text_to_summarize, max_length=130, min_length=30, do_sample=False)\n",
        "print(summary)"
      ],
      "metadata": {
        "id": "suj-aGanxeV0",
        "colab": {
          "base_uri": "https://localhost:8080/",
          "height": 34
        },
        "outputId": "1e43d539-b933-4ee1-c6fd-b25668435562"
      },
      "execution_count": 25,
      "outputs": [
        {
          "output_type": "stream",
          "name": "stdout",
          "text": [
            "[{'summary_text': 'A New York woman has pleaded not guilty to falsely claiming to have been married 10 times, in what prosecutors say was an immigration scam, according to court documents.'}]\n"
          ]
        }
      ]
    },
    {
      "cell_type": "markdown",
      "source": [
        "You now have a variety of powerful tools at your disposal to rapidly create interesting and useful NLP applications!"
      ],
      "metadata": {
        "id": "FIb5zlT6zB7h"
      }
    },
    {
      "cell_type": "markdown",
      "source": [
        "# Assignment\n",
        "Complete the following questions and hand in your solution in Canvas before 23:59 Friday October 11th. Remember to save your file before uploading it."
      ],
      "metadata": {
        "id": "76KqmaBLWCh6"
      }
    },
    {
      "cell_type": "markdown",
      "source": [
        "## Part 1\n",
        "Compare the outputs of the three summarization methods covered in this notebook.\n",
        "\n",
        "Use the same piece of text for each method to answer these questions:\n",
        "\n",
        "1. Which method performs the best, in your opinion?\n",
        "2. What are the pros and cons of each method?\n",
        "3. What kind of summarization is each method doing?"
      ],
      "metadata": {
        "id": "vZA9xn7BFl27"
      }
    },
    {
      "cell_type": "code",
      "source": [
        "# Text to summarize\n",
        "\n",
        "text_to_summarize = \"\"\"\n",
        "In machine learning, a neural network (also artificial neural network or neural\n",
        "net, abbreviated ANN or NN) is a computational model inspired by the structure\n",
        "and functions of biological neural networks. A neural network consists of\n",
        "connected units or nodes called artificial neurons, which loosely model the\n",
        "neurons in the brain. Artificial neuron models that mimic biological neurons\n",
        "more closely have also been recently investigated and shown to significantly\n",
        "improve performance. These are connected by edges, which model the synapses in\n",
        "the brain. Each artificial neuron receives signals from connected neurons,\n",
        "then processes them and sends a signal to other connected neurons. The \"signal\"\n",
        "is a real number, and the output of each neuron is computed by some non-linear\n",
        "function of the totality of its inputs, called the activation function.\n",
        "The strength of the signal at each connection is determined by a weight,\n",
        "which adjusts during the learning process.\n",
        "\"\"\""
      ],
      "metadata": {
        "id": "m2GikbshFpsJ"
      },
      "execution_count": 26,
      "outputs": []
    },
    {
      "cell_type": "code",
      "source": [
        "\n",
        "doc = nlp(text_to_summarize)\n",
        "\n",
        "keywords = []\n",
        "pos_tags = [\"PROPN\", \"ADJ\", \"NOUN\", \"VERB\"]\n",
        "for token in doc:\n",
        "  if token.is_stop:\n",
        "    continue\n",
        "  if token.pos_ in pos_tags:\n",
        "    keywords.append(token.text)\n",
        "\n",
        "freq_words = Counter(keywords)\n",
        "max_freq = freq_words.most_common(1)[0][1]\n",
        "for word in freq_words.keys():\n",
        "  freq_words[word] = (freq_words[word]/max_freq)\n",
        "\n",
        "sent_strength = {}\n",
        "for sent in doc.sents:\n",
        "  for word in sent:\n",
        "    if word.text in freq_words.keys():\n",
        "      if sent in sent_strength.keys():\n",
        "        sent_strength[sent] += freq_words[word.text]\n",
        "      else:\n",
        "        sent_strength[sent] = freq_words[word.text]\n",
        "\n",
        "summarized_sentences = nlargest(4, sent_strength, key=sent_strength.get)\n",
        "final_sentences = [w.text for w in summarized_sentences]\n",
        "summary = ' '.join(final_sentences)\n",
        "print(summary)"
      ],
      "metadata": {
        "colab": {
          "base_uri": "https://localhost:8080/",
          "height": 191
        },
        "id": "XOMQZaTrvHk1",
        "outputId": "33ca7870-a930-4e2c-ebe9-149049cc59b2"
      },
      "execution_count": 27,
      "outputs": [
        {
          "output_type": "stream",
          "name": "stdout",
          "text": [
            "\n",
            "In machine learning, a neural network (also artificial neural network or neural \n",
            "net, abbreviated ANN or NN) is a computational model inspired by the structure \n",
            "and functions of biological neural networks. A neural network consists of \n",
            "connected units or nodes called artificial neurons, which loosely model the \n",
            "neurons in the brain. Each artificial neuron receives signals from connected neurons, \n",
            "then processes them and sends a signal to other connected neurons. The \"signal\"\n",
            "is a real number, and the output of each neuron is computed by some non-linear\n",
            "function of the totality of its inputs, called the activation function. \n",
            "\n"
          ]
        }
      ]
    },
    {
      "cell_type": "code",
      "source": [
        "print (sumy_summarize(text_to_summarize))"
      ],
      "metadata": {
        "colab": {
          "base_uri": "https://localhost:8080/"
        },
        "id": "wKmDmfMSzgnt",
        "outputId": "4700cc25-575d-4c86-f609-156a7004afeb"
      },
      "execution_count": 28,
      "outputs": [
        {
          "output_type": "stream",
          "name": "stdout",
          "text": [
            "A neural network consists of connected units or nodes called artificial neurons, which loosely model the neurons in the brain.\n",
            "Artificial neuron models that mimic biological neurons more closely have also been recently investigated and shown to significantly improve performance.\n",
            "The strength of the signal at each connection is determined by a weight, which adjusts during the learning process.\n",
            "\n"
          ]
        }
      ]
    },
    {
      "cell_type": "code",
      "source": [
        "summary = summarizer(text_to_summarize, max_length=130, min_length=30, do_sample=False)\n",
        "print(summary)"
      ],
      "metadata": {
        "colab": {
          "base_uri": "https://localhost:8080/"
        },
        "id": "DytREb6z0OmX",
        "outputId": "73ac3fd1-5277-4733-92c0-120e3d85364d"
      },
      "execution_count": 29,
      "outputs": [
        {
          "output_type": "stream",
          "name": "stdout",
          "text": [
            "[{'summary_text': 'A neural network is a computational model inspired by the structure and functions of biological neural networks, such as those in the brain and the nervous system.'}]\n"
          ]
        }
      ]
    },
    {
      "cell_type": "markdown",
      "source": [
        "**Answer:**\n",
        "HuggingFace provides the most effective summary idea without redundancy. SpaCy is fast and rule-based but produces literal, repetitive output. Sumy extracts key sentences well but lacks rephrasing and can be redundant. HuggingFace uses abstractive summarization, while SpaCy and Sumy rely on extractive methods."
      ],
      "metadata": {
        "id": "nu-64tSQ5sTG"
      }
    },
    {
      "cell_type": "markdown",
      "source": [
        "## Part 2\n",
        "Create a sentiment classifier using Gradio and Huggingface.\n",
        "\n",
        "* Augment the simple version of the Gradio interface.\n",
        "* Add a Huggingface 'text-classification' pipleline, using the 'cardiffnlp/twitter-roberta-base-sentiment' model.\n",
        "\n",
        "This model outputs a list that contains one dictionary object. In this dictionary, the predicted class is the value of the key 'label'. The model outputs one of three sentiment classes:\n",
        "\n",
        "* `LABEL_0` for negative\n",
        "* `LABEL_1` for neutral\n",
        "* `LABEL_2` for positive\n",
        "\n",
        "Your app should take some text as input and output **one** of these three words:\n",
        "\n",
        "* Positive\n",
        "* Neutral\n",
        "* Negative"
      ],
      "metadata": {
        "id": "WDxnK0GhgUto"
      }
    },
    {
      "cell_type": "code",
      "source": [
        "# Alter this codeblock and/or create as many blocks as necessary to accomplish the task for this part\n",
        "\n",
        "sentiment_classifier = pipeline(\"text-classification\",\n",
        "                                model=\"cardiffnlp/twitter-roberta-base-sentiment\")\n",
        "\n",
        "\n",
        "def translate(label):\n",
        "  if(label == \"LABEL_0\"):\n",
        "    return \"Negative\"\n",
        "  elif(label == \"LABEL_1\"):\n",
        "    return \"Neutral\"\n",
        "  return \"Positive\"\n",
        "\n",
        "\n",
        "def analyze(text):\n",
        "    return \"Echo: \" + translate(sentiment_classifier(text)[0].get('label'))\n",
        "\n",
        "sentiment_analyzer = gr.Interface(\n",
        "    fn=analyze,\n",
        "    inputs=\"text\",\n",
        "    outputs=\"text\"\n",
        ")\n",
        "\n",
        "\n",
        "sentiment_analyzer.launch(debug = True)"
      ],
      "metadata": {
        "id": "9OtdSpNct2eo",
        "colab": {
          "base_uri": "https://localhost:8080/",
          "height": 697
        },
        "outputId": "6bd3ee1e-5fcb-4e28-b5e5-77384f05fb68"
      },
      "execution_count": 40,
      "outputs": [
        {
          "output_type": "stream",
          "name": "stderr",
          "text": [
            "Device set to use cuda:0\n"
          ]
        },
        {
          "output_type": "stream",
          "name": "stdout",
          "text": [
            "It looks like you are running Gradio on a hosted Jupyter notebook, which requires `share=True`. Automatically setting `share=True` (you can turn this off by setting `share=False` in `launch()` explicitly).\n",
            "\n",
            "Colab notebook detected. This cell will run indefinitely so that you can see errors and logs. To turn off, set debug=False in launch().\n",
            "* Running on public URL: https://b046b5c78c18122343.gradio.live\n",
            "\n",
            "This share link expires in 1 week. For free permanent hosting and GPU upgrades, run `gradio deploy` from the terminal in the working directory to deploy to Hugging Face Spaces (https://huggingface.co/spaces)\n"
          ]
        },
        {
          "output_type": "display_data",
          "data": {
            "text/plain": [
              "<IPython.core.display.HTML object>"
            ],
            "text/html": [
              "<div><iframe src=\"https://b046b5c78c18122343.gradio.live\" width=\"100%\" height=\"500\" allow=\"autoplay; camera; microphone; clipboard-read; clipboard-write;\" frameborder=\"0\" allowfullscreen></iframe></div>"
            ]
          },
          "metadata": {}
        },
        {
          "output_type": "stream",
          "name": "stdout",
          "text": [
            "Keyboard interruption in main thread... closing server.\n",
            "Killing tunnel 127.0.0.1:7861 <> https://b046b5c78c18122343.gradio.live\n"
          ]
        },
        {
          "output_type": "execute_result",
          "data": {
            "text/plain": []
          },
          "metadata": {},
          "execution_count": 40
        }
      ]
    },
    {
      "cell_type": "markdown",
      "source": [
        "## Part 3\n",
        "\n",
        "Create a chatbot that can do these things:\n",
        "\n",
        "*   Summarize text\n",
        "*   Analyze sentiment\n",
        "\n",
        "Augment the chatbot code below to accomplish the following:\n",
        "\n",
        "1. When the user ticks a checkbox that says 'do_summary':\n",
        "  * The user's long text input should be summarized by the bot using the pipeline defined earlier and responds with the summary\n",
        "2. When the user ticks a checkbox that says 'do_sentiment':\n",
        "  * The user's text input may be analyzed by the bot for sentiment using the method created in Part 2 and responds accordingly"
      ],
      "metadata": {
        "id": "WBke_7MfuceR"
      }
    },
    {
      "cell_type": "code",
      "source": [
        "def awesome_chatbot(text, do_sentiment_analysis, summaryze):\n",
        "  result = []\n",
        "  if(do_sentiment_analysis):\n",
        "    result.append(\"Sentiment: \" + translate(sentiment_classifier(text)[0].get('label')))\n",
        "  if(summaryze):\n",
        "    result.append(\"Summary: \" + summarizer(text, max_length=130, min_length=30, do_sample=False)[0].get('summary_text'))\n",
        "  return \"\\n\".join(result)\n",
        "\n",
        "demo = gr.Interface(\n",
        "    fn=awesome_chatbot,\n",
        "    inputs=[\"text\", \"checkbox\", \"checkbox\"],\n",
        "    outputs=\"text\"\n",
        ")\n",
        "\n",
        "demo.launch(debug = True)\n"
      ],
      "metadata": {
        "id": "FE54O0p6f8YI",
        "colab": {
          "base_uri": "https://localhost:8080/",
          "height": 680
        },
        "outputId": "a61d924b-c87e-485b-eb8d-d431b5062325"
      },
      "execution_count": 39,
      "outputs": [
        {
          "output_type": "stream",
          "name": "stdout",
          "text": [
            "It looks like you are running Gradio on a hosted Jupyter notebook, which requires `share=True`. Automatically setting `share=True` (you can turn this off by setting `share=False` in `launch()` explicitly).\n",
            "\n",
            "Colab notebook detected. This cell will run indefinitely so that you can see errors and logs. To turn off, set debug=False in launch().\n",
            "* Running on public URL: https://42522a660fda95c34b.gradio.live\n",
            "\n",
            "This share link expires in 1 week. For free permanent hosting and GPU upgrades, run `gradio deploy` from the terminal in the working directory to deploy to Hugging Face Spaces (https://huggingface.co/spaces)\n"
          ]
        },
        {
          "output_type": "display_data",
          "data": {
            "text/plain": [
              "<IPython.core.display.HTML object>"
            ],
            "text/html": [
              "<div><iframe src=\"https://42522a660fda95c34b.gradio.live\" width=\"100%\" height=\"500\" allow=\"autoplay; camera; microphone; clipboard-read; clipboard-write;\" frameborder=\"0\" allowfullscreen></iframe></div>"
            ]
          },
          "metadata": {}
        },
        {
          "output_type": "stream",
          "name": "stdout",
          "text": [
            "Keyboard interruption in main thread... closing server.\n",
            "Killing tunnel 127.0.0.1:7861 <> https://42522a660fda95c34b.gradio.live\n"
          ]
        },
        {
          "output_type": "execute_result",
          "data": {
            "text/plain": []
          },
          "metadata": {},
          "execution_count": 39
        }
      ]
    }
  ]
}